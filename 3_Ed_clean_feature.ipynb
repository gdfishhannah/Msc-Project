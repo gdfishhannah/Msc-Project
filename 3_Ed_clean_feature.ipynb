{
 "cells": [
  {
   "cell_type": "code",
   "execution_count": 68,
   "metadata": {},
   "outputs": [
    {
     "name": "stdout",
     "output_type": "stream",
     "text": [
      "Once deleted, variables cannot be recovered. Proceed (y/[n])? y\n"
     ]
    }
   ],
   "source": [
    "%reset"
   ]
  },
  {
   "cell_type": "code",
   "execution_count": 69,
   "metadata": {
    "collapsed": true
   },
   "outputs": [],
   "source": [
    "import numpy as np # linear algebra\n",
    "import pandas as pd # data processing, CSV file I/O (e.g. pd.read_csv)\n",
    "import os\n",
    "import gc\n",
    "import matplotlib.pyplot as plt\n",
    "import seaborn as sns\n",
    "%matplotlib inline"
   ]
  },
  {
   "cell_type": "code",
   "execution_count": 70,
   "metadata": {
    "collapsed": true
   },
   "outputs": [],
   "source": [
    "# X_train = pd.read_csv('x_train')\n",
    "# X_test = pd.read_csv('x_test')\n",
    "# y_train = pd.read_csv('y_train')\n",
    "# y_test = pd.read_csv('y_test')"
   ]
  },
  {
   "cell_type": "code",
   "execution_count": 71,
   "metadata": {
    "collapsed": true
   },
   "outputs": [],
   "source": [
    "# X_train.head()"
   ]
  },
  {
   "cell_type": "code",
   "execution_count": 72,
   "metadata": {},
   "outputs": [
    {
     "name": "stderr",
     "output_type": "stream",
     "text": [
      "/Users/apple/anaconda/lib/python3.6/site-packages/IPython/core/interactiveshell.py:2717: DtypeWarning: Columns (16) have mixed types. Specify dtype option on import or set low_memory=False.\n",
      "  interactivity=interactivity, compiler=compiler, result=result)\n"
     ]
    }
   ],
   "source": [
    "x = pd.read_csv('Ed Sheeran.txt')"
   ]
  },
  {
   "cell_type": "code",
   "execution_count": 73,
   "metadata": {
    "collapsed": true
   },
   "outputs": [],
   "source": [
    "x = x.dropna(axis = 1,how = 'all')"
   ]
  },
  {
   "cell_type": "code",
   "execution_count": 74,
   "metadata": {
    "collapsed": true
   },
   "outputs": [],
   "source": [
    "x = x.drop(['artist_name','track_id','track_name','album_name','track_artists','country_code'], axis = 1)"
   ]
  },
  {
   "cell_type": "code",
   "execution_count": 75,
   "metadata": {},
   "outputs": [
    {
     "name": "stdout",
     "output_type": "stream",
     "text": [
      "<class 'pandas.core.frame.DataFrame'>\n",
      "RangeIndex: 7560087 entries, 0 to 7560086\n",
      "Data columns (total 21 columns):\n",
      "day                  object\n",
      "log_time             object\n",
      "mobile               object\n",
      "isrc                 object\n",
      "upc                  int64\n",
      "customer_id          object\n",
      "postal_code          object\n",
      "access               object\n",
      "gender               object\n",
      "birth_year           float64\n",
      "filename             object\n",
      "region_code          object\n",
      "partner_name         object\n",
      "financial_product    object\n",
      "user_product_type    object\n",
      "stream_length        float64\n",
      "stream_source        object\n",
      "stream_source_uri    object\n",
      "stream_device        object\n",
      "stream_os            object\n",
      "track_uri            object\n",
      "dtypes: float64(2), int64(1), object(18)\n",
      "memory usage: 1.2+ GB\n"
     ]
    }
   ],
   "source": [
    "x.info()"
   ]
  },
  {
   "cell_type": "code",
   "execution_count": 66,
   "metadata": {},
   "outputs": [
    {
     "data": {
      "text/plain": [
       "Thinking Out Loud    1477885\n",
       "Don't                 778764\n",
       "Sing                  683952\n",
       "I See Fire            538473\n",
       "Photograph            457014\n",
       "Name: track_name, dtype: int64"
      ]
     },
     "execution_count": 66,
     "metadata": {},
     "output_type": "execute_result"
    }
   ],
   "source": [
    "x['track_name'].value_counts().head()"
   ]
  },
  {
   "cell_type": "code",
   "execution_count": 62,
   "metadata": {},
   "outputs": [
    {
     "data": {
      "text/plain": [
       "64d51a38e3174f38b6281da105116f83    1477873\n",
       "2a2077154970405e911825b969115dfe     687297\n",
       "b20bdc7434554c25a29a860e3f71e5a5     538473\n",
       "dd97432e1af94d3a9ff6a3f734056881     512829\n",
       "3810fa7b8cad45bcb7fa987c0b0e7eef     457014\n",
       "Name: track_id, dtype: int64"
      ]
     },
     "execution_count": 62,
     "metadata": {},
     "output_type": "execute_result"
    }
   ],
   "source": [
    "x['track_id'].value_counts().head()"
   ]
  },
  {
   "cell_type": "code",
   "execution_count": 65,
   "metadata": {},
   "outputs": [
    {
     "data": {
      "text/plain": [
       "spotify:track:34gCuhDGsG4bRPIf9bb02f    1477873\n",
       "spotify:track:1huvTbEYtgltjQRXzrNKGi     687297\n",
       "spotify:track:5pY3ovFxbvAg7reGZjJQSp     538473\n",
       "spotify:track:6K8qKeWo5MsFED7wCR6Kop     512829\n",
       "spotify:track:1HNkqx9Ahdgi1Ixy2xkKkL     457014\n",
       "Name: track_uri, dtype: int64"
      ]
     },
     "execution_count": 65,
     "metadata": {},
     "output_type": "execute_result"
    }
   ],
   "source": [
    "x['track_uri'].value_counts().head()"
   ]
  },
  {
   "cell_type": "code",
   "execution_count": 76,
   "metadata": {},
   "outputs": [
    {
     "data": {
      "text/plain": [
       "GBAHS1400099    1477885\n",
       "GBAHS1400090     778764\n",
       "GBAHS1400082     683952\n",
       "GBAHS1400104     538473\n",
       "GBAHS1400094     457014\n",
       "Name: isrc, dtype: int64"
      ]
     },
     "execution_count": 76,
     "metadata": {},
     "output_type": "execute_result"
    }
   ],
   "source": [
    "x['isrc'].value_counts().head()"
   ]
  },
  {
   "cell_type": "code",
   "execution_count": 77,
   "metadata": {},
   "outputs": [
    {
     "data": {
      "text/plain": [
       "d2c71dfe8915c28775657b35b05a633c    0.000542\n",
       "9f4dc2d5ae894f62824897fa70a102be    0.000512\n",
       "5a3e865a8d33b52b661dc2e664fb3332    0.000320\n",
       "8ada2c1517a5293d7e17159d6b809f40    0.000318\n",
       "bb64f8b72b2381b290199b4e0fb5dfba    0.000313\n",
       "Name: customer_id, dtype: float64"
      ]
     },
     "execution_count": 77,
     "metadata": {},
     "output_type": "execute_result"
    }
   ],
   "source": [
    "x['customer_id'].value_counts(normalize=True).head()"
   ]
  },
  {
   "cell_type": "code",
   "execution_count": 78,
   "metadata": {},
   "outputs": [
    {
     "data": {
      "text/plain": [
       "2015-01-05    0.036058\n",
       "2015-01-06    0.035005\n",
       "2015-01-03    0.034911\n",
       "2015-01-02    0.034882\n",
       "2015-01-10    0.034751\n",
       "Name: day, dtype: float64"
      ]
     },
     "execution_count": 78,
     "metadata": {},
     "output_type": "execute_result"
    }
   ],
   "source": [
    "x['day'].value_counts(normalize=True).head()"
   ]
  },
  {
   "cell_type": "code",
   "execution_count": 79,
   "metadata": {},
   "outputs": [
    {
     "data": {
      "text/plain": [
       "t    0.580159\n",
       "f    0.419841\n",
       "Name: mobile, dtype: float64"
      ]
     },
     "execution_count": 79,
     "metadata": {},
     "output_type": "execute_result"
    }
   ],
   "source": [
    "x['mobile'].value_counts(normalize=True)"
   ]
  },
  {
   "cell_type": "code",
   "execution_count": 80,
   "metadata": {},
   "outputs": [
    {
     "data": {
      "text/plain": [
       "20150105T16:30:00    5418\n",
       "20150105T16:45:00    5407\n",
       "20150107T17:00:00    5396\n",
       "20150107T16:45:00    5326\n",
       "20150106T17:15:00    5320\n",
       "Name: log_time, dtype: int64"
      ]
     },
     "execution_count": 80,
     "metadata": {},
     "output_type": "execute_result"
    }
   ],
   "source": [
    "x['log_time'].value_counts().head()"
   ]
  },
  {
   "cell_type": "code",
   "execution_count": 81,
   "metadata": {
    "collapsed": true
   },
   "outputs": [],
   "source": [
    "time = x['log_time']\n",
    "time_s = time.str.split('T')\n",
    "log_hour = []\n",
    "for i in time_s:\n",
    "    log_hour.append(i[1].split(':')[0])\n",
    "del time"
   ]
  },
  {
   "cell_type": "code",
   "execution_count": 103,
   "metadata": {
    "collapsed": true
   },
   "outputs": [],
   "source": [
    "x['log_hour'] = log_hour"
   ]
  },
  {
   "cell_type": "code",
   "execution_count": 82,
   "metadata": {
    "collapsed": true
   },
   "outputs": [],
   "source": [
    "x = x.drop('log_time',1)"
   ]
  },
  {
   "cell_type": "code",
   "execution_count": 83,
   "metadata": {
    "scrolled": true
   },
   "outputs": [
    {
     "data": {
      "text/plain": [
       "premium          5792331\n",
       "free             1588702\n",
       "basic-desktop     178939\n",
       "deleted              115\n",
       "Name: access, dtype: int64"
      ]
     },
     "execution_count": 83,
     "metadata": {},
     "output_type": "execute_result"
    }
   ],
   "source": [
    "x['access'].value_counts()"
   ]
  },
  {
   "cell_type": "code",
   "execution_count": 84,
   "metadata": {},
   "outputs": [
    {
     "data": {
      "text/plain": [
       "1990.0    524163\n",
       "1991.0    393117\n",
       "1992.0    387291\n",
       "1989.0    358287\n",
       "1994.0    344995\n",
       "Name: birth_year, dtype: int64"
      ]
     },
     "execution_count": 84,
     "metadata": {},
     "output_type": "execute_result"
    }
   ],
   "source": [
    "x['birth_year'].value_counts().head()"
   ]
  },
  {
   "cell_type": "code",
   "execution_count": 85,
   "metadata": {
    "collapsed": true
   },
   "outputs": [],
   "source": [
    "x = x.drop('filename',1)"
   ]
  },
  {
   "cell_type": "code",
   "execution_count": 86,
   "metadata": {},
   "outputs": [
    {
     "data": {
      "text/plain": [
       "vodafone-uk    360324\n",
       "times-uk        33107\n",
       "boku            26036\n",
       "sonos             212\n",
       "virgin-uk         151\n",
       "panasonic           3\n",
       "Name: partner_name, dtype: int64"
      ]
     },
     "execution_count": 86,
     "metadata": {},
     "output_type": "execute_result"
    }
   ],
   "source": [
    "x['partner_name'].value_counts()"
   ]
  },
  {
   "cell_type": "code",
   "execution_count": 87,
   "metadata": {},
   "outputs": [
    {
     "data": {
      "text/plain": [
       "student          793902\n",
       "hardbundle       320487\n",
       "standalone        96903\n",
       "7N                26924\n",
       "promo             22611\n",
       "30Y               17252\n",
       "family-sub        10661\n",
       "family-master      2247\n",
       "voucher             212\n",
       "Name: financial_product, dtype: int64"
      ]
     },
     "execution_count": 87,
     "metadata": {},
     "output_type": "execute_result"
    }
   ],
   "source": [
    "x['financial_product'].value_counts()"
   ]
  },
  {
   "cell_type": "code",
   "execution_count": 88,
   "metadata": {},
   "outputs": [
    {
     "data": {
      "text/plain": [
       "paid       5290432\n",
       "ad         1588702\n",
       "partner     393797\n",
       "trial        44176\n",
       "Name: user_product_type, dtype: int64"
      ]
     },
     "execution_count": 88,
     "metadata": {},
     "output_type": "execute_result"
    }
   ],
   "source": [
    "x['user_product_type'].value_counts()"
   ]
  },
  {
   "cell_type": "code",
   "execution_count": 89,
   "metadata": {},
   "outputs": [
    {
     "data": {
      "text/plain": [
       "282.0    1161115\n",
       "220.0     720148\n",
       "259.0     576113\n",
       "235.0     573878\n",
       "299.0     435459\n",
       "Name: stream_length, dtype: int64"
      ]
     },
     "execution_count": 89,
     "metadata": {},
     "output_type": "execute_result"
    }
   ],
   "source": [
    "x['stream_length'].value_counts().head()"
   ]
  },
  {
   "cell_type": "code",
   "execution_count": 90,
   "metadata": {},
   "outputs": [
    {
     "data": {
      "text/plain": [
       "collection         3232100\n",
       "other              1419721\n",
       "others_playlist    1299893\n",
       "artist              882358\n",
       "album               572963\n",
       "search              153052\n",
       "Name: stream_source, dtype: int64"
      ]
     },
     "execution_count": 90,
     "metadata": {},
     "output_type": "execute_result"
    }
   ],
   "source": [
    "x['stream_source'].value_counts()"
   ]
  },
  {
   "cell_type": "code",
   "execution_count": 91,
   "metadata": {},
   "outputs": [
    {
     "data": {
      "text/plain": [
       "spotify:user:spotify:playlist:18pDbI9hwBndkj04AmqkuS        479737\n",
       "spotify:user:topsify:playlist:1QM1qz09ZzsAPiXphF1l4S        152361\n",
       "spotify:user:spotify:playlist:4hOKQuZbraPDIfaGbM3lKI        104669\n",
       "spotify:user:spotify_uk_:playlist:6FfOZSAN3N6u7v81uS7mxZ     79560\n",
       "spotify:user:spotify:playlist:5FJXhjdILmRA2z5bvz4nzf         61177\n",
       "Name: stream_source_uri, dtype: int64"
      ]
     },
     "execution_count": 91,
     "metadata": {},
     "output_type": "execute_result"
    }
   ],
   "source": [
    "x['stream_source_uri'].value_counts().head()#need to consider use or not"
   ]
  },
  {
   "cell_type": "code",
   "execution_count": 104,
   "metadata": {},
   "outputs": [
    {
     "name": "stdout",
     "output_type": "stream",
     "text": [
      "<class 'pandas.core.frame.DataFrame'>\n",
      "RangeIndex: 7560087 entries, 0 to 7560086\n",
      "Data columns (total 20 columns):\n",
      "day                  object\n",
      "mobile               object\n",
      "isrc                 object\n",
      "upc                  int64\n",
      "customer_id          object\n",
      "postal_code          object\n",
      "access               object\n",
      "gender               object\n",
      "birth_year           float64\n",
      "region_code          object\n",
      "partner_name         object\n",
      "financial_product    object\n",
      "user_product_type    object\n",
      "stream_length        float64\n",
      "stream_source        object\n",
      "stream_source_uri    object\n",
      "stream_device        object\n",
      "stream_os            object\n",
      "track_uri            object\n",
      "log_hour             object\n",
      "dtypes: float64(2), int64(1), object(17)\n",
      "memory usage: 1.1+ GB\n"
     ]
    }
   ],
   "source": [
    "x.info()"
   ]
  },
  {
   "cell_type": "code",
   "execution_count": 105,
   "metadata": {},
   "outputs": [
    {
     "data": {
      "text/plain": [
       "day                                                         2015-01-01\n",
       "mobile                                                               t\n",
       "isrc                                                      GBAHS1400394\n",
       "upc                                                       825646191055\n",
       "customer_id                           5db46e163f3bc4d887177cdefef51f04\n",
       "postal_code                                                         KT\n",
       "access                                                         premium\n",
       "gender                                                            male\n",
       "birth_year                                                        1991\n",
       "region_code                                                     GB-SRY\n",
       "partner_name                                                       NaN\n",
       "financial_product                                                  NaN\n",
       "user_product_type                                                 paid\n",
       "stream_length                                                       98\n",
       "stream_source                                          others_playlist\n",
       "stream_source_uri    spotify:user:digsterdeutschland:playlist:0uxHE...\n",
       "stream_device                                                   mobile\n",
       "stream_os                                                          iOS\n",
       "track_uri                         spotify:track:2B7YyjVl7dmgvnOhdZefqV\n",
       "log_hour                                                            01\n",
       "Name: 1, dtype: object"
      ]
     },
     "execution_count": 105,
     "metadata": {},
     "output_type": "execute_result"
    }
   ],
   "source": [
    "x.iloc[1]"
   ]
  },
  {
   "cell_type": "code",
   "execution_count": 93,
   "metadata": {},
   "outputs": [
    {
     "data": {
      "text/plain": [
       "mobile     3554971\n",
       "desktop    3174035\n",
       "tablet      831081\n",
       "Name: stream_device, dtype: int64"
      ]
     },
     "execution_count": 93,
     "metadata": {},
     "output_type": "execute_result"
    }
   ],
   "source": [
    "x['stream_device'].value_counts()"
   ]
  },
  {
   "cell_type": "code",
   "execution_count": 94,
   "metadata": {},
   "outputs": [
    {
     "data": {
      "text/plain": [
       "iOS              3338222\n",
       "Windows          1616707\n",
       "Android           997831\n",
       "Mac               839147\n",
       "other             619290\n",
       "Browser            74553\n",
       "Windows Phone      49085\n",
       "Linux              24202\n",
       "Blackberry           822\n",
       "Wine                 136\n",
       "Symbian               92\n",
       "Name: stream_os, dtype: int64"
      ]
     },
     "execution_count": 94,
     "metadata": {},
     "output_type": "execute_result"
    }
   ],
   "source": [
    "x['stream_os'].value_counts()"
   ]
  },
  {
   "cell_type": "code",
   "execution_count": 95,
   "metadata": {},
   "outputs": [
    {
     "data": {
      "text/plain": [
       "spotify:track:34gCuhDGsG4bRPIf9bb02f    1477873\n",
       "spotify:track:1huvTbEYtgltjQRXzrNKGi     687297\n",
       "spotify:track:5pY3ovFxbvAg7reGZjJQSp     538473\n",
       "spotify:track:6K8qKeWo5MsFED7wCR6Kop     512829\n",
       "spotify:track:1HNkqx9Ahdgi1Ixy2xkKkL     457014\n",
       "Name: track_uri, dtype: int64"
      ]
     },
     "execution_count": 95,
     "metadata": {},
     "output_type": "execute_result"
    }
   ],
   "source": [
    "x['track_uri'].value_counts().head()"
   ]
  },
  {
   "cell_type": "code",
   "execution_count": 96,
   "metadata": {},
   "outputs": [
    {
     "data": {
      "text/plain": [
       "825646284535    5766508\n",
       "825646658398    1028330\n",
       "825646288328     171123\n",
       "825646621651     137697\n",
       "825646252978      91467\n",
       "Name: upc, dtype: int64"
      ]
     },
     "execution_count": 96,
     "metadata": {},
     "output_type": "execute_result"
    }
   ],
   "source": [
    "x['upc'].value_counts().head()"
   ]
  },
  {
   "cell_type": "code",
   "execution_count": 97,
   "metadata": {},
   "outputs": [
    {
     "data": {
      "text/plain": [
       "GBAHS1400099    1477885\n",
       "GBAHS1400090     778764\n",
       "GBAHS1400082     683952\n",
       "GBAHS1400104     538473\n",
       "GBAHS1400094     457014\n",
       "Name: isrc, dtype: int64"
      ]
     },
     "execution_count": 97,
     "metadata": {},
     "output_type": "execute_result"
    }
   ],
   "source": [
    "x['isrc'].value_counts().head()"
   ]
  },
  {
   "cell_type": "code",
   "execution_count": 106,
   "metadata": {
    "collapsed": true
   },
   "outputs": [],
   "source": [
    "x.to_csv('clean_Ed.txt',index = False)"
   ]
  },
  {
   "cell_type": "code",
   "execution_count": null,
   "metadata": {
    "collapsed": true
   },
   "outputs": [],
   "source": []
  }
 ],
 "metadata": {
  "anaconda-cloud": {},
  "kernelspec": {
   "display_name": "Python 3",
   "language": "python",
   "name": "python3"
  },
  "language_info": {
   "codemirror_mode": {
    "name": "ipython",
    "version": 3
   },
   "file_extension": ".py",
   "mimetype": "text/x-python",
   "name": "python",
   "nbconvert_exporter": "python",
   "pygments_lexer": "ipython3",
   "version": "3.6.1"
  }
 },
 "nbformat": 4,
 "nbformat_minor": 1
}
