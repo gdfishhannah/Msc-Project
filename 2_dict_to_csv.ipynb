{
 "cells": [
  {
   "cell_type": "code",
   "execution_count": 1,
   "metadata": {
    "collapsed": true
   },
   "outputs": [],
   "source": [
    "import numpy as np\n",
    "import pandas as pd\n",
    "import time"
   ]
  },
  {
   "cell_type": "code",
   "execution_count": 2,
   "metadata": {
    "collapsed": true
   },
   "outputs": [],
   "source": [
    "path = 'return_dict_1/'"
   ]
  },
  {
   "cell_type": "code",
   "execution_count": 3,
   "metadata": {
    "collapsed": true
   },
   "outputs": [],
   "source": [
    "# file = np.load(path+'return_dict_0.npy').item()"
   ]
  },
  {
   "cell_type": "code",
   "execution_count": 4,
   "metadata": {
    "collapsed": true
   },
   "outputs": [],
   "source": [
    "# file['Buck 65'].to_csv('/media/hannah/98E82C57E82C35C2/Users/Hannah/Documents/artist/'+str('Buck 65')+'.txt',mode = 'a',header=False,index=False)"
   ]
  },
  {
   "cell_type": "code",
   "execution_count": 5,
   "metadata": {
    "collapsed": true
   },
   "outputs": [],
   "source": [
    "# list(file.keys())[0:10]"
   ]
  },
  {
   "cell_type": "code",
   "execution_count": 6,
   "metadata": {
    "collapsed": true
   },
   "outputs": [],
   "source": [
    "class time_est():\n",
    "    def __init__(self, total_len):\n",
    "        self.t_start = time.time()\n",
    "        self.total_len = total_len\n",
    "        self.count = 0\n",
    "        self.t_ref = time.time()\n",
    "    \n",
    "    def check(self,no_of_check=1,info=\"\"):\n",
    "        self.count += no_of_check\n",
    "        if time.time() - self.t_ref > 1:\n",
    "            t_used = time.time() - self.t_start\n",
    "            t_total = t_used * self.total_len / self.count\n",
    "            t_remain = t_total - t_used\n",
    "            process_bar = \"|\"\n",
    "            for i in range(40):\n",
    "                if (i/40) < (self.count/self.total_len):\n",
    "                    process_bar += \"█\"\n",
    "                else:\n",
    "                    process_bar += \" \"\n",
    "            process_bar += \"|\"\n",
    "            print(\"\\r\" + (str(info) + \"  {:.2f}% ({}/{})\\t\".format(self.count * 100/self.total_len, self.count,self.total_len)) + str(process_bar).ljust(45) + \"Used: {:02.0f}:{:02.0f}:{:02.0f}\".format(int(t_used/3600), int(t_used/60)%60, t_used % 60).ljust(16) + \"ETA: {:02.0f}:{:02.0f}:{:02.0f}\".format(int(t_remain/3600), int(t_remain/60)%60, t_remain % 60),end=\"\")\n",
    "            self.t_ref = time.time()\n",
    "        if self.count == self.total_len:\n",
    "            t_used = time.time() - self.t_start\n",
    "            print(\"\\r\" + str(info) + \"  Finished in \" +\"{:02.0f}:{:02.0f}:{:02.0f}\".format(int(t_used/3600), int(t_used/60)%60, t_used % 60).ljust(100))"
   ]
  },
  {
   "cell_type": "code",
   "execution_count": 8,
   "metadata": {},
   "outputs": [],
   "source": [
    "import os\n",
    "all_file = os.listdir('return_dict_1')"
   ]
  },
  {
   "cell_type": "code",
   "execution_count": 10,
   "metadata": {},
   "outputs": [
    {
     "name": "stdout",
     "output_type": "stream",
     "text": [
      "  Finished in 04:30:37                                                                                            \n"
     ]
    }
   ],
   "source": [
    "artist_path = 'artist_jan/' \n",
    "est = time_est(len(all_file))\n",
    "for num in range(len(all_file)):\n",
    "#     print(num)\n",
    "    file = np.load(path+'return_dict_' + str(num) + '.npy').item()\n",
    "    for i in list(file.keys()):\n",
    "    #         try:\n",
    "    #             chunk.loc[chunk['artist_name']==str(i)].to_hdf(artist_path+str(i)+'.h5',key = chunk_no, append = True,header=False,index=False)\n",
    "        try:\n",
    "            file[i].to_csv(artist_path+str(i)+'.txt',mode = 'a',header=False,index=False)\n",
    "        except (FileNotFoundError,OSError):\n",
    "            file[i].to_csv(artist_path+'error_artist'+'.txt',mode = 'a',header=False,index=False)\n",
    "    est.check()"
   ]
  },
  {
   "cell_type": "code",
   "execution_count": 11,
   "metadata": {
    "collapsed": true
   },
   "outputs": [],
   "source": [
    "path = 'return_dict_2/'\n",
    "all_file = os.listdir('return_dict_2')"
   ]
  },
  {
   "cell_type": "code",
   "execution_count": 12,
   "metadata": {},
   "outputs": [
    {
     "name": "stdout",
     "output_type": "stream",
     "text": [
      "  Finished in 01:41:07                                                                                            \n"
     ]
    }
   ],
   "source": [
    "artist_path = 'artist_jan/' \n",
    "est = time_est(len(all_file))\n",
    "for num in range(len(all_file)):\n",
    "#     print(num)\n",
    "    file = np.load(path+'return_dict_' + str(num) + '.npy').item()\n",
    "    for i in list(file.keys()):\n",
    "    #         try:\n",
    "    #             chunk.loc[chunk['artist_name']==str(i)].to_hdf(artist_path+str(i)+'.h5',key = chunk_no, append = True,header=False,index=False)\n",
    "        try:\n",
    "            file[i].to_csv(artist_path+str(i)+'.txt',mode = 'a',header=False,index=False)\n",
    "        except (FileNotFoundError,OSError):\n",
    "            file[i].to_csv(artist_path+'error_artist'+'.txt',mode = 'a',header=False,index=False)\n",
    "    est.check()"
   ]
  },
  {
   "cell_type": "code",
   "execution_count": null,
   "metadata": {
    "collapsed": true
   },
   "outputs": [],
   "source": []
  }
 ],
 "metadata": {
  "kernelspec": {
   "display_name": "Python 3",
   "language": "python",
   "name": "python3"
  },
  "language_info": {
   "codemirror_mode": {
    "name": "ipython",
    "version": 3
   },
   "file_extension": ".py",
   "mimetype": "text/x-python",
   "name": "python",
   "nbconvert_exporter": "python",
   "pygments_lexer": "ipython3",
   "version": "3.6.1"
  }
 },
 "nbformat": 4,
 "nbformat_minor": 2
}
