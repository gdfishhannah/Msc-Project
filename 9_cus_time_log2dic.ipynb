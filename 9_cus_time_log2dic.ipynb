{
 "cells": [
  {
   "cell_type": "code",
   "execution_count": 1,
   "metadata": {
    "collapsed": true
   },
   "outputs": [],
   "source": [
    "import pandas as pd\n",
    "import numpy as np\n",
    "import time\n",
    "import os\n",
    "import collections\n",
    "from XFLib import *\n",
    "# class time_est():\n",
    "#     def __init__(self, total_len):\n",
    "#         self.t_start = time.time()\n",
    "#         self.total_len = total_len\n",
    "#         self.count = 0\n",
    "#         self.t_ref = time.time()\n",
    "    \n",
    "#     def check(self,no_of_check=1,info=\"\"):\n",
    "#         self.count += no_of_check\n",
    "#         if time.time() - self.t_ref > 1:\n",
    "#             t_used = time.time() - self.t_start\n",
    "#             t_total = t_used * self.total_len / self.count\n",
    "#             t_remain = t_total - t_used\n",
    "#             process_bar = \"|\"\n",
    "#             for i in range(40):\n",
    "#                 if (i/40) < (self.count/self.total_len):\n",
    "#                     process_bar += \"█\"\n",
    "#                 else:\n",
    "#                     process_bar += \" \"\n",
    "#             process_bar += \"|\"\n",
    "#             print(\"\\r\" + (str(info) + \"  {:.2f}% ({}/{})\\t\".format(self.count * 100/self.total_len, self.count,self.total_len)) + str(process_bar).ljust(45) + \"Used: {:02.0f}:{:02.0f}:{:02.0f}\".format(int(t_used/3600), int(t_used/60)%60, t_used % 60).ljust(16) + \"ETA: {:02.0f}:{:02.0f}:{:02.0f}\".format(int(t_remain/3600), int(t_remain/60)%60, t_remain % 60),end=\"\")\n",
    "#             self.t_ref = time.time()\n",
    "#         if self.count == self.total_len:\n",
    "#             t_used = time.time() - self.t_start\n",
    "#             print(\"\\r\" + str(info) + \"  Finished in \" +\"{:02.0f}:{:02.0f}:{:02.0f}\".format(int(t_used/3600), int(t_used/60)%60, t_used % 60).ljust(100))"
   ]
  },
  {
   "cell_type": "code",
   "execution_count": 2,
   "metadata": {
    "collapsed": true
   },
   "outputs": [],
   "source": [
    "path = 'i2v_sep/'\n",
    "file = os.listdir(path)"
   ]
  },
  {
   "cell_type": "code",
   "execution_count": 3,
   "metadata": {},
   "outputs": [
    {
     "name": "stdout",
     "output_type": "stream",
     "text": [
      "Finished in 00:26:59                                                                                            \n"
     ]
    }
   ],
   "source": [
    "customer_id_dict = collections.defaultdict()\n",
    "est = time_est(len(file))\n",
    "for i in file:\n",
    "    df = pd.read_csv(path+i, low_memory = False)\n",
    "    df = df.drop('Unnamed: 0',1)\n",
    "    df = df[df['day']!='day']\n",
    "    df['hour'] = [int(x) for x in df['hour']]\n",
    "    df['minute'] = [int(x) for x in df['minute']]\n",
    "    df = df.sort_values(['hour','minute'])\n",
    "    df = df[df['artist_name']!='Various Artists']\n",
    "    df_np = np.array(df)\n",
    "    for customer_id, artist_name, _, _, _ in df_np:\n",
    "        try:\n",
    "            customer_id_dict[customer_id].append(artist_name)\n",
    "        except:\n",
    "            customer_id_dict[customer_id] = []\n",
    "            customer_id_dict[customer_id].append(artist_name)\n",
    "    est.check()"
   ]
  },
  {
   "cell_type": "code",
   "execution_count": 4,
   "metadata": {},
   "outputs": [
    {
     "data": {
      "text/plain": [
       "Ed Sheeran                                                                     983568\n",
       "David Guetta                                                                   272640\n",
       "Coldplay                                                                       245570\n",
       "Clean Bandit                                                                   230972\n",
       "Paolo Nutini                                                                   130822\n",
       "Vance Joy                                                                      112625\n",
       "Red Hot Chili Peppers                                                          103934\n",
       "Nico & Vinz                                                                    102628\n",
       "Fleetwood Mac                                                                   98474\n",
       "Bruno Mars                                                                      90198\n",
       "Linkin Park                                                                     87057\n",
       "LILLYWOOD & Robin Schulz                                                        85538\n",
       "Paramore                                                                        83263\n",
       "Oliver Heldens                                                                  83248\n",
       "Green Day                                                                       79532\n",
       "David Bowie                                                                     78274\n",
       "Pink Floyd                                                                      77169\n",
       "Flo Rida                                                                        74811\n",
       "Royal Blood                                                                     73847\n",
       "Blonde                                                                          72631\n",
       "James Blunt                                                                     70637\n",
       "Muse                                                                            64007\n",
       "Echosmith                                                                       63802\n",
       "The Smiths                                                                      62946\n",
       "Jason Derulo                                                                    62375\n",
       "Slipknot                                                                        59557\n",
       "Macklemore & Ryan Lewis                                                         59279\n",
       "My Chemical Romance                                                             58238\n",
       "Nickelback                                                                      55661\n",
       "Led Zeppelin                                                                    55226\n",
       "                                                                                ...  \n",
       "Second Chances & New Romances                                                       1\n",
       "Yehudi Menuhin/Sir Edward Elgar                                                     1\n",
       "CITY                                                                                1\n",
       "Mega 'Lo Mania                                                                      1\n",
       "An Der Beat                                                                         1\n",
       "Coco De Mer                                                                         1\n",
       "Cupid featuring Aubrey                                                              1\n",
       "บันทึก คอนเสิร์ต มนต์เพลงคาราบาว                                                    1\n",
       "Don Airey                                                                           1\n",
       "Bobby Lewis                                                                         1\n",
       "Den Kongelige Livgardes Musikkorps / The Royal Life Guards                          1\n",
       "Patricia Petibon                                                                    1\n",
       "Steven Isserlis/Maggie Cole                                                         1\n",
       "La Sonora de Margarita                                                              1\n",
       "Mickey 3.0                                                                          1\n",
       "Isle Blanc                                                                          1\n",
       "Rodriguez & Donell                                                                  1\n",
       "Nigel Kennedy/Sinfonieorchester des Norddeutschen Rundfunks/Klaus Tennstedt         1\n",
       "Chips                                                                               1\n",
       "North Mississippi Allstars                                                          1\n",
       "Dancehall Divas                                                                     1\n",
       "The Aquatones                                                                       1\n",
       "The Big I Am                                                                        1\n",
       "Taito Tikaro                                                                        1\n",
       "Romane Serda                                                                        1\n",
       "Saltwater Band                                                                      1\n",
       "Piano Red                                                                           1\n",
       "Glassbyrd                                                                           1\n",
       "Jakob Ilja                                                                          1\n",
       "Melingo                                                                             1\n",
       "Name: artist_name, Length: 13694, dtype: int64"
      ]
     },
     "execution_count": 4,
     "metadata": {},
     "output_type": "execute_result"
    }
   ],
   "source": [
    "df['artist_name'].value_counts()"
   ]
  },
  {
   "cell_type": "code",
   "execution_count": 5,
   "metadata": {
    "collapsed": true
   },
   "outputs": [],
   "source": [
    "np.save('customer_id_dict.npy', customer_id_dict)"
   ]
  },
  {
   "cell_type": "code",
   "execution_count": 6,
   "metadata": {
    "collapsed": true
   },
   "outputs": [],
   "source": [
    "artist_info = list(customer_id_dict.values())"
   ]
  },
  {
   "cell_type": "code",
   "execution_count": 7,
   "metadata": {},
   "outputs": [
    {
     "data": {
      "text/plain": [
       "4425980"
      ]
     },
     "execution_count": 7,
     "metadata": {},
     "output_type": "execute_result"
    }
   ],
   "source": [
    "len(artist_info)"
   ]
  },
  {
   "cell_type": "code",
   "execution_count": 8,
   "metadata": {
    "collapsed": true
   },
   "outputs": [],
   "source": [
    "import gensim"
   ]
  },
  {
   "cell_type": "code",
   "execution_count": 9,
   "metadata": {
    "collapsed": true
   },
   "outputs": [],
   "source": [
    "model = gensim.models.Word2Vec(artist_info, size=100, window=5, min_count=5, workers=4)"
   ]
  },
  {
   "cell_type": "code",
   "execution_count": 10,
   "metadata": {
    "collapsed": true
   },
   "outputs": [],
   "source": [
    "model.save('i2v/i2v')"
   ]
  },
  {
   "cell_type": "code",
   "execution_count": 102,
   "metadata": {},
   "outputs": [
    {
     "data": {
      "text/plain": [
       "[('Transformers: Revenge Of The Fallen Soundtrack', 0.6466086506843567),\n",
       " ('LINKIN PARK', 0.6428512930870056),\n",
       " ('Jay-Z', 0.6170141100883484),\n",
       " ('Busta Rhymes feat. Linkin Park', 0.5231870412826538),\n",
       " ('LINKIN PARK x STEVE AOKI', 0.4748544692993164),\n",
       " ('P.O.D.', 0.44549843668937683),\n",
       " ('Trapt', 0.44295287132263184),\n",
       " ('Egypt Central', 0.42924609780311584),\n",
       " ('Transformers - The Album', 0.4272550940513611),\n",
       " ('Dead By Sunrise', 0.41367942094802856)]"
      ]
     },
     "execution_count": 102,
     "metadata": {},
     "output_type": "execute_result"
    }
   ],
   "source": [
    "model.most_similar('Linkin Park')"
   ]
  },
  {
   "cell_type": "code",
   "execution_count": null,
   "metadata": {
    "collapsed": true
   },
   "outputs": [],
   "source": []
  },
  {
   "cell_type": "code",
   "execution_count": null,
   "metadata": {
    "collapsed": true
   },
   "outputs": [],
   "source": []
  },
  {
   "cell_type": "code",
   "execution_count": null,
   "metadata": {
    "collapsed": true
   },
   "outputs": [],
   "source": []
  },
  {
   "cell_type": "code",
   "execution_count": null,
   "metadata": {
    "collapsed": true
   },
   "outputs": [],
   "source": []
  },
  {
   "cell_type": "code",
   "execution_count": null,
   "metadata": {
    "collapsed": true
   },
   "outputs": [],
   "source": []
  }
 ],
 "metadata": {
  "kernelspec": {
   "display_name": "Python 3",
   "language": "python",
   "name": "python3"
  },
  "language_info": {
   "codemirror_mode": {
    "name": "ipython",
    "version": 3
   },
   "file_extension": ".py",
   "mimetype": "text/x-python",
   "name": "python",
   "nbconvert_exporter": "python",
   "pygments_lexer": "ipython3",
   "version": "3.6.1"
  }
 },
 "nbformat": 4,
 "nbformat_minor": 2
}
