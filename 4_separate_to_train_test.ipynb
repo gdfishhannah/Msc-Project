{
 "cells": [
  {
   "cell_type": "code",
   "execution_count": 1,
   "metadata": {},
   "outputs": [
    {
     "name": "stdout",
     "output_type": "stream",
     "text": [
      "Once deleted, variables cannot be recovered. Proceed (y/[n])? y\n"
     ]
    }
   ],
   "source": [
    "%reset"
   ]
  },
  {
   "cell_type": "code",
   "execution_count": 2,
   "metadata": {
    "collapsed": true
   },
   "outputs": [],
   "source": [
    "import numpy as np # linear algebra\n",
    "import pandas as pd # data processing, CSV file I/O (e.g. pd.read_csv)\n",
    "import os\n",
    "import gc\n",
    "import matplotlib.pyplot as plt\n",
    "import seaborn as sns\n",
    "%matplotlib inline"
   ]
  },
  {
   "cell_type": "code",
   "execution_count": 3,
   "metadata": {
    "collapsed": true
   },
   "outputs": [],
   "source": [
    "# header = ['day',\n",
    "#  'log_time',\n",
    "#  'mobile',\n",
    "#  'track_id',\n",
    "#  'isrc',\n",
    "#  'upc',\n",
    "#  'artist_name',\n",
    "#  'track_name',\n",
    "#  'album_name',\n",
    "#  'customer_id',\n",
    "#  'postal_code',\n",
    "#  'access',\n",
    "#  'country_code',\n",
    "#  'gender',\n",
    "#  'birth_year',\n",
    "#  'filename',\n",
    "#  'region_code',\n",
    "#  'referral_code',\n",
    "#  'partner_name',\n",
    "#  'financial_product',\n",
    "#  'user_product_type',\n",
    "#  'offline_timestamp',\n",
    "#  'stream_length',\n",
    "#  'stream_cached',\n",
    "#  'stream_source',\n",
    "#  'stream_source_uri',\n",
    "#  'stream_device',\n",
    "#  'stream_os',\n",
    "#  'track_uri',\n",
    "#  'track_artists',\n",
    "#  'source']"
   ]
  },
  {
   "cell_type": "code",
   "execution_count": 4,
   "metadata": {},
   "outputs": [
    {
     "name": "stderr",
     "output_type": "stream",
     "text": [
      "/Users/apple/anaconda/lib/python3.6/site-packages/IPython/core/interactiveshell.py:2717: DtypeWarning: Columns (9) have mixed types. Specify dtype option on import or set low_memory=False.\n",
      "  interactivity=interactivity, compiler=compiler, result=result)\n"
     ]
    }
   ],
   "source": [
    "# path = '../data/artist/'\n",
    "ed_df = pd.read_csv('clean_Ed.txt')"
   ]
  },
  {
   "cell_type": "code",
   "execution_count": 5,
   "metadata": {},
   "outputs": [
    {
     "name": "stdout",
     "output_type": "stream",
     "text": [
      "<class 'pandas.core.frame.DataFrame'>\n",
      "RangeIndex: 7560087 entries, 0 to 7560086\n",
      "Data columns (total 20 columns):\n",
      "day                  object\n",
      "mobile               object\n",
      "isrc                 object\n",
      "upc                  int64\n",
      "customer_id          object\n",
      "postal_code          object\n",
      "access               object\n",
      "gender               object\n",
      "birth_year           float64\n",
      "region_code          object\n",
      "partner_name         object\n",
      "financial_product    object\n",
      "user_product_type    object\n",
      "stream_length        float64\n",
      "stream_source        object\n",
      "stream_source_uri    object\n",
      "stream_device        object\n",
      "stream_os            object\n",
      "track_uri            object\n",
      "log_hour             int64\n",
      "dtypes: float64(2), int64(2), object(16)\n",
      "memory usage: 1.1+ GB\n"
     ]
    }
   ],
   "source": [
    "ed_df.info()"
   ]
  },
  {
   "cell_type": "code",
   "execution_count": 6,
   "metadata": {},
   "outputs": [
    {
     "data": {
      "text/plain": [
       "GB-LND    146982\n",
       "GB-SRY     20434\n",
       "GB-MAN     16224\n",
       "GB-GLG     15382\n",
       "GB-BIR     14796\n",
       "Name: region_code, dtype: int64"
      ]
     },
     "execution_count": 6,
     "metadata": {},
     "output_type": "execute_result"
    }
   ],
   "source": [
    "ed_df['region_code'].value_counts().head()"
   ]
  },
  {
   "cell_type": "code",
   "execution_count": 7,
   "metadata": {},
   "outputs": [
    {
     "data": {
      "text/plain": [
       "SW    238139\n",
       "BT    129635\n",
       "SE    128926\n",
       "GU    120662\n",
       "RG    120415\n",
       "Name: postal_code, dtype: int64"
      ]
     },
     "execution_count": 7,
     "metadata": {},
     "output_type": "execute_result"
    }
   ],
   "source": [
    "ed_df['postal_code'].value_counts().head()"
   ]
  },
  {
   "cell_type": "code",
   "execution_count": 8,
   "metadata": {
    "collapsed": true
   },
   "outputs": [],
   "source": [
    "y = ed_df['postal_code']"
   ]
  },
  {
   "cell_type": "code",
   "execution_count": 9,
   "metadata": {
    "collapsed": true
   },
   "outputs": [],
   "source": [
    "x = ed_df.drop('postal_code',1)"
   ]
  },
  {
   "cell_type": "code",
   "execution_count": 10,
   "metadata": {
    "scrolled": true
   },
   "outputs": [
    {
     "data": {
      "text/html": [
       "<div>\n",
       "<style>\n",
       "    .dataframe thead tr:only-child th {\n",
       "        text-align: right;\n",
       "    }\n",
       "\n",
       "    .dataframe thead th {\n",
       "        text-align: left;\n",
       "    }\n",
       "\n",
       "    .dataframe tbody tr th {\n",
       "        vertical-align: top;\n",
       "    }\n",
       "</style>\n",
       "<table border=\"1\" class=\"dataframe\">\n",
       "  <thead>\n",
       "    <tr style=\"text-align: right;\">\n",
       "      <th></th>\n",
       "      <th>day</th>\n",
       "      <th>mobile</th>\n",
       "      <th>isrc</th>\n",
       "      <th>upc</th>\n",
       "      <th>customer_id</th>\n",
       "      <th>access</th>\n",
       "      <th>gender</th>\n",
       "      <th>birth_year</th>\n",
       "      <th>region_code</th>\n",
       "      <th>partner_name</th>\n",
       "      <th>financial_product</th>\n",
       "      <th>user_product_type</th>\n",
       "      <th>stream_length</th>\n",
       "      <th>stream_source</th>\n",
       "      <th>stream_source_uri</th>\n",
       "      <th>stream_device</th>\n",
       "      <th>stream_os</th>\n",
       "      <th>track_uri</th>\n",
       "      <th>log_hour</th>\n",
       "    </tr>\n",
       "  </thead>\n",
       "  <tbody>\n",
       "    <tr>\n",
       "      <th>0</th>\n",
       "      <td>2015-01-01</td>\n",
       "      <td>t</td>\n",
       "      <td>GBAHS1400394</td>\n",
       "      <td>825646191055</td>\n",
       "      <td>f308645315d96242d687570c44c6f495</td>\n",
       "      <td>premium</td>\n",
       "      <td>female</td>\n",
       "      <td>1994.0</td>\n",
       "      <td>GB-EDH</td>\n",
       "      <td>NaN</td>\n",
       "      <td>student</td>\n",
       "      <td>paid</td>\n",
       "      <td>43.0</td>\n",
       "      <td>others_playlist</td>\n",
       "      <td>spotify:user:digster.co.uk:playlist:7rMAjKtZIK...</td>\n",
       "      <td>mobile</td>\n",
       "      <td>iOS</td>\n",
       "      <td>spotify:track:2B7YyjVl7dmgvnOhdZefqV</td>\n",
       "      <td>23</td>\n",
       "    </tr>\n",
       "    <tr>\n",
       "      <th>1</th>\n",
       "      <td>2015-01-01</td>\n",
       "      <td>t</td>\n",
       "      <td>GBAHS1400394</td>\n",
       "      <td>825646191055</td>\n",
       "      <td>5db46e163f3bc4d887177cdefef51f04</td>\n",
       "      <td>premium</td>\n",
       "      <td>male</td>\n",
       "      <td>1991.0</td>\n",
       "      <td>GB-SRY</td>\n",
       "      <td>NaN</td>\n",
       "      <td>NaN</td>\n",
       "      <td>paid</td>\n",
       "      <td>98.0</td>\n",
       "      <td>others_playlist</td>\n",
       "      <td>spotify:user:digsterdeutschland:playlist:0uxHE...</td>\n",
       "      <td>mobile</td>\n",
       "      <td>iOS</td>\n",
       "      <td>spotify:track:2B7YyjVl7dmgvnOhdZefqV</td>\n",
       "      <td>1</td>\n",
       "    </tr>\n",
       "    <tr>\n",
       "      <th>2</th>\n",
       "      <td>2015-01-01</td>\n",
       "      <td>f</td>\n",
       "      <td>GBAHS1400394</td>\n",
       "      <td>825646191055</td>\n",
       "      <td>10c468756d826728ee445c7a5530f2a2</td>\n",
       "      <td>free</td>\n",
       "      <td>female</td>\n",
       "      <td>1992.0</td>\n",
       "      <td>GB-POR</td>\n",
       "      <td>NaN</td>\n",
       "      <td>NaN</td>\n",
       "      <td>ad</td>\n",
       "      <td>96.0</td>\n",
       "      <td>others_playlist</td>\n",
       "      <td>spotify:user:digster.co.uk:playlist:7rMAjKtZIK...</td>\n",
       "      <td>desktop</td>\n",
       "      <td>Windows</td>\n",
       "      <td>spotify:track:2B7YyjVl7dmgvnOhdZefqV</td>\n",
       "      <td>18</td>\n",
       "    </tr>\n",
       "    <tr>\n",
       "      <th>3</th>\n",
       "      <td>2015-01-01</td>\n",
       "      <td>t</td>\n",
       "      <td>GBAHS1400394</td>\n",
       "      <td>825646191055</td>\n",
       "      <td>8ea2191942f4bd36ea8ecb4a6c74308f</td>\n",
       "      <td>premium</td>\n",
       "      <td>male</td>\n",
       "      <td>1964.0</td>\n",
       "      <td>GB-GLG</td>\n",
       "      <td>NaN</td>\n",
       "      <td>NaN</td>\n",
       "      <td>paid</td>\n",
       "      <td>40.0</td>\n",
       "      <td>collection</td>\n",
       "      <td>NaN</td>\n",
       "      <td>mobile</td>\n",
       "      <td>iOS</td>\n",
       "      <td>spotify:track:2B7YyjVl7dmgvnOhdZefqV</td>\n",
       "      <td>2</td>\n",
       "    </tr>\n",
       "    <tr>\n",
       "      <th>4</th>\n",
       "      <td>2015-01-01</td>\n",
       "      <td>t</td>\n",
       "      <td>GBAHS1400394</td>\n",
       "      <td>825646191055</td>\n",
       "      <td>d33ca42a736ed17ca3cbe952906e797a</td>\n",
       "      <td>premium</td>\n",
       "      <td>male</td>\n",
       "      <td>1995.0</td>\n",
       "      <td>GB-ABE</td>\n",
       "      <td>NaN</td>\n",
       "      <td>NaN</td>\n",
       "      <td>paid</td>\n",
       "      <td>250.0</td>\n",
       "      <td>collection</td>\n",
       "      <td>NaN</td>\n",
       "      <td>tablet</td>\n",
       "      <td>iOS</td>\n",
       "      <td>spotify:track:2B7YyjVl7dmgvnOhdZefqV</td>\n",
       "      <td>19</td>\n",
       "    </tr>\n",
       "  </tbody>\n",
       "</table>\n",
       "</div>"
      ],
      "text/plain": [
       "          day mobile          isrc           upc  \\\n",
       "0  2015-01-01      t  GBAHS1400394  825646191055   \n",
       "1  2015-01-01      t  GBAHS1400394  825646191055   \n",
       "2  2015-01-01      f  GBAHS1400394  825646191055   \n",
       "3  2015-01-01      t  GBAHS1400394  825646191055   \n",
       "4  2015-01-01      t  GBAHS1400394  825646191055   \n",
       "\n",
       "                        customer_id   access  gender  birth_year region_code  \\\n",
       "0  f308645315d96242d687570c44c6f495  premium  female      1994.0      GB-EDH   \n",
       "1  5db46e163f3bc4d887177cdefef51f04  premium    male      1991.0      GB-SRY   \n",
       "2  10c468756d826728ee445c7a5530f2a2     free  female      1992.0      GB-POR   \n",
       "3  8ea2191942f4bd36ea8ecb4a6c74308f  premium    male      1964.0      GB-GLG   \n",
       "4  d33ca42a736ed17ca3cbe952906e797a  premium    male      1995.0      GB-ABE   \n",
       "\n",
       "  partner_name financial_product user_product_type  stream_length  \\\n",
       "0          NaN           student              paid           43.0   \n",
       "1          NaN               NaN              paid           98.0   \n",
       "2          NaN               NaN                ad           96.0   \n",
       "3          NaN               NaN              paid           40.0   \n",
       "4          NaN               NaN              paid          250.0   \n",
       "\n",
       "     stream_source                                  stream_source_uri  \\\n",
       "0  others_playlist  spotify:user:digster.co.uk:playlist:7rMAjKtZIK...   \n",
       "1  others_playlist  spotify:user:digsterdeutschland:playlist:0uxHE...   \n",
       "2  others_playlist  spotify:user:digster.co.uk:playlist:7rMAjKtZIK...   \n",
       "3       collection                                                NaN   \n",
       "4       collection                                                NaN   \n",
       "\n",
       "  stream_device stream_os                             track_uri  log_hour  \n",
       "0        mobile       iOS  spotify:track:2B7YyjVl7dmgvnOhdZefqV        23  \n",
       "1        mobile       iOS  spotify:track:2B7YyjVl7dmgvnOhdZefqV         1  \n",
       "2       desktop   Windows  spotify:track:2B7YyjVl7dmgvnOhdZefqV        18  \n",
       "3        mobile       iOS  spotify:track:2B7YyjVl7dmgvnOhdZefqV         2  \n",
       "4        tablet       iOS  spotify:track:2B7YyjVl7dmgvnOhdZefqV        19  "
      ]
     },
     "execution_count": 10,
     "metadata": {},
     "output_type": "execute_result"
    }
   ],
   "source": [
    "x.head()"
   ]
  },
  {
   "cell_type": "code",
   "execution_count": 11,
   "metadata": {},
   "outputs": [
    {
     "data": {
      "text/plain": [
       "7560087"
      ]
     },
     "execution_count": 11,
     "metadata": {},
     "output_type": "execute_result"
    }
   ],
   "source": [
    "len(x)"
   ]
  },
  {
   "cell_type": "code",
   "execution_count": 12,
   "metadata": {},
   "outputs": [
    {
     "data": {
      "text/plain": [
       "7560087"
      ]
     },
     "execution_count": 12,
     "metadata": {},
     "output_type": "execute_result"
    }
   ],
   "source": [
    "len(y)"
   ]
  },
  {
   "cell_type": "code",
   "execution_count": 13,
   "metadata": {},
   "outputs": [
    {
     "data": {
      "text/plain": [
       "premium          5792331\n",
       "free             1588702\n",
       "basic-desktop     178939\n",
       "deleted              115\n",
       "Name: access, dtype: int64"
      ]
     },
     "execution_count": 13,
     "metadata": {},
     "output_type": "execute_result"
    }
   ],
   "source": [
    "x['access'].value_counts()"
   ]
  },
  {
   "cell_type": "code",
   "execution_count": 14,
   "metadata": {
    "collapsed": true
   },
   "outputs": [],
   "source": [
    "x = pd.concat([x,pd.get_dummies(x['access']).head()],axis = 1)"
   ]
  },
  {
   "cell_type": "code",
   "execution_count": 15,
   "metadata": {
    "collapsed": true
   },
   "outputs": [],
   "source": [
    "x = x.drop('access', 1)"
   ]
  },
  {
   "cell_type": "code",
   "execution_count": 16,
   "metadata": {
    "collapsed": true
   },
   "outputs": [],
   "source": [
    "x['mobile']=x['mobile'].replace('t',1)\n",
    "x['mobile']=x['mobile'].replace('f',0)"
   ]
  },
  {
   "cell_type": "code",
   "execution_count": 17,
   "metadata": {
    "collapsed": true
   },
   "outputs": [],
   "source": [
    "x['gender']=x['gender'].replace('female',0)\n",
    "x['gender']=x['gender'].replace('male',1)"
   ]
  },
  {
   "cell_type": "code",
   "execution_count": 18,
   "metadata": {},
   "outputs": [
    {
     "data": {
      "text/plain": [
       "7560087"
      ]
     },
     "execution_count": 18,
     "metadata": {},
     "output_type": "execute_result"
    }
   ],
   "source": [
    "len(x)"
   ]
  },
  {
   "cell_type": "code",
   "execution_count": 19,
   "metadata": {
    "collapsed": true
   },
   "outputs": [],
   "source": [
    "x = pd.concat([x,pd.get_dummies(x['track_uri']).head()],axis = 1)\n",
    "x = x.drop('track_uri',1)"
   ]
  },
  {
   "cell_type": "code",
   "execution_count": 21,
   "metadata": {},
   "outputs": [
    {
     "data": {
      "text/plain": [
       "7560087"
      ]
     },
     "execution_count": 21,
     "metadata": {},
     "output_type": "execute_result"
    }
   ],
   "source": [
    "len(x)"
   ]
  },
  {
   "cell_type": "code",
   "execution_count": 22,
   "metadata": {},
   "outputs": [
    {
     "data": {
      "text/plain": [
       "7560087"
      ]
     },
     "execution_count": 22,
     "metadata": {},
     "output_type": "execute_result"
    }
   ],
   "source": [
    "len(y)"
   ]
  },
  {
   "cell_type": "code",
   "execution_count": null,
   "metadata": {
    "collapsed": true
   },
   "outputs": [],
   "source": [
    "x['isrc'].value_counts()"
   ]
  },
  {
   "cell_type": "code",
   "execution_count": null,
   "metadata": {
    "collapsed": true
   },
   "outputs": [],
   "source": [
    "x['upc'].value_counts()"
   ]
  },
  {
   "cell_type": "code",
   "execution_count": null,
   "metadata": {
    "collapsed": true
   },
   "outputs": [],
   "source": []
  },
  {
   "cell_type": "code",
   "execution_count": null,
   "metadata": {
    "collapsed": true
   },
   "outputs": [],
   "source": []
  },
  {
   "cell_type": "code",
   "execution_count": null,
   "metadata": {
    "collapsed": true
   },
   "outputs": [],
   "source": []
  },
  {
   "cell_type": "code",
   "execution_count": null,
   "metadata": {
    "collapsed": true
   },
   "outputs": [],
   "source": []
  },
  {
   "cell_type": "code",
   "execution_count": null,
   "metadata": {
    "collapsed": true
   },
   "outputs": [],
   "source": [
    "y = y.get_dummies()"
   ]
  },
  {
   "cell_type": "code",
   "execution_count": 25,
   "metadata": {},
   "outputs": [
    {
     "ename": "KeyboardInterrupt",
     "evalue": "",
     "output_type": "error",
     "traceback": [
      "\u001b[0;31m---------------------------------------------------------------------------\u001b[0m",
      "\u001b[0;31mKeyboardInterrupt\u001b[0m                         Traceback (most recent call last)",
      "\u001b[0;32m<ipython-input-25-6d78c8eab2ac>\u001b[0m in \u001b[0;36m<module>\u001b[0;34m()\u001b[0m\n\u001b[0;32m----> 1\u001b[0;31m \u001b[0mx\u001b[0m\u001b[0;34m.\u001b[0m\u001b[0mto_csv\u001b[0m\u001b[0;34m(\u001b[0m\u001b[0;34m'check_point'\u001b[0m\u001b[0;34m,\u001b[0m\u001b[0mindex\u001b[0m \u001b[0;34m=\u001b[0m \u001b[0;32mFalse\u001b[0m\u001b[0;34m)\u001b[0m\u001b[0;34m\u001b[0m\u001b[0m\n\u001b[0m",
      "\u001b[0;32m/Users/apple/anaconda/lib/python3.6/site-packages/pandas/core/frame.py\u001b[0m in \u001b[0;36mto_csv\u001b[0;34m(self, path_or_buf, sep, na_rep, float_format, columns, header, index, index_label, mode, encoding, compression, quoting, quotechar, line_terminator, chunksize, tupleize_cols, date_format, doublequote, escapechar, decimal)\u001b[0m\n\u001b[1;32m   1411\u001b[0m                                      \u001b[0mdoublequote\u001b[0m\u001b[0;34m=\u001b[0m\u001b[0mdoublequote\u001b[0m\u001b[0;34m,\u001b[0m\u001b[0;34m\u001b[0m\u001b[0m\n\u001b[1;32m   1412\u001b[0m                                      escapechar=escapechar, decimal=decimal)\n\u001b[0;32m-> 1413\u001b[0;31m         \u001b[0mformatter\u001b[0m\u001b[0;34m.\u001b[0m\u001b[0msave\u001b[0m\u001b[0;34m(\u001b[0m\u001b[0;34m)\u001b[0m\u001b[0;34m\u001b[0m\u001b[0m\n\u001b[0m\u001b[1;32m   1414\u001b[0m \u001b[0;34m\u001b[0m\u001b[0m\n\u001b[1;32m   1415\u001b[0m         \u001b[0;32mif\u001b[0m \u001b[0mpath_or_buf\u001b[0m \u001b[0;32mis\u001b[0m \u001b[0;32mNone\u001b[0m\u001b[0;34m:\u001b[0m\u001b[0;34m\u001b[0m\u001b[0m\n",
      "\u001b[0;32m/Users/apple/anaconda/lib/python3.6/site-packages/pandas/io/formats/format.py\u001b[0m in \u001b[0;36msave\u001b[0;34m(self)\u001b[0m\n\u001b[1;32m   1581\u001b[0m                 \u001b[0mself\u001b[0m\u001b[0;34m.\u001b[0m\u001b[0mwriter\u001b[0m \u001b[0;34m=\u001b[0m \u001b[0mcsv\u001b[0m\u001b[0;34m.\u001b[0m\u001b[0mwriter\u001b[0m\u001b[0;34m(\u001b[0m\u001b[0mf\u001b[0m\u001b[0;34m,\u001b[0m \u001b[0;34m**\u001b[0m\u001b[0mwriter_kwargs\u001b[0m\u001b[0;34m)\u001b[0m\u001b[0;34m\u001b[0m\u001b[0m\n\u001b[1;32m   1582\u001b[0m \u001b[0;34m\u001b[0m\u001b[0m\n\u001b[0;32m-> 1583\u001b[0;31m             \u001b[0mself\u001b[0m\u001b[0;34m.\u001b[0m\u001b[0m_save\u001b[0m\u001b[0;34m(\u001b[0m\u001b[0;34m)\u001b[0m\u001b[0;34m\u001b[0m\u001b[0m\n\u001b[0m\u001b[1;32m   1584\u001b[0m \u001b[0;34m\u001b[0m\u001b[0m\n\u001b[1;32m   1585\u001b[0m         \u001b[0;32mfinally\u001b[0m\u001b[0;34m:\u001b[0m\u001b[0;34m\u001b[0m\u001b[0m\n",
      "\u001b[0;32m/Users/apple/anaconda/lib/python3.6/site-packages/pandas/io/formats/format.py\u001b[0m in \u001b[0;36m_save\u001b[0;34m(self)\u001b[0m\n\u001b[1;32m   1682\u001b[0m                 \u001b[0;32mbreak\u001b[0m\u001b[0;34m\u001b[0m\u001b[0m\n\u001b[1;32m   1683\u001b[0m \u001b[0;34m\u001b[0m\u001b[0m\n\u001b[0;32m-> 1684\u001b[0;31m             \u001b[0mself\u001b[0m\u001b[0;34m.\u001b[0m\u001b[0m_save_chunk\u001b[0m\u001b[0;34m(\u001b[0m\u001b[0mstart_i\u001b[0m\u001b[0;34m,\u001b[0m \u001b[0mend_i\u001b[0m\u001b[0;34m)\u001b[0m\u001b[0;34m\u001b[0m\u001b[0m\n\u001b[0m\u001b[1;32m   1685\u001b[0m \u001b[0;34m\u001b[0m\u001b[0m\n\u001b[1;32m   1686\u001b[0m     \u001b[0;32mdef\u001b[0m \u001b[0m_save_chunk\u001b[0m\u001b[0;34m(\u001b[0m\u001b[0mself\u001b[0m\u001b[0;34m,\u001b[0m \u001b[0mstart_i\u001b[0m\u001b[0;34m,\u001b[0m \u001b[0mend_i\u001b[0m\u001b[0;34m)\u001b[0m\u001b[0;34m:\u001b[0m\u001b[0;34m\u001b[0m\u001b[0m\n",
      "\u001b[0;32m/Users/apple/anaconda/lib/python3.6/site-packages/pandas/io/formats/format.py\u001b[0m in \u001b[0;36m_save_chunk\u001b[0;34m(self, start_i, end_i)\u001b[0m\n\u001b[1;32m   1708\u001b[0m                                         quoting=self.quoting)\n\u001b[1;32m   1709\u001b[0m \u001b[0;34m\u001b[0m\u001b[0m\n\u001b[0;32m-> 1710\u001b[0;31m         \u001b[0mlib\u001b[0m\u001b[0;34m.\u001b[0m\u001b[0mwrite_csv_rows\u001b[0m\u001b[0;34m(\u001b[0m\u001b[0mself\u001b[0m\u001b[0;34m.\u001b[0m\u001b[0mdata\u001b[0m\u001b[0;34m,\u001b[0m \u001b[0mix\u001b[0m\u001b[0;34m,\u001b[0m \u001b[0mself\u001b[0m\u001b[0;34m.\u001b[0m\u001b[0mnlevels\u001b[0m\u001b[0;34m,\u001b[0m \u001b[0mself\u001b[0m\u001b[0;34m.\u001b[0m\u001b[0mcols\u001b[0m\u001b[0;34m,\u001b[0m \u001b[0mself\u001b[0m\u001b[0;34m.\u001b[0m\u001b[0mwriter\u001b[0m\u001b[0;34m)\u001b[0m\u001b[0;34m\u001b[0m\u001b[0m\n\u001b[0m\u001b[1;32m   1711\u001b[0m \u001b[0;34m\u001b[0m\u001b[0m\n\u001b[1;32m   1712\u001b[0m \u001b[0;34m\u001b[0m\u001b[0m\n",
      "\u001b[0;32mpandas/_libs/lib.pyx\u001b[0m in \u001b[0;36mpandas._libs.lib.write_csv_rows (pandas/_libs/lib.c:19978)\u001b[0;34m()\u001b[0m\n",
      "\u001b[0;31mKeyboardInterrupt\u001b[0m: "
     ]
    }
   ],
   "source": [
    "x.to_csv('check_point',index = False)"
   ]
  },
  {
   "cell_type": "code",
   "execution_count": 20,
   "metadata": {
    "collapsed": true
   },
   "outputs": [],
   "source": [
    "from sklearn.model_selection import train_test_split"
   ]
  },
  {
   "cell_type": "code",
   "execution_count": null,
   "metadata": {
    "collapsed": true
   },
   "outputs": [],
   "source": [
    "x_train,x_test,y_train,y_test = train_test_split(x,y,test_size = 0.33,random_state = 34)"
   ]
  },
  {
   "cell_type": "code",
   "execution_count": null,
   "metadata": {
    "collapsed": true
   },
   "outputs": [],
   "source": [
    "x_train.to_csv('x_train',index = False)\n",
    "x_test.to_csv('x_test',index = False)\n",
    "y_train.to_csv('y_train',index = False)\n",
    "y_test.to_csv('y_test',index = False)"
   ]
  },
  {
   "cell_type": "code",
   "execution_count": null,
   "metadata": {
    "collapsed": true
   },
   "outputs": [],
   "source": []
  },
  {
   "cell_type": "code",
   "execution_count": null,
   "metadata": {
    "collapsed": true
   },
   "outputs": [],
   "source": []
  }
 ],
 "metadata": {
  "anaconda-cloud": {},
  "kernelspec": {
   "display_name": "Python 3",
   "language": "python",
   "name": "python3"
  },
  "language_info": {
   "codemirror_mode": {
    "name": "ipython",
    "version": 3
   },
   "file_extension": ".py",
   "mimetype": "text/x-python",
   "name": "python",
   "nbconvert_exporter": "python",
   "pygments_lexer": "ipython3",
   "version": "3.6.1"
  }
 },
 "nbformat": 4,
 "nbformat_minor": 1
}
