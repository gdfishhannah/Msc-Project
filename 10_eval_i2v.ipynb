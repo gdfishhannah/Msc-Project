{
 "cells": [
  {
   "cell_type": "code",
   "execution_count": 1,
   "metadata": {
    "collapsed": true
   },
   "outputs": [],
   "source": [
    "import pandas as pd\n",
    "import numpy as np\n",
    "import time\n",
    "import os\n",
    "import collections\n",
    "from XFLib import *\n",
    "# class time_est():\n",
    "#     def __init__(self, total_len):\n",
    "#         self.t_start = time.time()\n",
    "#         self.total_len = total_len\n",
    "#         self.count = 0\n",
    "#         self.t_ref = time.time()\n",
    "    \n",
    "#     def check(self,no_of_check=1,info=\"\"):\n",
    "#         self.count += no_of_check\n",
    "#         if time.time() - self.t_ref > 1:\n",
    "#             t_used = time.time() - self.t_start\n",
    "#             t_total = t_used * self.total_len / self.count\n",
    "#             t_remain = t_total - t_used\n",
    "#             process_bar = \"|\"\n",
    "#             for i in range(40):\n",
    "#                 if (i/40) < (self.count/self.total_len):\n",
    "#                     process_bar += \"█\"\n",
    "#                 else:\n",
    "#                     process_bar += \" \"\n",
    "#             process_bar += \"|\"\n",
    "#             print(\"\\r\" + (str(info) + \"  {:.2f}% ({}/{})\\t\".format(self.count * 100/self.total_len, self.count,self.total_len)) + str(process_bar).ljust(45) + \"Used: {:02.0f}:{:02.0f}:{:02.0f}\".format(int(t_used/3600), int(t_used/60)%60, t_used % 60).ljust(16) + \"ETA: {:02.0f}:{:02.0f}:{:02.0f}\".format(int(t_remain/3600), int(t_remain/60)%60, t_remain % 60),end=\"\")\n",
    "#             self.t_ref = time.time()\n",
    "#         if self.count == self.total_len:\n",
    "#             t_used = time.time() - self.t_start\n",
    "#             print(\"\\r\" + str(info) + \"  Finished in \" +\"{:02.0f}:{:02.0f}:{:02.0f}\".format(int(t_used/3600), int(t_used/60)%60, t_used % 60).ljust(100))"
   ]
  },
  {
   "cell_type": "code",
   "execution_count": 2,
   "metadata": {
    "collapsed": true
   },
   "outputs": [],
   "source": [
    "path = 'i2v_sep/'\n",
    "file = os.listdir(path)"
   ]
  },
  {
   "cell_type": "code",
   "execution_count": 5,
   "metadata": {},
   "outputs": [],
   "source": [
    "top_artist = np.load('eval/artist.npy')"
   ]
  },
  {
   "cell_type": "code",
   "execution_count": 7,
   "metadata": {},
   "outputs": [
    {
     "name": "stdout",
     "output_type": "stream",
     "text": [
      "Finished in 00:27:51                                                                                            \n"
     ]
    }
   ],
   "source": [
    "customer_id_dict = collections.defaultdict()\n",
    "est = time_est(len(file))\n",
    "for i in file:\n",
    "    df = pd.read_csv(path+i, low_memory = False)\n",
    "    df = df.drop('Unnamed: 0',1)\n",
    "    df = df[df['day']!='day']\n",
    "    df['hour'] = [int(x) for x in df['hour']]\n",
    "    df['minute'] = [int(x) for x in df['minute']]\n",
    "    df = df.sort_values(['hour','minute'])\n",
    "    df = df[df['artist_name'].isin(top_artist)]\n",
    "    df_np = np.array(df)\n",
    "    for customer_id, artist_name, _, _, _ in df_np:\n",
    "        try:\n",
    "            customer_id_dict[customer_id].append(artist_name)\n",
    "        except:\n",
    "            customer_id_dict[customer_id] = []\n",
    "            customer_id_dict[customer_id].append(artist_name)\n",
    "    est.check()"
   ]
  },
  {
   "cell_type": "code",
   "execution_count": null,
   "metadata": {
    "collapsed": true
   },
   "outputs": [],
   "source": []
  },
  {
   "cell_type": "code",
   "execution_count": 45,
   "metadata": {
    "scrolled": true
   },
   "outputs": [
    {
     "data": {
      "text/plain": [
       "99"
      ]
     },
     "execution_count": 45,
     "metadata": {},
     "output_type": "execute_result"
    }
   ],
   "source": [
    "len(df['artist_name'].value_counts())"
   ]
  },
  {
   "cell_type": "code",
   "execution_count": 9,
   "metadata": {
    "collapsed": true
   },
   "outputs": [],
   "source": [
    "np.save('eval/i2v_cus.npy', customer_id_dict)"
   ]
  },
  {
   "cell_type": "code",
   "execution_count": 11,
   "metadata": {
    "collapsed": true
   },
   "outputs": [],
   "source": [
    "artist_info = list(customer_id_dict.values())"
   ]
  },
  {
   "cell_type": "code",
   "execution_count": 12,
   "metadata": {},
   "outputs": [
    {
     "data": {
      "text/plain": [
       "3961520"
      ]
     },
     "execution_count": 12,
     "metadata": {},
     "output_type": "execute_result"
    }
   ],
   "source": [
    "len(artist_info)"
   ]
  },
  {
   "cell_type": "code",
   "execution_count": 16,
   "metadata": {
    "collapsed": true
   },
   "outputs": [],
   "source": [
    "import gensim"
   ]
  },
  {
   "cell_type": "code",
   "execution_count": 17,
   "metadata": {},
   "outputs": [],
   "source": [
    "model = gensim.models.Word2Vec(artist_info, size=100, window=5, min_count=5, workers=4)"
   ]
  },
  {
   "cell_type": "code",
   "execution_count": 22,
   "metadata": {},
   "outputs": [],
   "source": [
    "model.save('i2v/i2v_100')"
   ]
  },
  {
   "cell_type": "code",
   "execution_count": 20,
   "metadata": {},
   "outputs": [
    {
     "data": {
      "text/plain": [
       "[('Disturbed', 0.3888905942440033),\n",
       " ('Of Mice & Men', 0.3714606761932373),\n",
       " ('Skillet', 0.3460681736469269),\n",
       " ('Asking Alexandria', 0.34110310673713684),\n",
       " ('Enya', 0.3410044014453888),\n",
       " ('Iron Maiden', 0.3347916603088379),\n",
       " ('Avenged Sevenfold', 0.3299633860588074),\n",
       " ('The Streets', 0.32304951548576355),\n",
       " ('Pendulum', 0.320709228515625),\n",
       " ('Bring Me The Horizon', 0.3195466995239258)]"
      ]
     },
     "execution_count": 20,
     "metadata": {},
     "output_type": "execute_result"
    }
   ],
   "source": [
    "model.most_similar('Linkin Park')"
   ]
  },
  {
   "cell_type": "code",
   "execution_count": 24,
   "metadata": {},
   "outputs": [],
   "source": [
    "genres = np.load('eval/top100artistgenres.npy').item()"
   ]
  },
  {
   "cell_type": "code",
   "execution_count": 37,
   "metadata": {
    "collapsed": true
   },
   "outputs": [],
   "source": [
    "ip = 'Linkin Park'"
   ]
  },
  {
   "cell_type": "code",
   "execution_count": 41,
   "metadata": {},
   "outputs": [],
   "source": [
    "related = list(model.most_similar(ip))"
   ]
  },
  {
   "cell_type": "code",
   "execution_count": 42,
   "metadata": {},
   "outputs": [],
   "source": [
    "related = [x[0] for x in related]"
   ]
  },
  {
   "cell_type": "code",
   "execution_count": 43,
   "metadata": {},
   "outputs": [
    {
     "data": {
      "text/plain": [
       "['Disturbed',\n",
       " 'Of Mice & Men',\n",
       " 'Skillet',\n",
       " 'Asking Alexandria',\n",
       " 'Enya',\n",
       " 'Iron Maiden',\n",
       " 'Avenged Sevenfold',\n",
       " 'The Streets',\n",
       " 'Pendulum',\n",
       " 'Bring Me The Horizon']"
      ]
     },
     "execution_count": 43,
     "metadata": {},
     "output_type": "execute_result"
    }
   ],
   "source": [
    "related"
   ]
  },
  {
   "cell_type": "code",
   "execution_count": 44,
   "metadata": {},
   "outputs": [
    {
     "name": "stdout",
     "output_type": "stream",
     "text": [
      "0.8\n"
     ]
    }
   ],
   "source": [
    "ip_gen = genres[ip]\n",
    "\n",
    "count = 0\n",
    "for j in related:\n",
    "    for i in genres[j]:\n",
    "        if i in ip_gen:\n",
    "            count+=1\n",
    "            break\n",
    "print(count/10)"
   ]
  },
  {
   "cell_type": "code",
   "execution_count": null,
   "metadata": {
    "collapsed": true
   },
   "outputs": [],
   "source": []
  },
  {
   "cell_type": "code",
   "execution_count": 46,
   "metadata": {
    "collapsed": true
   },
   "outputs": [],
   "source": [
    "count = 0\n",
    "for i in top_artist:\n",
    "    related = list(model.most_similar(i))\n",
    "    related = [x[0] for x in related]\n",
    "    ip_gen = genres[ip]\n",
    "    for j in related:\n",
    "        for i in genres[j]:\n",
    "            if i in ip_gen:\n",
    "                count+=1\n",
    "                break"
   ]
  },
  {
   "cell_type": "code",
   "execution_count": 52,
   "metadata": {},
   "outputs": [
    {
     "data": {
      "text/plain": [
       "0.705"
      ]
     },
     "execution_count": 52,
     "metadata": {},
     "output_type": "execute_result"
    }
   ],
   "source": [
    "count/1000"
   ]
  },
  {
   "cell_type": "code",
   "execution_count": 53,
   "metadata": {},
   "outputs": [
    {
     "data": {
      "text/plain": [
       "100"
      ]
     },
     "execution_count": 53,
     "metadata": {},
     "output_type": "execute_result"
    }
   ],
   "source": [
    "len(top_artist)"
   ]
  },
  {
   "cell_type": "code",
   "execution_count": null,
   "metadata": {
    "collapsed": true
   },
   "outputs": [],
   "source": []
  }
 ],
 "metadata": {
  "kernelspec": {
   "display_name": "Python 3",
   "language": "python",
   "name": "python3"
  },
  "language_info": {
   "codemirror_mode": {
    "name": "ipython",
    "version": 3
   },
   "file_extension": ".py",
   "mimetype": "text/x-python",
   "name": "python",
   "nbconvert_exporter": "python",
   "pygments_lexer": "ipython3",
   "version": "3.6.1"
  }
 },
 "nbformat": 4,
 "nbformat_minor": 2
}
