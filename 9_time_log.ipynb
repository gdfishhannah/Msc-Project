{
 "cells": [
  {
   "cell_type": "code",
   "execution_count": 4,
   "metadata": {
    "collapsed": true
   },
   "outputs": [],
   "source": [
    "import pandas as pd\n",
    "import numpy as np\n",
    "import time\n",
    "import os\n",
    "from XFLib import time_est, MP"
   ]
  },
  {
   "cell_type": "code",
   "execution_count": null,
   "metadata": {
    "collapsed": true
   },
   "outputs": [],
   "source": []
  },
  {
   "cell_type": "code",
   "execution_count": 5,
   "metadata": {
    "collapsed": true
   },
   "outputs": [],
   "source": [
    "header = ['day',\n",
    " 'log_time',\n",
    " 'mobile',\n",
    " 'track_id',\n",
    " 'isrc',\n",
    " 'upc',\n",
    " 'artist_name',\n",
    " 'track_name',\n",
    " 'album_name',\n",
    " 'customer_id',\n",
    " 'postal_code',\n",
    " 'access',\n",
    " 'country_code',\n",
    " 'gender',\n",
    " 'birth_year',\n",
    " 'filename',\n",
    " 'region_code',\n",
    " 'referral_code',\n",
    " 'partner_name',\n",
    " 'financial_product',\n",
    " 'user_product_type',\n",
    " 'offline_timestamp',\n",
    " 'stream_length',\n",
    " 'stream_cached',\n",
    " 'stream_source',\n",
    " 'stream_source_uri',\n",
    " 'stream_device',\n",
    " 'stream_os',\n",
    " 'track_uri',\n",
    " 'track_artists',\n",
    " 'source']"
   ]
  },
  {
   "cell_type": "code",
   "execution_count": 7,
   "metadata": {
    "collapsed": true
   },
   "outputs": [],
   "source": [
    "data = '/media/hannah/UNTITLED/Warner_2015/201501 - part-m-001.gz'\n",
    "raw_data = pd.read_csv(data, compression = 'gzip', sep = '\\x01',error_bad_lines=False, chunksize = 10**4,names = header, low_memory = False)\n",
    "\n"
   ]
  },
  {
   "cell_type": "code",
   "execution_count": 8,
   "metadata": {
    "collapsed": true
   },
   "outputs": [],
   "source": [
    "for i in raw_data:\n",
    "    df = i\n",
    "    break"
   ]
  },
  {
   "cell_type": "code",
   "execution_count": 9,
   "metadata": {},
   "outputs": [
    {
     "data": {
      "text/plain": [
       "day                                            2015-01-30\n",
       "log_time                                20150130T20:45:00\n",
       "mobile                                                  t\n",
       "track_id                 200466ed488b4cd3ac45054eab8d1ff6\n",
       "isrc                                         GBAHS1300401\n",
       "upc                                          825646409891\n",
       "artist_name                                   James Blunt\n",
       "track_name                                      Hollywood\n",
       "album_name                                   Moon Landing\n",
       "customer_id              bd1c738c3c3991a0d3fb3cffc6dcfb0d\n",
       "postal_code                                            No\n",
       "access                                            premium\n",
       "country_code                                           GB\n",
       "gender                                             female\n",
       "birth_year                                           1995\n",
       "filename                           streams_20150130_GB.gz\n",
       "region_code                                           NaN\n",
       "referral_code                                         NaN\n",
       "partner_name                                  vodafone-uk\n",
       "financial_product                              hardbundle\n",
       "user_product_type                                 partner\n",
       "offline_timestamp                                     NaN\n",
       "stream_length                                         206\n",
       "stream_cached                                         NaN\n",
       "stream_source                                       album\n",
       "stream_source_uri                                     NaN\n",
       "stream_device                                      mobile\n",
       "stream_os                                             iOS\n",
       "track_uri            spotify:track:0YpLvjf44eYRWXrAq7LcPQ\n",
       "track_artists                                 James Blunt\n",
       "source                                                NaN\n",
       "Name: 0, dtype: object"
      ]
     },
     "execution_count": 9,
     "metadata": {},
     "output_type": "execute_result"
    }
   ],
   "source": [
    "i.iloc[0]"
   ]
  },
  {
   "cell_type": "code",
   "execution_count": 60,
   "metadata": {
    "scrolled": true
   },
   "outputs": [
    {
     "name": "stdout",
     "output_type": "stream",
     "text": [
      "\n",
      "4 process, 51 cpu, 0/4         \n",
      "0\n",
      "4 process, 51 cpu, 0/4         \n",
      "1\n",
      "4 process, 51 cpu, 0/4         \n",
      "2\n",
      "4 process, 51 cpu, 0/4         \n",
      "3\n",
      "4 process, 45 cpu, 0/4         \n",
      "4\n",
      "4 process, 50 cpu, 0/4         \n",
      "5\n",
      "4 process, 40 cpu, 0/4         \n",
      "6\n",
      "4 process, 49 cpu, 0/4         \n",
      "7\n",
      "4 process, 51 cpu, 0/4         \n",
      "8\n",
      "4 process, 51 cpu, 0/4         \n",
      "9\n",
      "4 process, 39 cpu, 0/4         \n",
      "10\n",
      "4 process, 49 cpu, 0/4         \n",
      "11\n",
      "4 process, 40 cpu, 0/4         \n",
      "12\n",
      "4 process, 52 cpu, 0/4         \n",
      "13\n",
      "4 process, 50 cpu, 0/4         \n",
      "14\n",
      "4 process, 51 cpu, 0/4         \n",
      "15\n",
      "4 process, 51 cpu, 0/4         \n",
      "16\n",
      "4 process, 51 cpu, 0/4         \n",
      "17\n",
      "4 process, 32 cpu, 0/4         \n",
      "18\n",
      "4 process, 49 cpu, 0/4         \n",
      "19\n",
      "4 process, 51 cpu, 0/4         \n",
      "20\n",
      "4 process, 51 cpu, 0/4         \n",
      "21\n",
      "4 process, 33 cpu, 0/4         \n",
      "22\n",
      "4 process, 47 cpu, 0/4         \n",
      "23\n",
      "4 process, 51 cpu, 0/4         \n",
      "24\n",
      "4 process, 51 cpu, 0/4         \n",
      "25\n",
      "4 process, 48 cpu, 0/4         \n",
      "26\n",
      "4 process, 49 cpu, 0/4         \n",
      "27\n",
      "4 process, 51 cpu, 0/4         \n",
      "28\n",
      "4 process, 51 cpu, 0/4         \n",
      "29\n",
      "4 process, 51 cpu, 0/4         \n",
      "30\n",
      "4 process, 49 cpu, 0/4         \n",
      "31\n",
      "4 process, 51 cpu, 0/4         \n",
      "32\n",
      "4 process, 51 cpu, 0/4         \n",
      "33\n",
      "4 process, 42 cpu, 0/4         \n",
      "34\n",
      "4 process, 49 cpu, 0/4         \n",
      "35\n",
      "4 process, 51 cpu, 0/4         \n",
      "36\n",
      "4 process, 51 cpu, 0/4         \n",
      "37\n",
      "4 process, 45 cpu, 0/4         \n",
      "38\n",
      "4 process, 51 cpu, 0/4         \n",
      "39\n",
      "4 process, 51 cpu, 0/4         \n",
      "40\n",
      "4 process, 49 cpu, 0/4         \n",
      "41\n",
      "4 process, 46 cpu, 0/4         \n",
      "42\n",
      "4 process, 49 cpu, 0/4         \n",
      "43\n",
      "4 process, 51 cpu, 0/4         \n",
      "44\n",
      "4 process, 49 cpu, 0/4         \n",
      "45\n",
      "4 process, 34 cpu, 0/4         \n",
      "46\n",
      "4 process, 49 cpu, 0/4         \n",
      "47\n",
      "4 process, 51 cpu, 0/4         \n",
      "48\n",
      "4 process, 51 cpu, 0/4         \n",
      "49\n",
      "4 process, 44 cpu, 0/4         \n",
      "50\n",
      "4 process, 51 cpu, 0/4         \n",
      "51\n",
      "4 process, 49 cpu, 0/4         \n",
      "52\n",
      "4 process, 51 cpu, 0/4         \n",
      "53\n",
      "4 process, 48 cpu, 0/4         \n",
      "54\n",
      "4 process, 52 cpu, 0/4         \n",
      "55\n",
      "4 process, 49 cpu, 0/4         \n",
      "56\n",
      "4 process, 51 cpu, 0/4         \n",
      "4 process, 48 cpu, 0/4         57\n",
      "4 process, 35 cpu, 0/4         \n",
      "58\n",
      "4 process, 54 cpu, 0/4         \n",
      "59\n",
      "4 process, 51 cpu, 0/4         \n",
      "60\n",
      "4 process, 53 cpu, 0/4         \n",
      "61\n",
      "4 process, 53 cpu, 0/4         \n",
      "62\n",
      "4 process, 52 cpu, 0/4         \n",
      "63\n",
      "4 process, 51 cpu, 0/4         \n",
      "64\n",
      "4 process, 52 cpu, 0/4         \n",
      "65\n",
      "4 process, 45 cpu, 0/4         \n",
      "66\n",
      "4 process, 50 cpu, 0/4         \n",
      "67\n",
      "4 process, 49 cpu, 0/4         \n",
      "68\n",
      "4 process, 50 cpu, 0/4         \n",
      "69\n",
      "4 process, 46 cpu, 0/4         \n",
      "70\n",
      "4 process, 51 cpu, 0/4         \n",
      "71\n",
      "4 process, 48 cpu, 0/4         \n",
      "72\n",
      "4 process, 51 cpu, 0/4         \n",
      "73\n",
      "4 process, 45 cpu, 0/4         \n",
      "74\n",
      "4 process, 42 cpu, 0/4         \n",
      "75\n",
      "4 process, 50 cpu, 0/4         \n",
      "76\n",
      "4 process, 51 cpu, 0/4         \n",
      "77\n",
      "4 process, 47 cpu, 0/4         \n",
      "78\n",
      "4 process, 52 cpu, 0/4         \n",
      "79\n",
      "4 process, 49 cpu, 0/4         \n",
      "80\n",
      "4 process, 52 cpu, 0/4         \n",
      "81\n",
      "4 process, 33 cpu, 0/4         \n",
      "82\n",
      "4 process, 44 cpu, 0/4         \n",
      "83\n",
      "4 process, 63 cpu, 0/4         \n",
      "84\n",
      "4 process, 64 cpu, 0/4         \n",
      "85\n",
      "4 process, 39 cpu, 0/4         \n",
      "86\n",
      "4 process, 13 cpu, 0/4         \n",
      "87\n",
      "4 process, 67 cpu, 0/4         \n",
      "88\n",
      "4 process, 53 cpu, 0/4         \n",
      "89\n",
      "4 process, 52 cpu, 0/4         \n",
      "90\n",
      "4 process, 32 cpu, 0/4         \n",
      "91\n",
      "4 process, 41 cpu, 0/4         \n",
      "92\n",
      "4 process, 45 cpu, 0/4         \n",
      "93\n",
      "4 process, 50 cpu, 0/4         \n",
      "94\n",
      "4 process, 51 cpu, 0/4         \n",
      "95\n",
      "4 process, 52 cpu, 0/4         \n",
      "96\n",
      "4 process, 49 cpu, 0/4         \n",
      "97\n",
      "4 process, 51 cpu, 0/4         \n",
      "98\n",
      "4 process, 63 cpu, 0/4         \n",
      "99\n",
      "4 process, 44 cpu, 0/4         \n",
      "100\n",
      "4 process, 49 cpu, 0/4         \n",
      "101\n",
      "4 process, 52 cpu, 0/4         \n",
      "102\n",
      "4 process, 50 cpu, 0/4         \n",
      "103\n",
      "4 process, 48 cpu, 0/4         \n",
      "104\n",
      "4 process, 48 cpu, 0/4         \n",
      "105\n",
      "4 process, 52 cpu, 0/4         \n",
      "106\n",
      "4 process, 49 cpu, 0/4         \n",
      "107\n",
      "4 process, 52 cpu, 0/4         \n",
      "108\n",
      "4 process, 50 cpu, 0/4         \n",
      "109\n",
      "4 process, 51 cpu, 0/4         \n",
      "110\n",
      "4 process, 62 cpu, 0/4         \n",
      "111\n",
      "4 process, 54 cpu, 0/4         \n",
      "112\n",
      "4 process, 50 cpu, 0/4         \n",
      "113\n",
      "4 process, 50 cpu, 0/4         \n",
      "114\n",
      "4 process, 51 cpu, 0/4         \n",
      "115\n",
      "4 process, 51 cpu, 0/4         \n",
      "116\n",
      "4 process, 50 cpu, 0/4         \n",
      "117\n",
      "4 process, 53 cpu, 0/4         \n",
      "118\n",
      "4 process, 52 cpu, 0/4         \n",
      "119\n",
      "4 process, 52 cpu, 0/4         \n",
      "120\n",
      "4 process, 63 cpu, 0/4         \n",
      "121\n",
      "4 process, 63 cpu, 0/4         \n",
      "122\n",
      "4 process, 64 cpu, 0/4         \n",
      "123\n",
      "4 process, 66 cpu, 0/4         \n",
      "124\n",
      "4 process, 49 cpu, 0/4         \n",
      "125\n",
      "4 process, 50 cpu, 0/4         \n",
      "126\n",
      "4 process, 51 cpu, 0/4         \n",
      "127\n",
      "4 process, 48 cpu, 0/4         \n",
      "128\n",
      "4 process, 42 cpu, 0/4         \n",
      "129\n",
      "4 process, 50 cpu, 0/4         \n",
      "130\n",
      "4 process, 52 cpu, 0/4         \n",
      "131\n",
      "4 process, 53 cpu, 0/4         \n",
      "132\n",
      "4 process, 34 cpu, 0/4         \n",
      "133\n",
      "4 process, 50 cpu, 0/4         \n",
      "134\n",
      "4 process, 50 cpu, 0/4         \n",
      "135\n",
      "4 process, 51 cpu, 0/4         \n",
      "136\n",
      "4 process, 40 cpu, 0/4         \n",
      "137\n",
      "4 process, 50 cpu, 0/4         \n",
      "138\n",
      "4 process, 51 cpu, 0/4         \n",
      "139\n",
      "4 process, 50 cpu, 0/4         \n",
      "140\n",
      "4 process, 44 cpu, 0/4         \n",
      "141\n",
      "4 process, 50 cpu, 0/4         \n",
      "142\n",
      "4 process, 49 cpu, 0/4         \n",
      "143\n",
      "4 process, 52 cpu, 0/4         \n",
      "144\n",
      "4 process, 49 cpu, 0/4         \n",
      "145\n",
      "4 process, 54 cpu, 0/4         \n",
      "146\n",
      "4 process, 54 cpu, 0/4         \n",
      "147\n",
      "4 process, 52 cpu, 0/4         \n",
      "148\n",
      "4 process, 37 cpu, 0/4         \n",
      "149\n",
      "4 process, 53 cpu, 0/4         \n",
      "150\n",
      "4 process, 53 cpu, 0/4         \n",
      "152\n",
      "\n",
      "151\n",
      "multi_read    Finished in 00:21:43                                                                                            \n"
     ]
    }
   ],
   "source": [
    "mp = MP()\n",
    "\n",
    "def multi_read(task):\n",
    "    count = 0\n",
    "    raw_data = pd.read_csv(data, compression = 'gzip', sep = '\\x01',error_bad_lines=False, chunksize = 10**6,names = header, low_memory = False)\n",
    "    for i in raw_data:\n",
    "        if count % 4 == task:\n",
    "            df = i\n",
    "            time = [x.split('T')[1] for x in df['log_time']]\n",
    "            new_df = pd.DataFrame()\n",
    "            new_df['customer_id'] = df['customer_id']\n",
    "            new_df['artist_name'] = df['artist_name']\n",
    "            new_df['day'] = [x.split('-')[-1] for x in df['day']]\n",
    "            new_df['hour'] = [x.split(':')[0] for x in time]\n",
    "            new_df['minute'] = [x.split(':')[1] for x in time]\n",
    "            new_df.to_csv('i2v_1/time_log_' + str(task) + '.csv',mode = 'a',index = False)\n",
    "            print(\"\")\n",
    "            print(count)\n",
    "        count += 1\n",
    "        \n",
    "for i in range(4):\n",
    "    mp.give([i])\n",
    "mp.run(multi_read)\n",
    "#     print(count)"
   ]
  },
  {
   "cell_type": "code",
   "execution_count": null,
   "metadata": {
    "collapsed": true
   },
   "outputs": [],
   "source": []
  },
  {
   "cell_type": "code",
   "execution_count": 54,
   "metadata": {
    "collapsed": true
   },
   "outputs": [],
   "source": [
    "for i in raw_data:\n",
    "#     if count % 8 == task:\n",
    "    df = i\n",
    "    time = [x.split('T')[1] for x in df['log_time']]\n",
    "    new_df = pd.DataFrame()\n",
    "    new_df['customer_id'] = df['customer_id']\n",
    "    new_df['artist_name'] = df['artist_name']\n",
    "    new_df['day'] = [x.split('-')[-1] for x in df['day']]\n",
    "    new_df['hour'] = [x.split(':')[0] for x in time]\n",
    "    new_df['minute'] = [x.split(':')[1] for x in time]\n",
    "#     new_df.to_csv('i2v/time_log_' + str(task) + '.csv',mode = 'a',index = False)\n",
    "    break"
   ]
  },
  {
   "cell_type": "code",
   "execution_count": null,
   "metadata": {
    "collapsed": true
   },
   "outputs": [],
   "source": []
  },
  {
   "cell_type": "code",
   "execution_count": 27,
   "metadata": {
    "collapsed": true
   },
   "outputs": [],
   "source": [
    "time = df['log_time']"
   ]
  },
  {
   "cell_type": "code",
   "execution_count": 28,
   "metadata": {
    "collapsed": true
   },
   "outputs": [],
   "source": [
    "time = [x.split('T')[1] for x in time]"
   ]
  },
  {
   "cell_type": "code",
   "execution_count": 30,
   "metadata": {
    "collapsed": true
   },
   "outputs": [],
   "source": [
    "hour = [x.split(':')[0] for x in time]"
   ]
  },
  {
   "cell_type": "code",
   "execution_count": 31,
   "metadata": {
    "collapsed": true
   },
   "outputs": [],
   "source": [
    "minute = [x.split(':')[1] for x in time]"
   ]
  },
  {
   "cell_type": "code",
   "execution_count": 13,
   "metadata": {},
   "outputs": [
    {
     "name": "stdout",
     "output_type": "stream",
     "text": [
      "[0, 1, 2, 3]\n",
      "[4, 5, 6, 7]\n",
      "[8, 9]\n"
     ]
    }
   ],
   "source": [
    "n = 4\n",
    "l = list(range(10))\n",
    "for i in range(0, len(l), n):\n",
    "    print(l[i:i + n])"
   ]
  },
  {
   "cell_type": "code",
   "execution_count": null,
   "metadata": {
    "collapsed": true
   },
   "outputs": [],
   "source": [
    "cus_dict = {}\n",
    "cus = []\n",
    "for i in raw_data:\n",
    "    df = i\n",
    "    \n",
    "    cus_id = list(df['customer_id'])\n",
    "    artist = list(df['artist_name'])\n",
    "    for j in range(len(cus_id)):\n",
    "#         print(j)\n",
    "        if cus_id[j] not in cus:\n",
    "            cus.append(cus_id[j])\n",
    "            cus_dict[cus_id[j]] = [artist[j]]\n",
    "        else:\n",
    "            cus_dict[cus_id[j]] += [artist[j]]\n",
    "    break"
   ]
  },
  {
   "cell_type": "code",
   "execution_count": null,
   "metadata": {
    "collapsed": true
   },
   "outputs": [],
   "source": [
    "cus_id"
   ]
  },
  {
   "cell_type": "code",
   "execution_count": null,
   "metadata": {
    "collapsed": true
   },
   "outputs": [],
   "source": [
    "len(df)"
   ]
  },
  {
   "cell_type": "code",
   "execution_count": null,
   "metadata": {
    "collapsed": true
   },
   "outputs": [],
   "source": [
    "cus_dict = {}"
   ]
  },
  {
   "cell_type": "code",
   "execution_count": null,
   "metadata": {
    "collapsed": true
   },
   "outputs": [],
   "source": [
    "cus = []\n",
    "cus_id = df['customer_id']\n",
    "artist = df['artist_name']"
   ]
  },
  {
   "cell_type": "code",
   "execution_count": null,
   "metadata": {
    "collapsed": true
   },
   "outputs": [],
   "source": [
    "est = time_est(len(cus_id))\n",
    "for i in range(len(cus_id)):\n",
    "    if cus_id[i] not in cus:\n",
    "        cus.append(cus_id[i])\n",
    "        cus_dict[cus_id[i]] = [artist[i]]\n",
    "    else:\n",
    "        cus_dict[cus_id[i]] += [artist[i]]\n",
    "    est.check()"
   ]
  },
  {
   "cell_type": "code",
   "execution_count": null,
   "metadata": {
    "collapsed": true
   },
   "outputs": [],
   "source": [
    "cus_dict"
   ]
  },
  {
   "cell_type": "code",
   "execution_count": null,
   "metadata": {
    "collapsed": true
   },
   "outputs": [],
   "source": [
    "import sys\n",
    "sys.getsizeof(cus_dict)"
   ]
  },
  {
   "cell_type": "code",
   "execution_count": null,
   "metadata": {
    "collapsed": true
   },
   "outputs": [],
   "source": [
    "len(cus_dict)"
   ]
  },
  {
   "cell_type": "code",
   "execution_count": null,
   "metadata": {
    "collapsed": true
   },
   "outputs": [],
   "source": []
  }
 ],
 "metadata": {
  "kernelspec": {
   "display_name": "Python 3",
   "language": "python",
   "name": "python3"
  },
  "language_info": {
   "codemirror_mode": {
    "name": "ipython",
    "version": 3
   },
   "file_extension": ".py",
   "mimetype": "text/x-python",
   "name": "python",
   "nbconvert_exporter": "python",
   "pygments_lexer": "ipython3",
   "version": "3.6.1"
  }
 },
 "nbformat": 4,
 "nbformat_minor": 2
}
