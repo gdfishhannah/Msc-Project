{
 "cells": [
  {
   "cell_type": "code",
   "execution_count": 1,
   "metadata": {
    "collapsed": true
   },
   "outputs": [],
   "source": [
    "import pandas as pd\n",
    "from scipy.spatial.distance import cosine\n",
    "import numpy as np\n",
    "from sklearn.metrics.pairwise import cosine_similarity\n",
    "\n",
    "data = np.load('matrix.npy').item()\n",
    "# X = np.load('norm_data/matrix.npy').item()\n",
    "artist = np.load('artist.npy')\n",
    "customer_id = np.load('customer.npy')\n",
    "data_artist_key = np.load('key.npy').item()\n",
    "data_artist_val = np.load('val.npy').item()\n",
    "\n",
    "\n",
    "item_sim = cosine_similarity(data,data)\n",
    "item_df = pd.DataFrame(item_sim,index=artist,columns=artist)\n"
   ]
  },
  {
   "cell_type": "code",
   "execution_count": 2,
   "metadata": {},
   "outputs": [
    {
     "name": "stdout",
     "output_type": "stream",
     "text": [
      "input a number\n",
      "1\n",
      "find artist similar to Muse\n",
      "similar artists: ['Radiohead', 'Biffy Clyro', 'Red Hot Chili Peppers', 'My Chemical Romance', 'Linkin Park', 'Royal Blood', 'Green Day', 'Pendulum', 'Avenged Sevenfold', 'Gorillaz']\n",
      "accuracy: 1.0\n"
     ]
    }
   ],
   "source": [
    "print('input a number')\n",
    "ip = artist[int(input())]\n",
    "# ip = 'Linkin Park'\n",
    "print('find artist similar to', ip)\n",
    "\n",
    "related = list(item_df[ip].nlargest(11)[1:].reset_index()['index'])\n",
    "print('similar artists:',related)\n",
    "\n",
    "genres = np.load('top100artistgenres.npy').item()\n",
    "\n",
    "count = 0\n",
    "ip_gen = genres[ip]\n",
    "for j in related:\n",
    "    for i in genres[j]:\n",
    "        if i in ip_gen:\n",
    "            count+=1\n",
    "            break\n",
    "print('accuracy:',count/10)"
   ]
  },
  {
   "cell_type": "code",
   "execution_count": 3,
   "metadata": {},
   "outputs": [
    {
     "name": "stdout",
     "output_type": "stream",
     "text": [
      "Radiohead,Biffy Clyro,Red Hot Chili Peppers,My Chemical Romance,Linkin Park,Royal Blood,Green Day,Pendulum,Avenged Sevenfold,Gorillaz\n"
     ]
    }
   ],
   "source": [
    "print(','.join(related))"
   ]
  },
  {
   "cell_type": "code",
   "execution_count": 4,
   "metadata": {
    "collapsed": true
   },
   "outputs": [],
   "source": [
    "#calculate accuracy of the model"
   ]
  },
  {
   "cell_type": "code",
   "execution_count": 5,
   "metadata": {},
   "outputs": [
    {
     "name": "stdout",
     "output_type": "stream",
     "text": [
      "model accuracy: 0.799\n"
     ]
    }
   ],
   "source": [
    "count = 0\n",
    "for ip in artist:\n",
    "    ip_gen = genres[ip]\n",
    "    related = list(item_df[ip].nlargest(11)[1:].reset_index()['index'])\n",
    "    for j in related:\n",
    "        for i in genres[j]:\n",
    "            if i in ip_gen:\n",
    "                count+=1\n",
    "                break\n",
    "print('model accuracy:',count/1000)"
   ]
  },
  {
   "cell_type": "code",
   "execution_count": 6,
   "metadata": {},
   "outputs": [
    {
     "data": {
      "text/plain": [
       "'Linkin Park'"
      ]
     },
     "execution_count": 6,
     "metadata": {},
     "output_type": "execute_result"
    }
   ],
   "source": [
    "artist[0]"
   ]
  },
  {
   "cell_type": "code",
   "execution_count": 7,
   "metadata": {},
   "outputs": [],
   "source": [
    "score_list = []\n",
    "\n",
    "for num_pred in range(1,100):\n",
    "    count = 0\n",
    "    for ip in artist:\n",
    "        related = list(item_df[ip].nlargest(num_pred+1)[1:].reset_index()['index'])\n",
    "        ip_gen = genres[ip]\n",
    "        for j in related:\n",
    "            for i in genres[j]:\n",
    "                if i in ip_gen:\n",
    "                    count+=1\n",
    "                    break\n",
    "    score_list.append(count/(100*num_pred))"
   ]
  },
  {
   "cell_type": "code",
   "execution_count": 8,
   "metadata": {},
   "outputs": [
    {
     "data": {
      "image/png": "[encoded data removed]",
      "text/plain": [
       "<matplotlib.figure.Figure at 0x7fb40e755748>"
      ]
     },
     "metadata": {},
     "output_type": "display_data"
    }
   ],
   "source": [
    "import matplotlib.pyplot as plt\n",
    "\n",
    "plt.plot(score_list)\n",
    "plt.show()"
   ]
  },
  {
   "cell_type": "code",
   "execution_count": 9,
   "metadata": {},
   "outputs": [],
   "source": [
    "np.save('item_eval.npy',score_list)"
   ]
  },
  {
   "cell_type": "code",
   "execution_count": 10,
   "metadata": {},
   "outputs": [
    {
     "data": {
      "image/png": "[encoded data removed]",
      "text/plain": [
       "<matplotlib.figure.Figure at 0x7fb3c52a27f0>"
      ]
     },
     "metadata": {},
     "output_type": "display_data"
    }
   ],
   "source": [
    "score_list = []\n",
    "\n",
    "for num_pred in range(1,100):\n",
    "    count = 0\n",
    "    for ip in artist:\n",
    "        related = list(item_df[ip].nlargest(num_pred+1)[1:].reset_index()['index'])\n",
    "        ip_gen = genres[ip]\n",
    "        correct = 0\n",
    "        for j in related:\n",
    "            for i in genres[j]:\n",
    "                if i in ip_gen:\n",
    "                    correct = 1\n",
    "        count += correct\n",
    "    score_list.append(count/(100))\n",
    "plt.xticks(np.arange(0, 101, 10))\n",
    "plt.plot(score_list)\n",
    "plt.show()"
   ]
  },
  {
   "cell_type": "code",
   "execution_count": 11,
   "metadata": {},
   "outputs": [],
   "source": [
    "np.save('item_acc.npy', score_list)"
   ]
  },
  {
   "cell_type": "code",
   "execution_count": null,
   "metadata": {
    "collapsed": true
   },
   "outputs": [],
   "source": []
  }
 ],
 "metadata": {
  "kernelspec": {
   "display_name": "Python 3",
   "language": "python",
   "name": "python3"
  },
  "language_info": {
   "codemirror_mode": {
    "name": "ipython",
    "version": 3
   },
   "file_extension": ".py",
   "mimetype": "text/x-python",
   "name": "python",
   "nbconvert_exporter": "python",
   "pygments_lexer": "ipython3",
   "version": "3.6.1"
  }
 },
 "nbformat": 4,
 "nbformat_minor": 2
}
