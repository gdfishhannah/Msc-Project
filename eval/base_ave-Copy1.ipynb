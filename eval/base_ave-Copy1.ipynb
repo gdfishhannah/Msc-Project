{
 "cells": [
  {
   "cell_type": "code",
   "execution_count": 1,
   "metadata": {},
   "outputs": [
    {
     "name": "stdout",
     "output_type": "stream",
     "text": [
      "0.8\n"
     ]
    }
   ],
   "source": [
    "import pandas as pd\n",
    "import numpy as np\n",
    "import os\n",
    "import sys\n",
    "import time\n",
    "\n",
    "df= pd.read_csv('top100_rating.csv')\n",
    "\n",
    "# print('top 100 popular artist')\n",
    "# print(df['artist'].unique())\n",
    "\n",
    "ip = df['artist'][0]\n",
    "temp_cus = df[df['artist']==ip]\n",
    "temp_cus = temp_cus[temp_cus['rating']>100]['customer_id'].unique()\n",
    "len(temp_cus)\n",
    "\n",
    "target_cus = df[df['customer_id'].isin(temp_cus)]\n",
    "target_cus['artist'].value_counts().head(11)[1:]\n",
    "\n",
    "#evaluate\n",
    "\n",
    "genres = np.load('top100artistgenres.npy').item()\n",
    "\n",
    "related = list(target_cus['artist'].value_counts().head(11)[1:].reset_index()['index'])\n",
    "\n",
    "ip_gen = genres[ip]\n",
    "\n",
    "count = 0\n",
    "for j in related:\n",
    "    for i in genres[j]:\n",
    "        if i in ip_gen:\n",
    "            count+=1\n",
    "            break\n",
    "print(count/10)\n",
    "\n"
   ]
  },
  {
   "cell_type": "code",
   "execution_count": 2,
   "metadata": {
    "collapsed": true
   },
   "outputs": [],
   "source": [
    "class time_est():\n",
    "    def __init__(self, total_len):\n",
    "        self.t_start = time.time()\n",
    "        self.total_len = total_len\n",
    "        self.count = 0\n",
    "        self.t_ref = time.time()\n",
    "    \n",
    "    def check(self,no_of_check=1,info=\"\"):\n",
    "        self.count += no_of_check\n",
    "        if time.time() - self.t_ref > 1:\n",
    "            t_used = time.time() - self.t_start\n",
    "            t_total = t_used * self.total_len / self.count\n",
    "            t_remain = t_total - t_used\n",
    "            process_bar = \"|\"\n",
    "            for i in range(40):\n",
    "                if (i/40) < (self.count/self.total_len):\n",
    "                    process_bar += \"█\"\n",
    "                else:\n",
    "                    process_bar += \" \"\n",
    "            process_bar += \"|\"\n",
    "            if info != \"\":\n",
    "                info = str(info) + \"  \"\n",
    "            print(\"\\r\" + (str(info) + \"{:.2f}% ({}/{})  \".format(self.count * 100/self.total_len, self.count,self.total_len)) \n",
    "                  + str(process_bar).ljust(45) \n",
    "                  + \"Used: {:02.0f}:{:02.0f}:{:02.0f}\".format(int(t_used/3600), int(t_used/60)%60, t_used % 60).ljust(16) \n",
    "                  + \"ETA: {:02.0f}:{:02.0f}:{:02.0f}\".format(int(t_remain/3600), int(t_remain/60)%60, t_remain % 60),end=\"\")\n",
    "            self.t_ref = time.time()\n",
    "        if self.count == self.total_len:\n",
    "            t_used = time.time() - self.t_start\n",
    "            if info != \"\":\n",
    "                info = str(info) + \"  \"\n",
    "            print(\"\\r\" + str(info) + \"Finished in \" \n",
    "                  + \"{:02.0f}:{:02.0f}:{:02.0f}\".format(int(t_used/3600), int(t_used/60)%60, t_used % 60).ljust(100))\n",
    "    def get(self,no_of_check=1):\n",
    "        process_bar = \"|\"\n",
    "        for i in range(40):\n",
    "            if (i/40) < (self.count/self.total_len):\n",
    "                process_bar += \"█\"\n",
    "            else:\n",
    "                process_bar += \" \"\n",
    "        process_bar += \"|\"\n",
    "        self.count += no_of_check\n",
    "        t_used = time.time() - self.t_start\n",
    "        t_total = t_used * self.total_len / self.count\n",
    "        t_remain = t_total - t_used\n",
    "        return \"{} ETA: {:02.0f}:{:02.0f}:{:02.0f}\".format(process_bar, int(t_remain/3600), int(t_remain/60)%60, t_remain % 60)\n",
    "        "
   ]
  },
  {
   "cell_type": "code",
   "execution_count": 3,
   "metadata": {
    "collapsed": true
   },
   "outputs": [],
   "source": [
    "genres = np.load('top100artistgenres.npy').item()"
   ]
  },
  {
   "cell_type": "code",
   "execution_count": null,
   "metadata": {
    "collapsed": true
   },
   "outputs": [],
   "source": [
    "uni_artist = list(df['artist'].unique())"
   ]
  },
  {
   "cell_type": "code",
   "execution_count": null,
   "metadata": {},
   "outputs": [
    {
     "name": "stdout",
     "output_type": "stream",
     "text": [
      "27.00% (27/100)  |███████████                             |   Used: 00:05:26  ETA: 00:14:41"
     ]
    }
   ],
   "source": [
    "count = 0\n",
    "est = time_est(100)\n",
    "for i in uni_artist:\n",
    "    ip = i\n",
    "    temp_cus = df[df['artist']==ip]\n",
    "    temp_cus = temp_cus[temp_cus['rating']>100]['customer_id'].unique()\n",
    "    len(temp_cus)\n",
    "\n",
    "    target_cus = df[df['customer_id'].isin(temp_cus)]\n",
    "    target_cus['artist'].value_counts().head(11)[1:]\n",
    "\n",
    "    related = list(target_cus['artist'].value_counts().head(11)[1:].reset_index()['index'])\n",
    "    ip_gen = genres[ip]\n",
    "    for j in related:\n",
    "        for i in genres[j]:\n",
    "            if i in ip_gen:\n",
    "                count+=1\n",
    "                break\n",
    "    est.check()"
   ]
  },
  {
   "cell_type": "code",
   "execution_count": null,
   "metadata": {},
   "outputs": [],
   "source": [
    "print(count/1000)"
   ]
  },
  {
   "cell_type": "code",
   "execution_count": null,
   "metadata": {},
   "outputs": [],
   "source": [
    "count = 0\n",
    "ip = 'Linkin Park'\n",
    "temp_cus = df[df['artist']==ip]\n",
    "temp_cus = temp_cus[temp_cus['rating']>100]['customer_id'].unique()\n",
    "len(temp_cus)\n",
    "\n",
    "target_cus = df[df['customer_id'].isin(temp_cus)]\n",
    "target_cus['artist'].value_counts().head(11)[1:]\n",
    "\n",
    "related = list(target_cus['artist'].value_counts().head(11)[1:].reset_index()['index'])\n",
    "ip_gen = genres[ip]\n",
    "for j in related:\n",
    "    for i in genres[j]:\n",
    "        if i in ip_gen:\n",
    "            count+=1\n",
    "            break\n",
    "print(count/10)"
   ]
  },
  {
   "cell_type": "code",
   "execution_count": null,
   "metadata": {},
   "outputs": [],
   "source": [
    "','.join(related)"
   ]
  },
  {
   "cell_type": "code",
   "execution_count": null,
   "metadata": {},
   "outputs": [],
   "source": [
    "len(related)"
   ]
  },
  {
   "cell_type": "code",
   "execution_count": null,
   "metadata": {},
   "outputs": [],
   "source": [
    "related"
   ]
  },
  {
   "cell_type": "code",
   "execution_count": null,
   "metadata": {
    "collapsed": true
   },
   "outputs": [],
   "source": []
  }
 ],
 "metadata": {
  "kernelspec": {
   "display_name": "Python 3",
   "language": "python",
   "name": "python3"
  },
  "language_info": {
   "codemirror_mode": {
    "name": "ipython",
    "version": 3
   },
   "file_extension": ".py",
   "mimetype": "text/x-python",
   "name": "python",
   "nbconvert_exporter": "python",
   "pygments_lexer": "ipython3",
   "version": "3.6.1"
  }
 },
 "nbformat": 4,
 "nbformat_minor": 2
}
