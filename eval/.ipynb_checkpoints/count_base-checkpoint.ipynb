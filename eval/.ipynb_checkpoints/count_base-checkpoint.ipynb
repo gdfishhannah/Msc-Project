{
 "cells": [
  {
   "cell_type": "code",
   "execution_count": 1,
   "metadata": {},
   "outputs": [],
   "source": [
    "import pandas as pd\n",
    "import numpy as np\n",
    "import os\n",
    "import sys\n",
    "import time\n",
    "import collections\n",
    "import matplotlib.pyplot as plt\n",
    "\n",
    "\n",
    "df= pd.read_csv('top100_rating.csv')\n",
    "genres = np.load('top100artistgenres.npy').item()\n",
    "\n",
    "# print('top 100 popular artist')\n",
    "# print(df['artist'].unique())\n",
    "\n",
    "uni_artist = list(df['artist'].unique())"
   ]
  },
  {
   "cell_type": "code",
   "execution_count": 2,
   "metadata": {},
   "outputs": [],
   "source": [
    "artist_data = np.load('artist_dict .npy').item()\n",
    "cus_data = np.load('customer_id_dict .npy').item()"
   ]
  },
  {
   "cell_type": "code",
   "execution_count": 3,
   "metadata": {},
   "outputs": [
    {
     "data": {
      "text/plain": [
       "defaultdict(None,\n",
       "            {'Green Day': 0.2621359223300971,\n",
       "             'James Blunt': 0.25728155339805825,\n",
       "             'Linkin Park': 0.22330097087378642,\n",
       "             'Nickelback': 0.06796116504854369,\n",
       "             'Slipknot': 0.18932038834951456})"
      ]
     },
     "execution_count": 3,
     "metadata": {},
     "output_type": "execute_result"
    }
   ],
   "source": [
    "cus_data['5b8bc839a6d8146f90f5c1b02df3ac6c']"
   ]
  },
  {
   "cell_type": "code",
   "execution_count": 4,
   "metadata": {},
   "outputs": [],
   "source": [
    "# artist_data['Linkin Park']\n",
    "# dict((k, v) for k, v in artist_data['Linkin Park'].items() if v >= 0.2)"
   ]
  },
  {
   "cell_type": "code",
   "execution_count": 5,
   "metadata": {
    "collapsed": true
   },
   "outputs": [],
   "source": [
    "ip = 'Linkin Park'\n",
    "target_cus = dict((k, v) for k, v in artist_data['Linkin Park'].items() if v >= 0.2).keys()"
   ]
  },
  {
   "cell_type": "code",
   "execution_count": 6,
   "metadata": {},
   "outputs": [],
   "source": [
    "artist_temp_dict = collections.defaultdict()\n",
    "for i in target_cus:\n",
    "    for j in cus_data[i].keys():\n",
    "        try:\n",
    "            artist_temp_dict[j]+=cus_data[i][j]\n",
    "        except:\n",
    "            artist_temp_dict[j] = cus_data[i][j]"
   ]
  },
  {
   "cell_type": "code",
   "execution_count": 7,
   "metadata": {
    "scrolled": true
   },
   "outputs": [],
   "source": [
    "# artist_temp_dict"
   ]
  },
  {
   "cell_type": "code",
   "execution_count": 8,
   "metadata": {},
   "outputs": [],
   "source": [
    "op = list(sorted(artist_temp_dict, key=artist_temp_dict.get, reverse=True))\n",
    "op.remove(ip)"
   ]
  },
  {
   "cell_type": "code",
   "execution_count": 9,
   "metadata": {},
   "outputs": [],
   "source": [
    "count = 0\n",
    "# est = time_est(100)\n",
    "total_atd = collections.defaultdict()\n",
    "for ip in uni_artist:\n",
    "#     ip = ip\n",
    "    target_cus = dict((k, v) for k, v in artist_data[ip].items() if v >= 0.5).keys()\n",
    "    artist_temp_dict = collections.defaultdict()\n",
    "    for i in target_cus:\n",
    "        for j in cus_data[i].keys():\n",
    "            try:\n",
    "                artist_temp_dict[j]+=cus_data[i][j]\n",
    "            except:\n",
    "                artist_temp_dict[j] = cus_data[i][j]\n",
    "    total_atd[ip] = artist_temp_dict\n",
    "#     est.check()"
   ]
  },
  {
   "cell_type": "code",
   "execution_count": null,
   "metadata": {
    "collapsed": true
   },
   "outputs": [],
   "source": []
  },
  {
   "cell_type": "code",
   "execution_count": 10,
   "metadata": {},
   "outputs": [],
   "source": [
    "# est = time_est(100)\n",
    "score_list = []\n",
    "for num_pred in range(1,100):\n",
    "    count = 0\n",
    "    for ip in uni_artist:\n",
    "        artist_temp_dict = total_atd[ip]\n",
    "        op = list(sorted(artist_temp_dict, key=artist_temp_dict.get, reverse=True))\n",
    "        op.remove(ip)\n",
    "        related = op[:num_pred]\n",
    "        ip_gen = genres[ip]\n",
    "        for j in related:\n",
    "            for i in genres[j]:\n",
    "                if i in ip_gen:\n",
    "                    count+=1\n",
    "                    break\n",
    "    score_list.append(count/(100*num_pred))\n",
    "#     est.check()"
   ]
  },
  {
   "cell_type": "code",
   "execution_count": 12,
   "metadata": {},
   "outputs": [
    {
     "data": {
      "image/png": "[encoded data removed]",
      "text/plain": [
       "<matplotlib.figure.Figure at 0x7f9e12e550f0>"
      ]
     },
     "metadata": {},
     "output_type": "display_data"
    }
   ],
   "source": [
    "plt.plot(score_list)\n",
    "plt.show()"
   ]
  },
  {
   "cell_type": "code",
   "execution_count": 17,
   "metadata": {
    "collapsed": true
   },
   "outputs": [],
   "source": [
    "plt_list = []\n",
    "legend_list = []\n",
    "for num in range(10):\n",
    "    count = 0\n",
    "    # est = time_est(100)\n",
    "    total_atd = collections.defaultdict()\n",
    "    ratio = float(num)/10\n",
    "    legend_list.append(ratio)\n",
    "    for ip in uni_artist:\n",
    "    #     ip = ip\n",
    "        target_cus = dict((k, v) for k, v in artist_data[ip].items() if v >= ratio).keys()\n",
    "        artist_temp_dict = collections.defaultdict()\n",
    "        for i in target_cus:\n",
    "            for j in cus_data[i].keys():\n",
    "                try:\n",
    "                    artist_temp_dict[j]+=cus_data[i][j]\n",
    "                except:\n",
    "                    artist_temp_dict[j] = cus_data[i][j]\n",
    "        total_atd[ip] = artist_temp_dict\n",
    "    #     est.check()\n",
    "    # est = time_est(100)\n",
    "    score_list = []\n",
    "    for num_pred in range(1,100):\n",
    "        count = 0\n",
    "        for ip in uni_artist:\n",
    "            artist_temp_dict = total_atd[ip]\n",
    "            op = list(sorted(artist_temp_dict, key=artist_temp_dict.get, reverse=True))\n",
    "            op.remove(ip)\n",
    "            related = op[:num_pred]\n",
    "            ip_gen = genres[ip]\n",
    "            for j in related:\n",
    "                for i in genres[j]:\n",
    "                    if i in ip_gen:\n",
    "                        count+=1\n",
    "                        break\n",
    "        score_list.append(count/(100*num_pred))\n",
    "    #     est.check()\n",
    "    plt_list.append(score_list)\n"
   ]
  },
  {
   "cell_type": "code",
   "execution_count": 18,
   "metadata": {},
   "outputs": [
    {
     "data": {
      "image/png": "[encoded data removed]",
      "text/plain": [
       "<matplotlib.figure.Figure at 0x7f9e12ebe2e8>"
      ]
     },
     "metadata": {},
     "output_type": "display_data"
    }
   ],
   "source": [
    "plt.figure(num=None, figsize=(8, 6), dpi=128, facecolor='w', edgecolor='k')\n",
    "\n",
    "for score_list in plt_list:\n",
    "    plt.plot(score_list)\n",
    "plt.legend(legend_list)\n",
    "plt.show()"
   ]
  },
  {
   "cell_type": "code",
   "execution_count": null,
   "metadata": {
    "collapsed": true
   },
   "outputs": [],
   "source": []
  },
  {
   "cell_type": "code",
   "execution_count": null,
   "metadata": {
    "collapsed": true
   },
   "outputs": [],
   "source": [
    "np.save('count_eval.npy',score_list)"
   ]
  },
  {
   "cell_type": "code",
   "execution_count": null,
   "metadata": {
    "collapsed": true
   },
   "outputs": [],
   "source": []
  },
  {
   "cell_type": "code",
   "execution_count": null,
   "metadata": {
    "collapsed": true
   },
   "outputs": [],
   "source": [
    "count = 0\n",
    "# est = time_est(100)\n",
    "total_atd = collections.defaultdict()\n",
    "for i in uni_artist:\n",
    "    ip = i\n",
    "    target_cus = dict((k, v) for k, v in artist_data['Linkin Park'].items() if v >= 0).keys()\n",
    "    artist_temp_dict = collections.defaultdict()\n",
    "    for i in target_cus:\n",
    "        for j in cus_data[i].keys():\n",
    "            try:\n",
    "                artist_temp_dict[j]+=cus_data[i][j]\n",
    "            except:\n",
    "                artist_temp_dict[j] = cus_data[i][j]\n",
    "    total_atd[i] = artist_temp_dict\n",
    "    op = list(sorted(artist_temp_dict, key=artist_temp_dict.get, reverse=True))\n",
    "    op.remove(ip)\n",
    "    related = op[:10]\n",
    "    ip_gen = genres[ip]\n",
    "    for j in related:\n",
    "        for i in genres[j]:\n",
    "            if i in ip_gen:\n",
    "                count+=1\n",
    "                break\n",
    "#     est.check()"
   ]
  },
  {
   "cell_type": "code",
   "execution_count": null,
   "metadata": {},
   "outputs": [],
   "source": [
    "count/1000"
   ]
  },
  {
   "cell_type": "code",
   "execution_count": null,
   "metadata": {},
   "outputs": [],
   "source": [
    "len(target_cus)"
   ]
  },
  {
   "cell_type": "code",
   "execution_count": null,
   "metadata": {
    "collapsed": true
   },
   "outputs": [],
   "source": []
  },
  {
   "cell_type": "code",
   "execution_count": null,
   "metadata": {
    "collapsed": true
   },
   "outputs": [],
   "source": []
  },
  {
   "cell_type": "code",
   "execution_count": null,
   "metadata": {},
   "outputs": [],
   "source": [
    "%time ip = df['artist'][0]\n",
    "%time temp_cus = df[df['artist']==ip]\n",
    "%time temp_cus = temp_cus[temp_cus['rating']>100]['customer_id'].unique()\n",
    "%time len(temp_cus)\n",
    "\n",
    "%time target_cus = df[df['customer_id'].isin(temp_cus)]\n",
    "%time target_cus['artist'].value_counts().head(11)[1:]\n",
    "\n",
    "#evaluate\n",
    "\n",
    "\n",
    "%time related = list(target_cus['artist'].value_counts().head(11)[1:].reset_index()['index'])\n",
    "\n",
    "%time ip_gen = genres[ip]\n",
    "\n",
    "count = 0\n",
    "for j in related:\n",
    "    for i in genres[j]:\n",
    "        if i in ip_gen:\n",
    "            count+=1\n",
    "            break\n",
    "print(count/10)\n",
    "\n"
   ]
  },
  {
   "cell_type": "code",
   "execution_count": null,
   "metadata": {
    "collapsed": true
   },
   "outputs": [],
   "source": [
    "class time_est():\n",
    "    def __init__(self, total_len):\n",
    "        self.t_start = time.time()\n",
    "        self.total_len = total_len\n",
    "        self.count = 0\n",
    "        self.t_ref = time.time()\n",
    "    \n",
    "    def check(self,no_of_check=1,info=\"\"):\n",
    "        self.count += no_of_check\n",
    "        if time.time() - self.t_ref > 1:\n",
    "            t_used = time.time() - self.t_start\n",
    "            t_total = t_used * self.total_len / self.count\n",
    "            t_remain = t_total - t_used\n",
    "            process_bar = \"|\"\n",
    "            for i in range(40):\n",
    "                if (i/40) < (self.count/self.total_len):\n",
    "                    process_bar += \"█\"\n",
    "                else:\n",
    "                    process_bar += \" \"\n",
    "            process_bar += \"|\"\n",
    "            if info != \"\":\n",
    "                info = str(info) + \"  \"\n",
    "            print(\"\\r\" + (str(info) + \"{:.2f}% ({}/{})  \".format(self.count * 100/self.total_len, self.count,self.total_len)) \n",
    "                  + str(process_bar).ljust(45) \n",
    "                  + \"Used: {:02.0f}:{:02.0f}:{:02.0f}\".format(int(t_used/3600), int(t_used/60)%60, t_used % 60).ljust(16) \n",
    "                  + \"ETA: {:02.0f}:{:02.0f}:{:02.0f}\".format(int(t_remain/3600), int(t_remain/60)%60, t_remain % 60),end=\"\")\n",
    "            self.t_ref = time.time()\n",
    "        if self.count == self.total_len:\n",
    "            t_used = time.time() - self.t_start\n",
    "            if info != \"\":\n",
    "                info = str(info) + \"  \"\n",
    "            print(\"\\r\" + str(info) + \"Finished in \" \n",
    "                  + \"{:02.0f}:{:02.0f}:{:02.0f}\".format(int(t_used/3600), int(t_used/60)%60, t_used % 60).ljust(100))\n",
    "    def get(self,no_of_check=1):\n",
    "        process_bar = \"|\"\n",
    "        for i in range(40):\n",
    "            if (i/40) < (self.count/self.total_len):\n",
    "                process_bar += \"█\"\n",
    "            else:\n",
    "                process_bar += \" \"\n",
    "        process_bar += \"|\"\n",
    "        self.count += no_of_check\n",
    "        t_used = time.time() - self.t_start\n",
    "        t_total = t_used * self.total_len / self.count\n",
    "        t_remain = t_total - t_used\n",
    "        return \"{} ETA: {:02.0f}:{:02.0f}:{:02.0f}\".format(process_bar, int(t_remain/3600), int(t_remain/60)%60, t_remain % 60)\n",
    "        "
   ]
  },
  {
   "cell_type": "code",
   "execution_count": null,
   "metadata": {
    "collapsed": true
   },
   "outputs": [],
   "source": [
    "genres = np.load('top100artistgenres.npy').item()"
   ]
  },
  {
   "cell_type": "code",
   "execution_count": null,
   "metadata": {
    "collapsed": true
   },
   "outputs": [],
   "source": [
    "uni_artist = list(df['artist'].unique())"
   ]
  },
  {
   "cell_type": "code",
   "execution_count": null,
   "metadata": {},
   "outputs": [],
   "source": [
    "count = 0\n",
    "est = time_est(100)\n",
    "for i in uni_artist:\n",
    "    ip = i\n",
    "    temp_cus = df[df['artist']==ip]\n",
    "    temp_cus = temp_cus[temp_cus['rating']>100]['customer_id'].unique()\n",
    "    len(temp_cus)\n",
    "\n",
    "    target_cus = df[df['customer_id'].isin(temp_cus)]\n",
    "    target_cus['artist'].value_counts().head(11)[1:]\n",
    "\n",
    "    related = list(target_cus['artist'].value_counts().head(11)[1:].reset_index()['index'])\n",
    "    ip_gen = genres[ip]\n",
    "    for j in related:\n",
    "        for i in genres[j]:\n",
    "            if i in ip_gen:\n",
    "                count+=1\n",
    "                break\n",
    "    est.check()"
   ]
  },
  {
   "cell_type": "code",
   "execution_count": null,
   "metadata": {
    "collapsed": true
   },
   "outputs": [],
   "source": []
  },
  {
   "cell_type": "code",
   "execution_count": null,
   "metadata": {
    "collapsed": true
   },
   "outputs": [],
   "source": [
    "count = 0\n",
    "est = time_est(100)\n",
    "for i in uni_artist:\n",
    "    ip = i\n",
    "    temp_cus = df[df['artist']==ip]\n",
    "    temp_cus = temp_cus[temp_cus['rating']>100]['customer_id'].unique()\n",
    "    len(temp_cus)\n",
    "\n",
    "    target_cus = df[df['customer_id'].isin(temp_cus)]\n",
    "    target_cus['artist'].value_counts().head(11)[1:]\n",
    "\n",
    "    related = list(target_cus['artist'].value_counts().head(11)[1:].reset_index()['index'])\n",
    "    ip_gen = genres[ip]\n",
    "    for j in related:\n",
    "        for i in genres[j]:\n",
    "            if i in ip_gen:\n",
    "                count+=1\n",
    "                break\n",
    "    est.check()"
   ]
  },
  {
   "cell_type": "code",
   "execution_count": null,
   "metadata": {},
   "outputs": [],
   "source": [
    "print(count/1000)"
   ]
  },
  {
   "cell_type": "code",
   "execution_count": null,
   "metadata": {},
   "outputs": [],
   "source": [
    "count = 0\n",
    "ip = 'Linkin Park'\n",
    "temp_cus = df[df['artist']==ip]\n",
    "temp_cus = temp_cus[temp_cus['rating']>100]['customer_id'].unique()\n",
    "len(temp_cus)\n",
    "\n",
    "target_cus = df[df['customer_id'].isin(temp_cus)]\n",
    "target_cus['artist'].value_counts().head(11)[1:]\n",
    "\n",
    "related = list(target_cus['artist'].value_counts().head(11)[1:].reset_index()['index'])\n",
    "ip_gen = genres[ip]\n",
    "for j in related:\n",
    "    for i in genres[j]:\n",
    "        if i in ip_gen:\n",
    "            count+=1\n",
    "            break\n",
    "print(count/10)"
   ]
  },
  {
   "cell_type": "code",
   "execution_count": null,
   "metadata": {},
   "outputs": [],
   "source": [
    "','.join(related)"
   ]
  },
  {
   "cell_type": "code",
   "execution_count": null,
   "metadata": {},
   "outputs": [],
   "source": [
    "len(related)"
   ]
  },
  {
   "cell_type": "code",
   "execution_count": null,
   "metadata": {},
   "outputs": [],
   "source": [
    "related"
   ]
  },
  {
   "cell_type": "code",
   "execution_count": null,
   "metadata": {
    "collapsed": true
   },
   "outputs": [],
   "source": []
  }
 ],
 "metadata": {
  "kernelspec": {
   "display_name": "Python 3",
   "language": "python",
   "name": "python3"
  },
  "language_info": {
   "codemirror_mode": {
    "name": "ipython",
    "version": 3
   },
   "file_extension": ".py",
   "mimetype": "text/x-python",
   "name": "python",
   "nbconvert_exporter": "python",
   "pygments_lexer": "ipython3",
   "version": "3.6.1"
  }
 },
 "nbformat": 4,
 "nbformat_minor": 2
}
