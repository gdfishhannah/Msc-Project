{
 "cells": [
  {
   "cell_type": "code",
   "execution_count": 1,
   "metadata": {
    "collapsed": true
   },
   "outputs": [],
   "source": [
    "import pandas as pd\n",
    "import numpy as np\n",
    "import itertools\n",
    "import numpy as np\n",
    "from scipy import linalg\n",
    "import matplotlib.pyplot as plt\n",
    "import matplotlib as mpl\n",
    "import os\n",
    "import sys\n",
    "import time\n",
    "\n",
    "class time_est():\n",
    "    def __init__(self, total_len):\n",
    "        self.t_start = time.time()\n",
    "        self.total_len = total_len\n",
    "        self.count = 0\n",
    "        self.t_ref = time.time()\n",
    "    \n",
    "    def check(self,no_of_check=1,info=\"\"):\n",
    "        self.count += no_of_check\n",
    "        if time.time() - self.t_ref > 1:\n",
    "            t_used = time.time() - self.t_start\n",
    "            t_total = t_used * self.total_len / self.count\n",
    "            t_remain = t_total - t_used\n",
    "            process_bar = \"|\"\n",
    "            for i in range(40):\n",
    "                if (i/40) < (self.count/self.total_len):\n",
    "                    process_bar += \"█\"\n",
    "                else:\n",
    "                    process_bar += \" \"\n",
    "            process_bar += \"|\"\n",
    "            print(\"\\r\" + (str(info) + \"  {:.2f}% ({}/{})\\t\".format(self.count * 100/self.total_len, self.count,self.total_len)) + str(process_bar).ljust(45) + \"Used: {:02.0f}:{:02.0f}:{:02.0f}\".format(int(t_used/3600), int(t_used/60)%60, t_used % 60).ljust(16) + \"ETA: {:02.0f}:{:02.0f}:{:02.0f}\".format(int(t_remain/3600), int(t_remain/60)%60, t_remain % 60),end=\"\")\n",
    "            self.t_ref = time.time()\n",
    "        if self.count == self.total_len:\n",
    "            t_used = time.time() - self.t_start\n",
    "            print(\"\\r\" + str(info) + \"  Finished in \" +\"{:02.0f}:{:02.0f}:{:02.0f}\".format(int(t_used/3600), int(t_used/60)%60, t_used % 60).ljust(100))\n"
   ]
  },
  {
   "cell_type": "code",
   "execution_count": 11,
   "metadata": {},
   "outputs": [
    {
     "data": {
      "text/plain": [
       "['.ipynb_checkpoints',\n",
       " 'artist.npy',\n",
       " 'artist_dict .npy',\n",
       " 'base_ave-Copy1.ipynb',\n",
       " 'base_ave.ipynb',\n",
       " 'customer.npy',\n",
       " 'customer_id_dict .npy',\n",
       " 'data2100.ipynb',\n",
       " 'i2v_cus.npy',\n",
       " 'item_based.ipynb',\n",
       " 'key.npy',\n",
       " 'matrix.npy',\n",
       " 'matrix_df.csv',\n",
       " 'nomalize_to_df.ipynb',\n",
       " 'top.npy',\n",
       " 'top1000.npy',\n",
       " 'top100artist.npy',\n",
       " 'top100artistgenres.npy',\n",
       " 'top100_rating.csv',\n",
       " 'top2norm.ipynb',\n",
       " 'Untitled.ipynb',\n",
       " 'Untitled1.ipynb',\n",
       " 'val.npy']"
      ]
     },
     "execution_count": 11,
     "metadata": {},
     "output_type": "execute_result"
    }
   ],
   "source": [
    "os.listdir()"
   ]
  },
  {
   "cell_type": "code",
   "execution_count": 22,
   "metadata": {},
   "outputs": [],
   "source": [
    "# data = np.load('customer_id_dict .npy').item()"
   ]
  },
  {
   "cell_type": "code",
   "execution_count": 3,
   "metadata": {
    "collapsed": true
   },
   "outputs": [],
   "source": [
    "data_df = pd.read_csv('top100_rating.csv')"
   ]
  },
  {
   "cell_type": "code",
   "execution_count": 4,
   "metadata": {
    "collapsed": true
   },
   "outputs": [],
   "source": [
    "customer_id = data_df['customer_id'].unique()"
   ]
  },
  {
   "cell_type": "code",
   "execution_count": 5,
   "metadata": {
    "collapsed": true
   },
   "outputs": [],
   "source": [
    "artist = data_df['artist'].unique()"
   ]
  },
  {
   "cell_type": "code",
   "execution_count": 31,
   "metadata": {},
   "outputs": [],
   "source": [
    "data = np.load('artist_dict .npy').item()"
   ]
  },
  {
   "cell_type": "code",
   "execution_count": 30,
   "metadata": {},
   "outputs": [],
   "source": [
    "import scipy.sparse as sp\n",
    "artist = list(data.keys())\n",
    "artist_dict = dict(zip(list(artist), range(len(artist))))\n",
    "customer_dict = dict(zip(list(customer_id), range(len(customer_id))))"
   ]
  },
  {
   "cell_type": "code",
   "execution_count": 32,
   "metadata": {},
   "outputs": [
    {
     "name": "stdout",
     "output_type": "stream",
     "text": [
      "\r",
      "  Finished in 00:00:00                                                                                            \n"
     ]
    }
   ],
   "source": [
    "data_artist_key = {}\n",
    "est = time_est(len(artist))\n",
    "for i in range(len(artist)):\n",
    "    data_artist_key[artist[i]]= list(data[artist[i]].keys())\n",
    "    est.check()"
   ]
  },
  {
   "cell_type": "code",
   "execution_count": 33,
   "metadata": {},
   "outputs": [
    {
     "name": "stdout",
     "output_type": "stream",
     "text": [
      "\r",
      "  Finished in 00:00:00                                                                                            \n"
     ]
    }
   ],
   "source": [
    "data_artist_val = {}\n",
    "est = time_est(len(artist))\n",
    "for i in range(len(artist)):\n",
    "    data_artist_val[artist[i]]= list(data[artist[i]].values())\n",
    "    est.check()"
   ]
  },
  {
   "cell_type": "code",
   "execution_count": 34,
   "metadata": {},
   "outputs": [
    {
     "name": "stdout",
     "output_type": "stream",
     "text": [
      "\r",
      "  Finished in 00:00:00                                                                                            \n"
     ]
    }
   ],
   "source": [
    "rows, cols, vals = [],[],[]\n",
    "est = time_est(len(data))\n",
    "for i in artist:\n",
    "    rows += [i]*len(data[i])\n",
    "    for j in data_artist_key[i]:  \n",
    "        cols.append(j)\n",
    "    vals += list(data_artist_val[i])\n",
    "    est.check()"
   ]
  },
  {
   "cell_type": "code",
   "execution_count": 35,
   "metadata": {
    "collapsed": true
   },
   "outputs": [],
   "source": [
    "X_df = pd.DataFrame(\n",
    "    {'artist' : rows,\n",
    "     'customer_id' : cols,\n",
    "     'rating' : vals\n",
    "    })"
   ]
  },
  {
   "cell_type": "code",
   "execution_count": 36,
   "metadata": {},
   "outputs": [
    {
     "data": {
      "text/html": [
       "<div>\n",
       "<style>\n",
       "    .dataframe thead tr:only-child th {\n",
       "        text-align: right;\n",
       "    }\n",
       "\n",
       "    .dataframe thead th {\n",
       "        text-align: left;\n",
       "    }\n",
       "\n",
       "    .dataframe tbody tr th {\n",
       "        vertical-align: top;\n",
       "    }\n",
       "</style>\n",
       "<table border=\"1\" class=\"dataframe\">\n",
       "  <thead>\n",
       "    <tr style=\"text-align: right;\">\n",
       "      <th></th>\n",
       "      <th>artist</th>\n",
       "      <th>customer_id</th>\n",
       "      <th>rating</th>\n",
       "    </tr>\n",
       "  </thead>\n",
       "  <tbody>\n",
       "    <tr>\n",
       "      <th>0</th>\n",
       "      <td>Linkin Park</td>\n",
       "      <td>0b76725647bafc004b9e608d4be01a14</td>\n",
       "      <td>0.250000</td>\n",
       "    </tr>\n",
       "    <tr>\n",
       "      <th>1</th>\n",
       "      <td>Linkin Park</td>\n",
       "      <td>435e5b8064d6344187a43b2c324c2212</td>\n",
       "      <td>0.400000</td>\n",
       "    </tr>\n",
       "    <tr>\n",
       "      <th>2</th>\n",
       "      <td>Linkin Park</td>\n",
       "      <td>5b8bc839a6d8146f90f5c1b02df3ac6c</td>\n",
       "      <td>0.223301</td>\n",
       "    </tr>\n",
       "    <tr>\n",
       "      <th>3</th>\n",
       "      <td>Linkin Park</td>\n",
       "      <td>459372391ccea89242f112b9edc1f665</td>\n",
       "      <td>0.310078</td>\n",
       "    </tr>\n",
       "    <tr>\n",
       "      <th>4</th>\n",
       "      <td>Linkin Park</td>\n",
       "      <td>8ae3102014b4cbd859761e6bc6406eb6</td>\n",
       "      <td>0.288462</td>\n",
       "    </tr>\n",
       "  </tbody>\n",
       "</table>\n",
       "</div>"
      ],
      "text/plain": [
       "        artist                       customer_id    rating\n",
       "0  Linkin Park  0b76725647bafc004b9e608d4be01a14  0.250000\n",
       "1  Linkin Park  435e5b8064d6344187a43b2c324c2212  0.400000\n",
       "2  Linkin Park  5b8bc839a6d8146f90f5c1b02df3ac6c  0.223301\n",
       "3  Linkin Park  459372391ccea89242f112b9edc1f665  0.310078\n",
       "4  Linkin Park  8ae3102014b4cbd859761e6bc6406eb6  0.288462"
      ]
     },
     "execution_count": 36,
     "metadata": {},
     "output_type": "execute_result"
    }
   ],
   "source": [
    "X_df.head()"
   ]
  },
  {
   "cell_type": "code",
   "execution_count": 37,
   "metadata": {
    "collapsed": true
   },
   "outputs": [],
   "source": [
    "X_df.to_csv('matrix_df.csv',index = False)"
   ]
  },
  {
   "cell_type": "code",
   "execution_count": null,
   "metadata": {
    "collapsed": true
   },
   "outputs": [],
   "source": []
  },
  {
   "cell_type": "code",
   "execution_count": 38,
   "metadata": {},
   "outputs": [
    {
     "name": "stdout",
     "output_type": "stream",
     "text": [
      "\r",
      "  Finished in 00:00:00                                                                                            \n"
     ]
    }
   ],
   "source": [
    "data_artist_key = {}\n",
    "est = time_est(len(artist))\n",
    "for i in range(len(artist)):\n",
    "    data_artist_key[artist[i]]= list(data[artist[i]].keys())\n",
    "    est.check()"
   ]
  },
  {
   "cell_type": "code",
   "execution_count": 39,
   "metadata": {},
   "outputs": [
    {
     "name": "stdout",
     "output_type": "stream",
     "text": [
      "\r",
      "  Finished in 00:00:00                                                                                            \n"
     ]
    }
   ],
   "source": [
    "data_artist_val = {}\n",
    "est = time_est(len(artist))\n",
    "for i in range(len(artist)):\n",
    "    data_artist_val[artist[i]]= list(data[artist[i]].values())\n",
    "    est.check()"
   ]
  },
  {
   "cell_type": "code",
   "execution_count": 40,
   "metadata": {},
   "outputs": [
    {
     "name": "stdout",
     "output_type": "stream",
     "text": [
      "  Finished in 00:00:02                                                                                            \n"
     ]
    }
   ],
   "source": [
    "rows, cols, vals = [],[],[]\n",
    "est = time_est(len(data))\n",
    "for i in artist:\n",
    "#     print(i)\n",
    "    rows += [artist_dict[i]]*len(data[i])\n",
    "#     cols += list(data_artist_key[i])\n",
    "    for j in data_artist_key[i]:  \n",
    "        cols.append(customer_dict[j])\n",
    "    vals += list(data_artist_val[i])\n",
    "    est.check()"
   ]
  },
  {
   "cell_type": "code",
   "execution_count": 41,
   "metadata": {},
   "outputs": [
    {
     "data": {
      "text/plain": [
       "2091541"
      ]
     },
     "execution_count": 41,
     "metadata": {},
     "output_type": "execute_result"
    }
   ],
   "source": [
    "len(vals)"
   ]
  },
  {
   "cell_type": "code",
   "execution_count": 42,
   "metadata": {
    "collapsed": true
   },
   "outputs": [],
   "source": [
    "X = sp.csr_matrix((vals, (rows, cols)))"
   ]
  },
  {
   "cell_type": "code",
   "execution_count": 43,
   "metadata": {
    "collapsed": true
   },
   "outputs": [],
   "source": [
    "np.save('matrix.npy',X)\n",
    "np.save('artist.npy',artist)\n",
    "np.save('customer.npy',customer_id)\n",
    "np.save('key.npy',data_artist_key)\n",
    "np.save('val.npy',data_artist_val)"
   ]
  },
  {
   "cell_type": "code",
   "execution_count": null,
   "metadata": {
    "collapsed": true
   },
   "outputs": [],
   "source": []
  },
  {
   "cell_type": "code",
   "execution_count": null,
   "metadata": {
    "collapsed": true
   },
   "outputs": [],
   "source": []
  }
 ],
 "metadata": {
  "kernelspec": {
   "display_name": "Python 3",
   "language": "python",
   "name": "python3"
  },
  "language_info": {
   "codemirror_mode": {
    "name": "ipython",
    "version": 3
   },
   "file_extension": ".py",
   "mimetype": "text/x-python",
   "name": "python",
   "nbconvert_exporter": "python",
   "pygments_lexer": "ipython3",
   "version": "3.6.1"
  }
 },
 "nbformat": 4,
 "nbformat_minor": 2
}
