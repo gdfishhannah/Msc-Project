{
 "cells": [
  {
   "cell_type": "code",
   "execution_count": 37,
   "metadata": {
    "collapsed": true
   },
   "outputs": [],
   "source": [
    "import pandas as pd\n",
    "from sklearn import cluster, mixture\n",
    "import scipy\n",
    "import numpy as np\n",
    "import time\n",
    "import collections"
   ]
  },
  {
   "cell_type": "code",
   "execution_count": 38,
   "metadata": {
    "collapsed": true
   },
   "outputs": [],
   "source": [
    "class time_est():\n",
    "    def __init__(self, total_len):\n",
    "        self.t_start = time.time()\n",
    "        self.total_len = total_len\n",
    "        self.count = 0\n",
    "        self.t_ref = time.time()\n",
    "    \n",
    "    def check(self,no_of_check=1,info=\"\"):\n",
    "        self.count += no_of_check\n",
    "        if time.time() - self.t_ref > 1:\n",
    "            t_used = time.time() - self.t_start\n",
    "            t_total = t_used * self.total_len / self.count\n",
    "            t_remain = t_total - t_used\n",
    "            process_bar = \"|\"\n",
    "            for i in range(40):\n",
    "                if (i/40) < (self.count/self.total_len):\n",
    "                    process_bar += \"█\"\n",
    "                else:\n",
    "                    process_bar += \" \"\n",
    "            process_bar += \"|\"\n",
    "            if info != \"\":\n",
    "                info = str(info) + \"  \"\n",
    "            print(\"\\r\" + (str(info) + \"{:.2f}% ({}/{})  \".format(self.count * 100/self.total_len, self.count,self.total_len)) \n",
    "                  + str(process_bar).ljust(45) \n",
    "                  + \"Used: {:02.0f}:{:02.0f}:{:02.0f}\".format(int(t_used/3600), int(t_used/60)%60, t_used % 60).ljust(16) \n",
    "                  + \"ETA: {:02.0f}:{:02.0f}:{:02.0f}\".format(int(t_remain/3600), int(t_remain/60)%60, t_remain % 60),end=\"\")\n",
    "            self.t_ref = time.time()\n",
    "        if self.count == self.total_len:\n",
    "            t_used = time.time() - self.t_start\n",
    "            if info != \"\":\n",
    "                info = str(info) + \"  \"\n",
    "            print(\"\\r\" + str(info) + \"Finished in \" \n",
    "                  + \"{:02.0f}:{:02.0f}:{:02.0f}\".format(int(t_used/3600), int(t_used/60)%60, t_used % 60).ljust(100))\n",
    "    def get(self,no_of_check=1):\n",
    "        process_bar = \"|\"\n",
    "        for i in range(40):\n",
    "            if (i/40) < (self.count/self.total_len):\n",
    "                process_bar += \"█\"\n",
    "            else:\n",
    "                process_bar += \" \"\n",
    "        process_bar += \"|\"\n",
    "        self.count += no_of_check\n",
    "        t_used = time.time() - self.t_start\n",
    "        t_total = t_used * self.total_len / self.count\n",
    "        t_remain = t_total - t_used\n",
    "        return \"{} ETA: {:02.0f}:{:02.0f}:{:02.0f}\".format(process_bar, int(t_remain/3600), int(t_remain/60)%60, t_remain % 60)\n",
    "        "
   ]
  },
  {
   "cell_type": "code",
   "execution_count": 39,
   "metadata": {
    "collapsed": true
   },
   "outputs": [],
   "source": [
    "df= pd.read_csv('top100_rating.csv')"
   ]
  },
  {
   "cell_type": "code",
   "execution_count": 40,
   "metadata": {
    "collapsed": true
   },
   "outputs": [],
   "source": [
    "df_np = np.array(df)"
   ]
  },
  {
   "cell_type": "code",
   "execution_count": 41,
   "metadata": {
    "collapsed": true
   },
   "outputs": [],
   "source": [
    "artist_list = list(set(df[\"artist\"]))\n",
    "customer_id_list = list(set(df[\"customer_id\"]))"
   ]
  },
  {
   "cell_type": "code",
   "execution_count": 42,
   "metadata": {},
   "outputs": [
    {
     "name": "stdout",
     "output_type": "stream",
     "text": [
      "Finished in 00:00:04                                                                                            \n",
      "Finished in 00:00:10                                                                                            \n"
     ]
    }
   ],
   "source": [
    "customer_id_dict = collections.defaultdict()\n",
    "est = time_est(len(customer_id_list))\n",
    "for customer_id in customer_id_list:\n",
    "    customer_id_dict[customer_id] = collections.defaultdict()\n",
    "    est.check()\n",
    "est = time_est(len(df_np))   \n",
    "for customer_id, rating, artist in df_np:\n",
    "    try:\n",
    "        customer_id_dict[customer_id][artist] = int(rating)\n",
    "    except:\n",
    "        pass\n",
    "    est.check()"
   ]
  },
  {
   "cell_type": "code",
   "execution_count": 43,
   "metadata": {},
   "outputs": [
    {
     "name": "stdout",
     "output_type": "stream",
     "text": [
      "Finished in 00:00:03                                                                                            \n"
     ]
    }
   ],
   "source": [
    "est = time_est(len(customer_id_dict.keys()))\n",
    "for customer_id in customer_id_dict:\n",
    "    sum_rating = 0\n",
    "    for artist in customer_id_dict[customer_id]:\n",
    "#         customer_id_dict[customer_id][artist] = np.exp(customer_id_dict[customer_id][artist]/100)\n",
    "        sum_rating += customer_id_dict[customer_id][artist]\n",
    "    for artist in customer_id_dict[customer_id]:\n",
    "        customer_id_dict[customer_id][artist] /= sum_rating\n",
    "    est.check()"
   ]
  },
  {
   "cell_type": "code",
   "execution_count": 44,
   "metadata": {
    "collapsed": true
   },
   "outputs": [],
   "source": [
    "np.save(\"customer_id_dict.npy\", customer_id_dict)"
   ]
  },
  {
   "cell_type": "code",
   "execution_count": 45,
   "metadata": {
    "collapsed": true
   },
   "outputs": [],
   "source": [
    "customer_id_dict = np.load(\"customer_id_dict.npy\").item()"
   ]
  },
  {
   "cell_type": "code",
   "execution_count": 46,
   "metadata": {},
   "outputs": [
    {
     "name": "stdout",
     "output_type": "stream",
     "text": [
      "Finished in 00:00:03                                                                                            \n"
     ]
    }
   ],
   "source": [
    "artist_dict = collections.defaultdict()\n",
    "\n",
    "est = time_est(len(customer_id_dict.keys()))\n",
    "for customer_id in customer_id_dict:\n",
    "    for artist in customer_id_dict[customer_id]:\n",
    "        try:\n",
    "            artist_dict[artist][customer_id] = customer_id_dict[customer_id][artist]\n",
    "        except:\n",
    "            artist_dict[artist] = collections.defaultdict()\n",
    "            artist_dict[artist][customer_id] = customer_id_dict[customer_id][artist]\n",
    "    est.check()"
   ]
  },
  {
   "cell_type": "code",
   "execution_count": 47,
   "metadata": {
    "collapsed": true
   },
   "outputs": [],
   "source": [
    "np.save(\"artist_dict.npy\", artist_dict)"
   ]
  },
  {
   "cell_type": "code",
   "execution_count": null,
   "metadata": {
    "collapsed": true
   },
   "outputs": [],
   "source": []
  },
  {
   "cell_type": "code",
   "execution_count": null,
   "metadata": {
    "collapsed": true
   },
   "outputs": [],
   "source": []
  }
 ],
 "metadata": {
  "kernelspec": {
   "display_name": "Python 3",
   "language": "python",
   "name": "python3"
  },
  "language_info": {
   "codemirror_mode": {
    "name": "ipython",
    "version": 3
   },
   "file_extension": ".py",
   "mimetype": "text/x-python",
   "name": "python",
   "nbconvert_exporter": "python",
   "pygments_lexer": "ipython3",
   "version": "3.6.1"
  }
 },
 "nbformat": 4,
 "nbformat_minor": 2
}
