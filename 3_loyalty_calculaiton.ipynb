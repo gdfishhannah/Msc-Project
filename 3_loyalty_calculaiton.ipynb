{
 "cells": [
  {
   "cell_type": "code",
   "execution_count": 1,
   "metadata": {},
   "outputs": [
    {
     "name": "stdout",
     "output_type": "stream",
     "text": [
      "Once deleted, variables cannot be recovered. Proceed (y/[n])? y\n"
     ]
    }
   ],
   "source": [
    "%reset"
   ]
  },
  {
   "cell_type": "code",
   "execution_count": 1,
   "metadata": {
    "collapsed": true
   },
   "outputs": [],
   "source": [
    "import numpy as np # linear algebra\n",
    "import pandas as pd # data processing, CSV file I/O (e.g. pd.read_csv)\n",
    "import os\n",
    "import gc\n",
    "import matplotlib.pyplot as plt\n",
    "# import seaborn as sns\n",
    "# %matplotlib inline\n",
    "import time"
   ]
  },
  {
   "cell_type": "code",
   "execution_count": 2,
   "metadata": {
    "collapsed": true
   },
   "outputs": [],
   "source": [
    "import time\n",
    "class time_est():\n",
    "    def __init__(self, total_len):\n",
    "        self.t_start = time.time()\n",
    "        self.total_len = total_len\n",
    "        self.count = 0\n",
    "        self.t_ref = time.time()\n",
    "    \n",
    "    def check(self,no_of_check=1,info=\"\"):\n",
    "        self.count += no_of_check\n",
    "        if time.time() - self.t_ref > 1:\n",
    "            t_used = time.time() - self.t_start\n",
    "            t_total = t_used * self.total_len / self.count\n",
    "            t_remain = t_total - t_used\n",
    "            process_bar = \"|\"\n",
    "            for i in range(40):\n",
    "                if (i/40) < (self.count/self.total_len):\n",
    "                    process_bar += \"█\"\n",
    "                else:\n",
    "                    process_bar += \" \"\n",
    "            process_bar += \"|\"\n",
    "            print(\"\\r\" + (str(info) + \"  {:.2f}% ({}/{})\\t\".format(self.count * 100/self.total_len, self.count,self.total_len)) + str(process_bar).ljust(45) + \"Used: {:02.0f}:{:02.0f}:{:02.0f}\".format(int(t_used/3600), int(t_used/60)%60, t_used % 60).ljust(16) + \"ETA: {:02.0f}:{:02.0f}:{:02.0f}\".format(int(t_remain/3600), int(t_remain/60)%60, t_remain % 60),end=\"\")\n",
    "            self.t_ref = time.time()\n",
    "        if self.count == self.total_len:\n",
    "            t_used = time.time() - self.t_start\n",
    "            print(\"\\r\" + str(info) + \"  Finished in \" +\"{:02.0f}:{:02.0f}:{:02.0f}\".format(int(t_used/3600), int(t_used/60)%60, t_used % 60).ljust(100))"
   ]
  },
  {
   "cell_type": "code",
   "execution_count": 3,
   "metadata": {
    "collapsed": true
   },
   "outputs": [],
   "source": [
    "header = [\n",
    " 'mobile',\n",
    " 'isrc',\n",
    " 'upc',\n",
    " 'artist_name',\n",
    " 'customer_id',\n",
    " 'postal_code',\n",
    " 'access',\n",
    " 'gender',\n",
    " 'birth_year',\n",
    " 'region_code',\n",
    " 'financial_product',\n",
    " 'user_product_type',\n",
    " 'stream_length',\n",
    " 'stream_source_uri',\n",
    " 'stream_device',\n",
    " 'stream_os',\n",
    " 'track_uri']"
   ]
  },
  {
   "cell_type": "code",
   "execution_count": 6,
   "metadata": {},
   "outputs": [
    {
     "name": "stderr",
     "output_type": "stream",
     "text": [
      "/home/hannah/anaconda3/lib/python3.6/site-packages/IPython/core/interactiveshell.py:2717: DtypeWarning: Columns (9) have mixed types. Specify dtype option on import or set low_memory=False.\n",
      "  interactivity=interactivity, compiler=compiler, result=result)\n"
     ]
    }
   ],
   "source": [
    "file = pd.read_csv('artist_jan/Linkin Park.txt', names = header)"
   ]
  },
  {
   "cell_type": "code",
   "execution_count": 7,
   "metadata": {},
   "outputs": [
    {
     "data": {
      "text/plain": [
       "mobile                                                  f\n",
       "isrc                                         USWB11000224\n",
       "upc                                           54391978226\n",
       "artist_name                                   Linkin Park\n",
       "customer_id              08a32cc67e379c720ba30e3fba4bd502\n",
       "postal_code                                            No\n",
       "access                                               free\n",
       "gender                                               male\n",
       "birth_year                                           1991\n",
       "region_code                                           NaN\n",
       "financial_product                                     NaN\n",
       "user_product_type                                      ad\n",
       "stream_length                                         237\n",
       "stream_source_uri                                     NaN\n",
       "stream_device                                     desktop\n",
       "stream_os                                         Windows\n",
       "track_uri            spotify:track:737yse38y2hsWQeNRrLaMY\n",
       "Name: 0, dtype: object"
      ]
     },
     "execution_count": 7,
     "metadata": {},
     "output_type": "execute_result"
    }
   ],
   "source": [
    "file.iloc[0]"
   ]
  },
  {
   "cell_type": "code",
   "execution_count": 9,
   "metadata": {},
   "outputs": [
    {
     "data": {
      "text/plain": [
       "GB-LND    41424\n",
       "GB-BIR     7547\n",
       "GB-MAN     6113\n",
       "GB-SRY     5718\n",
       "GB-SHF     5569\n",
       "GB-ESS     5208\n",
       "GB-GLG     5054\n",
       "GB-KEN     5009\n",
       "GB-NGM     4721\n",
       "GB-LDS     4591\n",
       "GB-HAM     4569\n",
       "GB-BST     4422\n",
       "GB-HRT     3879\n",
       "GB-LIV     3752\n",
       "GB-LAN     3590\n",
       "GB-EDH     3418\n",
       "GB-OXF     3354\n",
       "GB-NTH     3246\n",
       "GB-LCE     3136\n",
       "GB-NFK     3116\n",
       "GB-GLS     3082\n",
       "GB-CAM     2962\n",
       "GB-WSX     2689\n",
       "GB-STE     2678\n",
       "GB-LIN     2620\n",
       "GB-STH     2564\n",
       "GB-NET     2366\n",
       "GB-CRF     2354\n",
       "GB-SFK     2341\n",
       "GB-BNH     2316\n",
       "          ...  \n",
       "GB-CKT       69\n",
       "GB-DGY       67\n",
       "GB-ELN       66\n",
       "GB-ARD       61\n",
       "GB-TRF       60\n",
       "GB-BLA       57\n",
       "GB-MFT       54\n",
       "GB-NYM       53\n",
       "GB-ANT       52\n",
       "GB-LBH       29\n",
       "GB-ELS       27\n",
       "GB-BLY       27\n",
       "GB-DGN       26\n",
       "GB-BNB       25\n",
       "GB-WSM       24\n",
       "GB-OMH       21\n",
       "GB-ZET       19\n",
       "GB-ISL       19\n",
       "GB-LEW       16\n",
       "GB-CMD       14\n",
       "GB-STB       14\n",
       "GB-AGY       14\n",
       "GB-WND        9\n",
       "GB-KEC        7\n",
       "GB-EDU        6\n",
       "GB-DOW        6\n",
       "GB-FER        4\n",
       "GB-WFT        3\n",
       "GB-LMV        2\n",
       "GB-SWK        2\n",
       "Name: region_code, Length: 220, dtype: int64"
      ]
     },
     "execution_count": 9,
     "metadata": {},
     "output_type": "execute_result"
    }
   ],
   "source": [
    "pandas "
   ]
  },
  {
   "cell_type": "code",
   "execution_count": null,
   "metadata": {
    "collapsed": true
   },
   "outputs": [],
   "source": []
  },
  {
   "cell_type": "code",
   "execution_count": 12,
   "metadata": {
    "collapsed": true
   },
   "outputs": [],
   "source": [
    "import os\n",
    "path = 'artist_mar/'\n",
    "out = 'mar/'\n",
    "all_file = os.listdir(path)\n"
   ]
  },
  {
   "cell_type": "code",
   "execution_count": 13,
   "metadata": {},
   "outputs": [
    {
     "data": {
      "text/plain": [
       "25079"
      ]
     },
     "execution_count": 13,
     "metadata": {},
     "output_type": "execute_result"
    }
   ],
   "source": [
    "len(all_file)"
   ]
  },
  {
   "cell_type": "code",
   "execution_count": 14,
   "metadata": {},
   "outputs": [
    {
     "data": {
      "text/plain": [
       "251"
      ]
     },
     "execution_count": 14,
     "metadata": {},
     "output_type": "execute_result"
    }
   ],
   "source": [
    "# need to be split into batches\n",
    "import math\n",
    "batch = 100\n",
    "batch_size = math.ceil(len(all_file)/batch)\n",
    "# index = 0\n",
    "# for i in range(batch):\n",
    "#     files = all_file[index:index+batch_size]\n",
    "batch_size"
   ]
  },
  {
   "cell_type": "code",
   "execution_count": 15,
   "metadata": {
    "collapsed": true
   },
   "outputs": [],
   "source": [
    "all_file[:3]\n",
    "import sys"
   ]
  },
  {
   "cell_type": "code",
   "execution_count": 16,
   "metadata": {
    "scrolled": false
   },
   "outputs": [
    {
     "name": "stdout",
     "output_type": "stream",
     "text": [
      "  Finished in 02:20:49                                                                                            \n"
     ]
    }
   ],
   "source": [
    "large_name = []\n",
    "est_1 = time_est(len(all_file))\n",
    "index = 0\n",
    "count = 0\n",
    "# for i in range(batch):\n",
    "#     files = all_file[i*batch_size:(i+1)*batch_size]\n",
    "# #     count+=(len(files))\n",
    "# for f in files:\n",
    "for f in all_file:\n",
    "#     count+=1\n",
    "#         print(f)\n",
    "\n",
    "    raw_file = pd.read_csv(path+f,names = header,low_memory=False,chunksize = 10**6)\n",
    "    for df in raw_file:\n",
    "        try:\n",
    "            df = (df[df['stream_length']>=100])\n",
    "        except TypeError:\n",
    "                large_name.append(f)\n",
    "                continue\n",
    "        new_df = pd.DataFrame()\n",
    "\n",
    "        new_df['customer_id'] = df['customer_id']\n",
    "        new_df['postal_code'] = df['postal_code']\n",
    "        new_df['region_code'] = df['region_code']\n",
    "\n",
    "        df = 0\n",
    "\n",
    "        location = new_df['region_code'].unique()\n",
    "        est = time_est(len(location))\n",
    "        counts = []\n",
    "        customer = []\n",
    "        for j in location:\n",
    "        #     len(new[new[i]])\n",
    "            if j != 'nan':\n",
    "                counts.append(len(new_df[new_df['region_code']==j]['customer_id'].unique()))\n",
    "                customer.append(list(new_df[new_df['region_code']==j]['customer_id'].unique()))\n",
    "        #     break\n",
    "        # for i in customer:\n",
    "        #     new[new['customer_id']==i]['region_code']\n",
    "        #     location.append(new[new['customer_id']==i]['region_code'].iloc[0])\n",
    "    #             est.check()\n",
    "\n",
    "        rank = pd.DataFrame()\n",
    "        rank['region_code'] = location\n",
    "        rank['loyalty'] = counts\n",
    "        rank['customer'] = customer\n",
    "        if len(rank) > 1:\n",
    "            rank.to_csv(out+f,index = False,mode = 'a')\n",
    "        #         print(f)\n",
    "\n",
    "    est_1.check()\n",
    "#     break"
   ]
  },
  {
   "cell_type": "code",
   "execution_count": null,
   "metadata": {
    "collapsed": true
   },
   "outputs": [],
   "source": [
    "count"
   ]
  },
  {
   "cell_type": "code",
   "execution_count": null,
   "metadata": {
    "collapsed": true
   },
   "outputs": [],
   "source": [
    "jan = os.listdir(out)"
   ]
  },
  {
   "cell_type": "code",
   "execution_count": null,
   "metadata": {
    "collapsed": true
   },
   "outputs": [],
   "source": [
    "len(jan)"
   ]
  },
  {
   "cell_type": "code",
   "execution_count": null,
   "metadata": {
    "collapsed": true
   },
   "outputs": [],
   "source": [
    "aaa = list(set(jan)^set(all_file))\n",
    "aaa"
   ]
  },
  {
   "cell_type": "code",
   "execution_count": null,
   "metadata": {
    "collapsed": true
   },
   "outputs": [],
   "source": [
    "df = pd.read_csv('artist_jan/'+f,names = header,low_memory=False)"
   ]
  },
  {
   "cell_type": "code",
   "execution_count": null,
   "metadata": {
    "collapsed": true
   },
   "outputs": [],
   "source": [
    "df"
   ]
  },
  {
   "cell_type": "code",
   "execution_count": null,
   "metadata": {
    "collapsed": true
   },
   "outputs": [],
   "source": []
  }
 ],
 "metadata": {
  "anaconda-cloud": {},
  "kernelspec": {
   "display_name": "Python 3",
   "language": "python",
   "name": "python3"
  },
  "language_info": {
   "codemirror_mode": {
    "name": "ipython",
    "version": 3
   },
   "file_extension": ".py",
   "mimetype": "text/x-python",
   "name": "python",
   "nbconvert_exporter": "python",
   "pygments_lexer": "ipython3",
   "version": "3.6.1"
  }
 },
 "nbformat": 4,
 "nbformat_minor": 1
}
