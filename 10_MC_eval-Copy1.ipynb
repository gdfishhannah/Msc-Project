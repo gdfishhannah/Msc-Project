{
 "cells": [
  {
   "cell_type": "code",
   "execution_count": 1,
   "metadata": {
    "collapsed": true
   },
   "outputs": [],
   "source": [
    "import pandas as pd\n",
    "import numpy as np\n",
    "import time\n",
    "import os\n",
    "import collections\n",
    "from XFLib import *\n",
    "# class time_est():\n",
    "#     def __init__(self, total_len):\n",
    "#         self.t_start = time.time()\n",
    "#         self.total_len = total_len\n",
    "#         self.count = 0\n",
    "#         self.t_ref = time.time()\n",
    "    \n",
    "#     def check(self,no_of_check=1,info=\"\"):\n",
    "#         self.count += no_of_check\n",
    "#         if time.time() - self.t_ref > 1:\n",
    "#             t_used = time.time() - self.t_start\n",
    "#             t_total = t_used * self.total_len / self.count\n",
    "#             t_remain = t_total - t_used\n",
    "#             process_bar = \"|\"\n",
    "#             for i in range(40):\n",
    "#                 if (i/40) < (self.count/self.total_len):\n",
    "#                     process_bar += \"█\"\n",
    "#                 else:\n",
    "#                     process_bar += \" \"\n",
    "#             process_bar += \"|\"\n",
    "#             print(\"\\r\" + (str(info) + \"  {:.2f}% ({}/{})\\t\".format(self.count * 100/self.total_len, self.count,self.total_len)) + str(process_bar).ljust(45) + \"Used: {:02.0f}:{:02.0f}:{:02.0f}\".format(int(t_used/3600), int(t_used/60)%60, t_used % 60).ljust(16) + \"ETA: {:02.0f}:{:02.0f}:{:02.0f}\".format(int(t_remain/3600), int(t_remain/60)%60, t_remain % 60),end=\"\")\n",
    "#             self.t_ref = time.time()\n",
    "#         if self.count == self.total_len:\n",
    "#             t_used = time.time() - self.t_start\n",
    "#             print(\"\\r\" + str(info) + \"  Finished in \" +\"{:02.0f}:{:02.0f}:{:02.0f}\".format(int(t_used/3600), int(t_used/60)%60, t_used % 60).ljust(100))"
   ]
  },
  {
   "cell_type": "code",
   "execution_count": 2,
   "metadata": {
    "collapsed": true
   },
   "outputs": [],
   "source": [
    "def clean_duplicate(artist_info):\n",
    "    est = time_est(len(artist_info))\n",
    "    cleaned_artist = []\n",
    "    for user in range(len(artist_info)):\n",
    "        user_sequence = artist_info[user]\n",
    "        last = 0\n",
    "        this_sequence = []\n",
    "        for i in range(len(user_sequence)):\n",
    "            this = user_sequence[i]\n",
    "            if this != last:\n",
    "                this_sequence.append(this)\n",
    "            last = this\n",
    "        cleaned_artist.append(this_sequence)\n",
    "        est.check()\n",
    "    return cleaned_artist"
   ]
  },
  {
   "cell_type": "code",
   "execution_count": 3,
   "metadata": {
    "collapsed": true
   },
   "outputs": [],
   "source": [
    "path = 'i2v_sep/'\n",
    "file = os.listdir(path)"
   ]
  },
  {
   "cell_type": "code",
   "execution_count": 4,
   "metadata": {
    "collapsed": true
   },
   "outputs": [],
   "source": [
    "top_artist = np.load('eval/artist.npy')"
   ]
  },
  {
   "cell_type": "code",
   "execution_count": null,
   "metadata": {
    "collapsed": true
   },
   "outputs": [],
   "source": []
  },
  {
   "cell_type": "code",
   "execution_count": 5,
   "metadata": {
    "collapsed": true
   },
   "outputs": [],
   "source": [
    "def get_MC(data_dict):\n",
    "    est = time_est(len(data_dict))\n",
    "    MC = collections.defaultdict()\n",
    "    for i in range(len(data_dict)):\n",
    "        last_item = 0\n",
    "        for item in data_dict[i]:\n",
    "            if last_item !=0:\n",
    "                try:\n",
    "                    MC[last_item][item] +=1\n",
    "                except:\n",
    "                    MC[last_item] = collections.defaultdict(lambda:0)\n",
    "                    MC[last_item][item] +=1\n",
    "            last_item = item\n",
    "        est.check()\n",
    "    return MC"
   ]
  },
  {
   "cell_type": "code",
   "execution_count": 6,
   "metadata": {
    "collapsed": true
   },
   "outputs": [],
   "source": [
    "customer_id_dict = np.load('eval/i2v_cus.npy').item()\n",
    "artist_info = list(customer_id_dict.values())"
   ]
  },
  {
   "cell_type": "code",
   "execution_count": 7,
   "metadata": {},
   "outputs": [
    {
     "name": "stdout",
     "output_type": "stream",
     "text": [
      "Finished in 00:00:29                                                                                            \n"
     ]
    }
   ],
   "source": [
    "artist_info = clean_duplicate(artist_info)"
   ]
  },
  {
   "cell_type": "code",
   "execution_count": 8,
   "metadata": {},
   "outputs": [
    {
     "name": "stdout",
     "output_type": "stream",
     "text": [
      "Finished in 00:00:28                                                                                            \n"
     ]
    }
   ],
   "source": [
    "predict_dict = get_MC(artist_info)"
   ]
  },
  {
   "cell_type": "code",
   "execution_count": 9,
   "metadata": {},
   "outputs": [
    {
     "data": {
      "text/plain": [
       "[[432312, 'Ed Sheeran'],\n",
       " [153923, 'Clean Bandit'],\n",
       " [144907, 'David Guetta'],\n",
       " [103291, 'Coldplay'],\n",
       " [96495, 'Blonde'],\n",
       " [95211, 'Nico & Vinz'],\n",
       " [90218, 'Vance Joy'],\n",
       " [83557, 'LILLYWOOD & Robin Schulz'],\n",
       " [65787, 'Oliver Heldens'],\n",
       " [32143, 'Charli XCX']]"
      ]
     },
     "execution_count": 9,
     "metadata": {},
     "output_type": "execute_result"
    }
   ],
   "source": [
    "import operator\n",
    "recommand_list = []\n",
    "recommand_dict = dict(sorted(predict_dict[\"Echosmith\"].items(), key=operator.itemgetter(1), reverse=True)[:10])\n",
    "for i in recommand_dict:\n",
    "    recommand_list.append([recommand_dict[i],i])\n",
    "\n",
    "list(reversed(sorted(recommand_list)))"
   ]
  },
  {
   "cell_type": "code",
   "execution_count": null,
   "metadata": {
    "collapsed": true
   },
   "outputs": [],
   "source": []
  },
  {
   "cell_type": "code",
   "execution_count": 11,
   "metadata": {},
   "outputs": [],
   "source": [
    "# genres[\"Linkin Park\"]"
   ]
  },
  {
   "cell_type": "code",
   "execution_count": 12,
   "metadata": {
    "collapsed": true
   },
   "outputs": [],
   "source": [
    "genres = np.load('eval/top100artistgenres.npy').item()"
   ]
  },
  {
   "cell_type": "code",
   "execution_count": 13,
   "metadata": {
    "collapsed": true
   },
   "outputs": [],
   "source": [
    "import operator\n",
    "ip = \"Linkin Park\"\n",
    "recommand_list = []\n",
    "recommand_dict = dict(sorted(predict_dict[ip].items(), key=operator.itemgetter(1), reverse=True)[:10])\n",
    "for i in recommand_dict:\n",
    "    recommand_list.append([recommand_dict[i],i])\n",
    "related = list(reversed(sorted(recommand_list)))\n",
    "related = [x[1] for x in related]\n",
    "related = [x for x in related if x != ip]"
   ]
  },
  {
   "cell_type": "code",
   "execution_count": null,
   "metadata": {
    "collapsed": true
   },
   "outputs": [],
   "source": []
  },
  {
   "cell_type": "code",
   "execution_count": 14,
   "metadata": {},
   "outputs": [
    {
     "data": {
      "text/plain": [
       "['Ed Sheeran',\n",
       " 'Green Day',\n",
       " 'Nickelback',\n",
       " 'Red Hot Chili Peppers',\n",
       " 'Slipknot',\n",
       " 'Coldplay',\n",
       " 'David Guetta',\n",
       " 'Paramore',\n",
       " 'My Chemical Romance',\n",
       " 'Muse']"
      ]
     },
     "execution_count": 14,
     "metadata": {},
     "output_type": "execute_result"
    }
   ],
   "source": [
    "related"
   ]
  },
  {
   "cell_type": "code",
   "execution_count": 15,
   "metadata": {},
   "outputs": [
    {
     "name": "stdout",
     "output_type": "stream",
     "text": [
      "0.8\n"
     ]
    }
   ],
   "source": [
    "ip_gen = genres[ip]\n",
    "\n",
    "count = 0\n",
    "for j in related:\n",
    "    for i in genres[j]:\n",
    "        if i in ip_gen:\n",
    "            count+=1\n",
    "            break\n",
    "print(count/10)"
   ]
  },
  {
   "cell_type": "code",
   "execution_count": 16,
   "metadata": {
    "collapsed": true
   },
   "outputs": [],
   "source": [
    "top_artist = np.load('eval/artist.npy')"
   ]
  },
  {
   "cell_type": "code",
   "execution_count": 17,
   "metadata": {
    "collapsed": true,
    "scrolled": true
   },
   "outputs": [],
   "source": [
    "score_list = []\n",
    "\n",
    "\n",
    "for num_pred in range(1,100):\n",
    "    count = 0\n",
    "    for i in top_artist:\n",
    "        ip = i\n",
    "        recommand_list = []\n",
    "        recommand_dict = dict(sorted(predict_dict[ip].items(), key=operator.itemgetter(1), reverse=True)[:num_pred])\n",
    "        for i in recommand_dict:\n",
    "            recommand_list.append([recommand_dict[i],i])\n",
    "        related = list(reversed(sorted(recommand_list)))\n",
    "        related = [x[1] for x in related]\n",
    "        related = [x for x in related if x != ip]\n",
    "        ip_gen = genres[ip]\n",
    "    #     count = 0\n",
    "        for j in related:\n",
    "            for i in genres[j]:\n",
    "                if i in ip_gen:\n",
    "                    count+=1\n",
    "                    break\n",
    "    score_list.append(count/(100*num_pred))"
   ]
  },
  {
   "cell_type": "code",
   "execution_count": 18,
   "metadata": {
    "collapsed": true
   },
   "outputs": [],
   "source": [
    "np.save('eval/mc_eval.npy',score_list)"
   ]
  },
  {
   "cell_type": "code",
   "execution_count": 19,
   "metadata": {},
   "outputs": [
    {
     "data": {
      "image/png": "[encoded data removed]",
      "text/plain": [
       "<matplotlib.figure.Figure at 0x7faa6e804908>"
      ]
     },
     "metadata": {},
     "output_type": "display_data"
    }
   ],
   "source": [
    "import matplotlib.pyplot as plt\n",
    "\n",
    "plt.plot(score_list)\n",
    "plt.show()"
   ]
  },
  {
   "cell_type": "code",
   "execution_count": 20,
   "metadata": {
    "collapsed": true
   },
   "outputs": [],
   "source": [
    "matrix_eval = np.load('matrix_eval.npy').item()"
   ]
  },
  {
   "cell_type": "code",
   "execution_count": 21,
   "metadata": {},
   "outputs": [
    {
     "name": "stdout",
     "output_type": "stream",
     "text": [
      "0.086\n"
     ]
    }
   ],
   "source": [
    "count = 0\n",
    "for i in top_artist:\n",
    "    ip = i\n",
    "    recommand_list = []\n",
    "    recommand_dict = dict(sorted(predict_dict[i].items(), key=operator.itemgetter(1), reverse=True)[:10])\n",
    "    for i in recommand_dict:\n",
    "        recommand_list.append([recommand_dict[i],i])\n",
    "    related = list(reversed(sorted(recommand_list)))\n",
    "    related = [x[1] for x in related]\n",
    "    related = [x for x in related if x != ip]\n",
    "    ip_gen = genres[i]\n",
    "#     count = 0\n",
    "    for j in related:\n",
    "        if j in matrix_eval[i][:10]:\n",
    "            count+=1\n",
    "print(count/1000)"
   ]
  },
  {
   "cell_type": "code",
   "execution_count": 23,
   "metadata": {
    "scrolled": true
   },
   "outputs": [],
   "source": [
    "score_list = []\n",
    "\n",
    "\n",
    "for num_pred in range(1,100):\n",
    "    count = 0\n",
    "    for i in top_artist:\n",
    "        ip = i\n",
    "        recommand_list = []\n",
    "        temp_dict = predict_dict[i].copy()\n",
    "#         try:\n",
    "#             del temp_dict[ip]\n",
    "#         except Exception as e:\n",
    "# #             print(e,1)\n",
    "#             pass\n",
    "        recommand_dict = dict(sorted(temp_dict.items(), key=operator.itemgetter(1), reverse=True)[:num_pred])\n",
    "        for i in recommand_dict:\n",
    "            recommand_list.append([recommand_dict[i],i])\n",
    "        related = list(reversed(sorted(recommand_list)))\n",
    "        related = [x[1] for x in related]\n",
    "#         related = [x for x in related if x != ip]\n",
    "        ip_gen = genres[i]\n",
    "    #     count = 0\n",
    "        correct = 0\n",
    "        for j in related:\n",
    "            if j in matrix_eval[ip][:num_pred]:\n",
    "                correct = 1\n",
    "        count += correct\n",
    "    score_list.append(count/(100))"
   ]
  },
  {
   "cell_type": "code",
   "execution_count": 24,
   "metadata": {},
   "outputs": [
    {
     "data": {
      "image/png": "[encoded data removed]",
      "text/plain": [
       "<matplotlib.figure.Figure at 0x7faa1aa95908>"
      ]
     },
     "metadata": {},
     "output_type": "display_data"
    }
   ],
   "source": [
    "plt.plot(score_list)\n",
    "plt.show()"
   ]
  },
  {
   "cell_type": "code",
   "execution_count": 25,
   "metadata": {},
   "outputs": [],
   "source": [
    "np.save('eval/mc_acc.npy', score_list)"
   ]
  },
  {
   "cell_type": "code",
   "execution_count": null,
   "metadata": {},
   "outputs": [],
   "source": [
    "matrix_eval[i][:3]"
   ]
  },
  {
   "cell_type": "code",
   "execution_count": null,
   "metadata": {
    "scrolled": false
   },
   "outputs": [],
   "source": [
    "recommand_list = []\n",
    "recommand_dict = dict(sorted(temp_dict.items(), key=operator.itemgetter(1), reverse=True)[:3])\n",
    "for i in recommand_dict:\n",
    "    recommand_list.append([recommand_dict[i],i])\n",
    "related = list(reversed(sorted(recommand_list)))\n",
    "related = [x[1] for x in related]\n",
    "related"
   ]
  },
  {
   "cell_type": "code",
   "execution_count": null,
   "metadata": {
    "collapsed": true
   },
   "outputs": [],
   "source": []
  }
 ],
 "metadata": {
  "kernelspec": {
   "display_name": "Python 3",
   "language": "python",
   "name": "python3"
  },
  "language_info": {
   "codemirror_mode": {
    "name": "ipython",
    "version": 3
   },
   "file_extension": ".py",
   "mimetype": "text/x-python",
   "name": "python",
   "nbconvert_exporter": "python",
   "pygments_lexer": "ipython3",
   "version": "3.6.1"
  }
 },
 "nbformat": 4,
 "nbformat_minor": 2
}
