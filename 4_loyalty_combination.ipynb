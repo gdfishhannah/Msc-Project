{
 "cells": [
  {
   "cell_type": "code",
   "execution_count": 26,
   "metadata": {},
   "outputs": [
    {
     "name": "stdout",
     "output_type": "stream",
     "text": [
      "Once deleted, variables cannot be recovered. Proceed (y/[n])? y\n"
     ]
    }
   ],
   "source": [
    "%reset"
   ]
  },
  {
   "cell_type": "code",
   "execution_count": 27,
   "metadata": {
    "collapsed": true
   },
   "outputs": [],
   "source": [
    "import numpy as np # linear algebra\n",
    "import pandas as pd # data processing, CSV file I/O (e.g. pd.read_csv)\n",
    "import os\n",
    "import gc\n",
    "import matplotlib.pyplot as plt\n",
    "import seaborn as sns\n",
    "%matplotlib inline\n",
    "import time"
   ]
  },
  {
   "cell_type": "code",
   "execution_count": 28,
   "metadata": {
    "collapsed": true
   },
   "outputs": [],
   "source": [
    "class time_est():\n",
    "    def __init__(self, total_len):\n",
    "        self.t_start = time.time()\n",
    "        self.total_len = total_len\n",
    "        self.count = 0\n",
    "        self.t_ref = time.time()\n",
    "    \n",
    "    def check(self,no_of_check=1,info=\"\"):\n",
    "        self.count += no_of_check\n",
    "        if time.time() - self.t_ref > 1:\n",
    "            t_used = time.time() - self.t_start\n",
    "            t_total = t_used * self.total_len / self.count\n",
    "            t_remain = t_total - t_used\n",
    "            process_bar = \"|\"\n",
    "            for i in range(40):\n",
    "                if (i/40) < (self.count/self.total_len):\n",
    "                    process_bar += \"█\"\n",
    "                else:\n",
    "                    process_bar += \" \"\n",
    "            process_bar += \"|\"\n",
    "            print(\"\\r\" + (str(info) + \"  {:.2f}% ({}/{})\\t\".format(self.count * 100/self.total_len, self.count,self.total_len)) + str(process_bar).ljust(45) + \"Used: {:02.0f}:{:02.0f}:{:02.0f}\".format(int(t_used/3600), int(t_used/60)%60, t_used % 60).ljust(16) + \"ETA: {:02.0f}:{:02.0f}:{:02.0f}\".format(int(t_remain/3600), int(t_remain/60)%60, t_remain % 60),end=\"\")\n",
    "            self.t_ref = time.time()\n",
    "        if self.count == self.total_len:\n",
    "            t_used = time.time() - self.t_start\n",
    "            print(\"\\r\" + str(info) + \"  Finished in \" +\"{:02.0f}:{:02.0f}:{:02.0f}\".format(int(t_used/3600), int(t_used/60)%60, t_used % 60).ljust(100))"
   ]
  },
  {
   "cell_type": "code",
   "execution_count": 29,
   "metadata": {
    "collapsed": true
   },
   "outputs": [],
   "source": [
    "header = [\n",
    " 'mobile',\n",
    " 'isrc',\n",
    " 'upc',\n",
    " 'artist_name',\n",
    " 'customer_id',\n",
    " 'postal_code',\n",
    " 'access',\n",
    " 'gender',\n",
    " 'birth_year',\n",
    " 'region_code',\n",
    " 'financial_product',\n",
    " 'user_product_type',\n",
    " 'stream_length',\n",
    " 'stream_source_uri',\n",
    " 'stream_device',\n",
    " 'stream_os',\n",
    " 'track_uri']"
   ]
  },
  {
   "cell_type": "code",
   "execution_count": 30,
   "metadata": {},
   "outputs": [],
   "source": [
    "import os\n",
    "# jan_file = os.listdir('jan/')\n",
    "feb_file = os.listdir('feb/')\n",
    "mar_file = os.listdir('mar/')\n"
   ]
  },
  {
   "cell_type": "code",
   "execution_count": 31,
   "metadata": {
    "collapsed": true
   },
   "outputs": [],
   "source": [
    "# jan_art = os.listdir('artist_jan/')"
   ]
  },
  {
   "cell_type": "code",
   "execution_count": 32,
   "metadata": {},
   "outputs": [
    {
     "name": "stdout",
     "output_type": "stream",
     "text": [
      "24594\n",
      "25076\n"
     ]
    }
   ],
   "source": [
    "# print(len(jan_file))\n",
    "print(len(feb_file))\n",
    "print(len(mar_file))"
   ]
  },
  {
   "cell_type": "code",
   "execution_count": 43,
   "metadata": {},
   "outputs": [
    {
     "data": {
      "text/plain": [
       "'Floating Action.txt'"
      ]
     },
     "execution_count": 43,
     "metadata": {},
     "output_type": "execute_result"
    }
   ],
   "source": [
    "list(set(feb_file).intersection(mar_file))[1]"
   ]
  },
  {
   "cell_type": "code",
   "execution_count": 35,
   "metadata": {},
   "outputs": [
    {
     "data": {
      "text/plain": [
       "list"
      ]
     },
     "execution_count": 35,
     "metadata": {},
     "output_type": "execute_result"
    }
   ],
   "source": [
    "type(mar_file)"
   ]
  },
  {
   "cell_type": "code",
   "execution_count": 36,
   "metadata": {},
   "outputs": [
    {
     "name": "stdout",
     "output_type": "stream",
     "text": [
      "Riké.txt\n"
     ]
    }
   ],
   "source": [
    "for i in list(set(feb_file).intersection(mar_file):\n",
    "    print(i)\n",
    "    break"
   ]
  },
  {
   "cell_type": "code",
   "execution_count": 44,
   "metadata": {},
   "outputs": [],
   "source": [
    "feb = pd.read_csv('feb/'+'Floating Action.txt')"
   ]
  },
  {
   "cell_type": "code",
   "execution_count": 45,
   "metadata": {
    "collapsed": true
   },
   "outputs": [],
   "source": [
    "mar = pd.read_csv('mar/'+'Floating Action.txt')"
   ]
  },
  {
   "cell_type": "code",
   "execution_count": 46,
   "metadata": {},
   "outputs": [
    {
     "data": {
      "text/html": [
       "<div>\n",
       "<style>\n",
       "    .dataframe thead tr:only-child th {\n",
       "        text-align: right;\n",
       "    }\n",
       "\n",
       "    .dataframe thead th {\n",
       "        text-align: left;\n",
       "    }\n",
       "\n",
       "    .dataframe tbody tr th {\n",
       "        vertical-align: top;\n",
       "    }\n",
       "</style>\n",
       "<table border=\"1\" class=\"dataframe\">\n",
       "  <thead>\n",
       "    <tr style=\"text-align: right;\">\n",
       "      <th></th>\n",
       "      <th>region_code</th>\n",
       "      <th>loyalty</th>\n",
       "      <th>customer</th>\n",
       "    </tr>\n",
       "  </thead>\n",
       "  <tbody>\n",
       "    <tr>\n",
       "      <th>0</th>\n",
       "      <td>NaN</td>\n",
       "      <td>0</td>\n",
       "      <td>[]</td>\n",
       "    </tr>\n",
       "  </tbody>\n",
       "</table>\n",
       "</div>"
      ],
      "text/plain": [
       "   region_code  loyalty customer\n",
       "0          NaN        0       []"
      ]
     },
     "execution_count": 46,
     "metadata": {},
     "output_type": "execute_result"
    }
   ],
   "source": [
    "feb"
   ]
  },
  {
   "cell_type": "code",
   "execution_count": 47,
   "metadata": {},
   "outputs": [
    {
     "data": {
      "text/html": [
       "<div>\n",
       "<style>\n",
       "    .dataframe thead tr:only-child th {\n",
       "        text-align: right;\n",
       "    }\n",
       "\n",
       "    .dataframe thead th {\n",
       "        text-align: left;\n",
       "    }\n",
       "\n",
       "    .dataframe tbody tr th {\n",
       "        vertical-align: top;\n",
       "    }\n",
       "</style>\n",
       "<table border=\"1\" class=\"dataframe\">\n",
       "  <thead>\n",
       "    <tr style=\"text-align: right;\">\n",
       "      <th></th>\n",
       "      <th>region_code</th>\n",
       "      <th>loyalty</th>\n",
       "      <th>customer</th>\n",
       "    </tr>\n",
       "  </thead>\n",
       "  <tbody>\n",
       "    <tr>\n",
       "      <th>0</th>\n",
       "      <td>NaN</td>\n",
       "      <td>0</td>\n",
       "      <td>[]</td>\n",
       "    </tr>\n",
       "  </tbody>\n",
       "</table>\n",
       "</div>"
      ],
      "text/plain": [
       "   region_code  loyalty customer\n",
       "0          NaN        0       []"
      ]
     },
     "execution_count": 47,
     "metadata": {},
     "output_type": "execute_result"
    }
   ],
   "source": [
    "mar"
   ]
  },
  {
   "cell_type": "code",
   "execution_count": 48,
   "metadata": {},
   "outputs": [
    {
     "data": {
      "text/plain": [
       "35"
      ]
     },
     "execution_count": 48,
     "metadata": {},
     "output_type": "execute_result"
    }
   ],
   "source": [
    "os.path.getsize('feb/'+'Floating Action.txt')"
   ]
  },
  {
   "cell_type": "code",
   "execution_count": null,
   "metadata": {
    "collapsed": true
   },
   "outputs": [],
   "source": []
  }
 ],
 "metadata": {
  "anaconda-cloud": {},
  "kernelspec": {
   "display_name": "Python 3",
   "language": "python",
   "name": "python3"
  },
  "language_info": {
   "codemirror_mode": {
    "name": "ipython",
    "version": 3
   },
   "file_extension": ".py",
   "mimetype": "text/x-python",
   "name": "python",
   "nbconvert_exporter": "python",
   "pygments_lexer": "ipython3",
   "version": "3.6.1"
  }
 },
 "nbformat": 4,
 "nbformat_minor": 1
}
