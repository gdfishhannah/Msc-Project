{
 "cells": [
  {
   "cell_type": "code",
   "execution_count": 1,
   "metadata": {
    "collapsed": true
   },
   "outputs": [],
   "source": [
    "import pandas as pd\n",
    "import numpy as np\n",
    "import time\n",
    "import os\n",
    "import collections\n",
    "from XFLib import *\n",
    "import operator"
   ]
  },
  {
   "cell_type": "code",
   "execution_count": 2,
   "metadata": {
    "collapsed": true
   },
   "outputs": [],
   "source": [
    "path = 'i2v_sep/'"
   ]
  },
  {
   "cell_type": "code",
   "execution_count": 3,
   "metadata": {
    "collapsed": true
   },
   "outputs": [],
   "source": [
    "customer_id_dict = np.load('customer_id_dict.npy').item()"
   ]
  },
  {
   "cell_type": "code",
   "execution_count": 4,
   "metadata": {
    "collapsed": true
   },
   "outputs": [],
   "source": [
    "artist_info = list(customer_id_dict.values())"
   ]
  },
  {
   "cell_type": "code",
   "execution_count": 15,
   "metadata": {},
   "outputs": [],
   "source": [
    "user_sequence = artist_info[0].copy()"
   ]
  },
  {
   "cell_type": "code",
   "execution_count": 21,
   "metadata": {},
   "outputs": [],
   "source": [
    "def clean_duplicate(artist_info):\n",
    "    est = time_est(len(artist_info))\n",
    "    cleaned_artist = []\n",
    "    for user in range(len(artist_info)):\n",
    "        user_sequence = artist_info[user]\n",
    "        last = 0\n",
    "        this_sequence = []\n",
    "        for i in range(len(user_sequence)):\n",
    "            this = user_sequence[i]\n",
    "            if this != last:\n",
    "                this_sequence.append(this)\n",
    "            last = this\n",
    "        cleaned_artist.append(this_sequence)\n",
    "        est.check()\n",
    "    return cleaned_artist\n",
    "                  "
   ]
  },
  {
   "cell_type": "code",
   "execution_count": 22,
   "metadata": {},
   "outputs": [
    {
     "name": "stdout",
     "output_type": "stream",
     "text": [
      "Finished in 00:00:60                                                                                            \n"
     ]
    }
   ],
   "source": [
    "cleaned_artist = clean_duplicate(artist_info)"
   ]
  },
  {
   "cell_type": "code",
   "execution_count": null,
   "metadata": {
    "collapsed": true
   },
   "outputs": [],
   "source": []
  },
  {
   "cell_type": "code",
   "execution_count": 23,
   "metadata": {
    "collapsed": true
   },
   "outputs": [],
   "source": [
    "def get_MC(data_dict):\n",
    "    est = time_est(len(data_dict))\n",
    "    MC = collections.defaultdict()\n",
    "    for i in range(len(data_dict)):\n",
    "        last_item = 0\n",
    "        for item in data_dict[i]:\n",
    "            if last_item !=0:\n",
    "                try:\n",
    "                    MC[last_item][item] +=1\n",
    "                except:\n",
    "                    MC[last_item] = collections.defaultdict(lambda:0)\n",
    "                    MC[last_item][item] +=1\n",
    "            last_item = item\n",
    "        est.check()\n",
    "    return MC"
   ]
  },
  {
   "cell_type": "code",
   "execution_count": 24,
   "metadata": {},
   "outputs": [
    {
     "name": "stdout",
     "output_type": "stream",
     "text": [
      "Finished in 00:01:28                                                                                            \n"
     ]
    }
   ],
   "source": [
    "predict_dict = get_MC(cleaned_artist)"
   ]
  },
  {
   "cell_type": "code",
   "execution_count": 25,
   "metadata": {},
   "outputs": [
    {
     "data": {
      "text/plain": [
       "[[401085, 'Ed Sheeran'],\n",
       " [141087, 'Clean Bandit'],\n",
       " [128191, 'David Guetta'],\n",
       " [91808, 'Coldplay'],\n",
       " [90967, 'Blonde'],\n",
       " [85754, 'Nico & Vinz'],\n",
       " [80948, 'Vance Joy'],\n",
       " [76958, 'LILLYWOOD & Robin Schulz'],\n",
       " [59861, 'Oliver Heldens'],\n",
       " [29074, 'Clean Bandit & Jess Glynne'],\n",
       " [26370, 'Charli XCX']]"
      ]
     },
     "execution_count": 25,
     "metadata": {},
     "output_type": "execute_result"
    }
   ],
   "source": [
    "recommand_list = []\n",
    "recommand_dict = dict(sorted(predict_dict[\"Echosmith\"].items(), key=operator.itemgetter(1), reverse=True)[:11])\n",
    "for i in recommand_dict:\n",
    "    recommand_list.append([recommand_dict[i],i])\n",
    "\n",
    "list(reversed(sorted(recommand_list)))\n",
    "    "
   ]
  },
  {
   "cell_type": "code",
   "execution_count": null,
   "metadata": {
    "collapsed": true
   },
   "outputs": [],
   "source": []
  },
  {
   "cell_type": "code",
   "execution_count": 26,
   "metadata": {
    "collapsed": true
   },
   "outputs": [],
   "source": [
    "genres = np.load('eval/top100artistgenres.npy').item()"
   ]
  },
  {
   "cell_type": "code",
   "execution_count": 31,
   "metadata": {
    "collapsed": true
   },
   "outputs": [],
   "source": [
    "import operator\n",
    "ip = \"Linkin Park\"\n",
    "recommand_list = []\n",
    "recommand_dict = dict(sorted(predict_dict[ip].items(), key=operator.itemgetter(1), reverse=True)[:10])\n",
    "for i in recommand_dict:\n",
    "    recommand_list.append([recommand_dict[i],i])\n",
    "related = list(reversed(sorted(recommand_list)))\n",
    "related = [x[1] for x in related]\n",
    "# related = [x for x in related if x != ip]"
   ]
  },
  {
   "cell_type": "code",
   "execution_count": 32,
   "metadata": {},
   "outputs": [
    {
     "ename": "KeyError",
     "evalue": "'Jay-Z'",
     "output_type": "error",
     "traceback": [
      "\u001b[0;31m---------------------------------------------------------------------------\u001b[0m",
      "\u001b[0;31mKeyError\u001b[0m                                  Traceback (most recent call last)",
      "\u001b[0;32m<ipython-input-32-05b551712a61>\u001b[0m in \u001b[0;36m<module>\u001b[0;34m()\u001b[0m\n\u001b[1;32m      3\u001b[0m \u001b[0mcount\u001b[0m \u001b[0;34m=\u001b[0m \u001b[0;36m0\u001b[0m\u001b[0;34m\u001b[0m\u001b[0m\n\u001b[1;32m      4\u001b[0m \u001b[0;32mfor\u001b[0m \u001b[0mj\u001b[0m \u001b[0;32min\u001b[0m \u001b[0mrelated\u001b[0m\u001b[0;34m:\u001b[0m\u001b[0;34m\u001b[0m\u001b[0m\n\u001b[0;32m----> 5\u001b[0;31m     \u001b[0;32mfor\u001b[0m \u001b[0mi\u001b[0m \u001b[0;32min\u001b[0m \u001b[0mgenres\u001b[0m\u001b[0;34m[\u001b[0m\u001b[0mj\u001b[0m\u001b[0;34m]\u001b[0m\u001b[0;34m:\u001b[0m\u001b[0;34m\u001b[0m\u001b[0m\n\u001b[0m\u001b[1;32m      6\u001b[0m         \u001b[0;32mif\u001b[0m \u001b[0mi\u001b[0m \u001b[0;32min\u001b[0m \u001b[0mip_gen\u001b[0m\u001b[0;34m:\u001b[0m\u001b[0;34m\u001b[0m\u001b[0m\n\u001b[1;32m      7\u001b[0m             \u001b[0mcount\u001b[0m\u001b[0;34m+=\u001b[0m\u001b[0;36m1\u001b[0m\u001b[0;34m\u001b[0m\u001b[0m\n",
      "\u001b[0;31mKeyError\u001b[0m: 'Jay-Z'"
     ]
    }
   ],
   "source": [
    "ip_gen = genres[ip]\n",
    "\n",
    "count = 0\n",
    "for j in related:\n",
    "    for i in genres[j]:\n",
    "        if i in ip_gen:\n",
    "            count+=1\n",
    "            break\n",
    "print(count/10)"
   ]
  },
  {
   "cell_type": "code",
   "execution_count": null,
   "metadata": {
    "collapsed": true
   },
   "outputs": [],
   "source": [
    "top_artist = np.load('eval/artist.npy')"
   ]
  },
  {
   "cell_type": "code",
   "execution_count": null,
   "metadata": {
    "collapsed": true
   },
   "outputs": [],
   "source": [
    "count = 0\n",
    "for i in top_artist:\n",
    "    ip = i\n",
    "    recommand_list = []\n",
    "    recommand_dict = dict(sorted(predict_dict[i].items(), key=operator.itemgetter(1), reverse=True)[:11])\n",
    "    for i in recommand_dict:\n",
    "        recommand_list.append([recommand_dict[i],i])\n",
    "    related = list(reversed(sorted(recommand_list)))\n",
    "    related = [x[1] for x in related]\n",
    "    related = [x for x in related if x != ip]\n",
    "    ip_gen = genres[i]\n",
    "#     count = 0\n",
    "    for j in related:\n",
    "        for i in genres[j]:\n",
    "            if i in ip_gen:\n",
    "                count+=1\n",
    "                break\n",
    "print(count/1000)    "
   ]
  },
  {
   "cell_type": "code",
   "execution_count": null,
   "metadata": {
    "collapsed": true
   },
   "outputs": [],
   "source": []
  }
 ],
 "metadata": {
  "kernelspec": {
   "display_name": "Python 3",
   "language": "python",
   "name": "python3"
  },
  "language_info": {
   "codemirror_mode": {
    "name": "ipython",
    "version": 3
   },
   "file_extension": ".py",
   "mimetype": "text/x-python",
   "name": "python",
   "nbconvert_exporter": "python",
   "pygments_lexer": "ipython3",
   "version": "3.6.1"
  }
 },
 "nbformat": 4,
 "nbformat_minor": 2
}
